{
  "nbformat": 4,
  "nbformat_minor": 0,
  "metadata": {
    "colab": {
      "provenance": [],
      "authorship_tag": "ABX9TyN6InMWLNY0eAiOH9CZsB6c",
      "include_colab_link": true
    },
    "kernelspec": {
      "name": "python3",
      "display_name": "Python 3"
    },
    "language_info": {
      "name": "python"
    }
  },
  "cells": [
    {
      "cell_type": "markdown",
      "metadata": {
        "id": "view-in-github",
        "colab_type": "text"
      },
      "source": [
        "<a href=\"https://colab.research.google.com/github/JMindpalace/Machine_Learning/blob/main/Example/005.%EC%A3%BC%ED%83%9D%20%ED%8C%90%EB%A7%A4%EA%B0%80%EA%B2%A9.ipynb\" target=\"_parent\"><img src=\"https://colab.research.google.com/assets/colab-badge.svg\" alt=\"Open In Colab\"/></a>"
      ]
    },
    {
      "cell_type": "markdown",
      "source": [
        "# 문제 정의\n",
        "> 주택 판매가격 예측<br>\n",
        "> 캐글 기대값: Feature Engineering, Randomforest, boosting"
      ],
      "metadata": {
        "id": "AAx8XfZdnzDP"
      }
    },
    {
      "cell_type": "code",
      "execution_count": 1,
      "metadata": {
        "id": "WWWP8jzYno4x"
      },
      "outputs": [],
      "source": [
        "import pandas as pd\n",
        "import warnings\n",
        "warnings.filterwarnings(action='ignore')"
      ]
    },
    {
      "cell_type": "markdown",
      "source": [
        "# Read Data-set"
      ],
      "metadata": {
        "id": "r70XrTsvn7l2"
      }
    },
    {
      "cell_type": "code",
      "source": [
        "df = pd.read_csv('https://ds-lecture-data.s3.ap-northeast-2.amazonaws.com/house-prices/house_prices_train.csv')\n",
        "df_t = pd.read_csv('https://ds-lecture-data.s3.ap-northeast-2.amazonaws.com/house-prices/house_prices_test.csv')\n",
        "\n",
        "assert df.shape == (1460, 81)\n",
        "assert df_t.shape == (1459, 80)"
      ],
      "metadata": {
        "id": "nf63UEHIn92C"
      },
      "execution_count": 2,
      "outputs": []
    },
    {
      "cell_type": "markdown",
      "source": [
        "# Columns\n",
        "`Independent Variables:`\n",
        "- OverallQual: 전반적인 퀄리티\n",
        "- GrLivArea: 지상 생활면적(square feet)\n",
        "\n",
        "`Dependent Variable:`\n",
        "- SalePrice($): 주택 판매가격"
      ],
      "metadata": {
        "id": "hiRIOm3VoB39"
      }
    },
    {
      "cell_type": "code",
      "source": [
        "df = df[['GrLivArea', 'OverallQual', 'SalePrice']]\n",
        "df_t = df_t[['GrLivArea', 'OverallQual']]"
      ],
      "metadata": {
        "id": "z5AYTiSAA29Z"
      },
      "execution_count": 3,
      "outputs": []
    },
    {
      "cell_type": "code",
      "source": [
        "from sklearn.linear_model import LinearRegression\n",
        "\n",
        "# 특성과 타겟값을 변수에 저장하고 X 행렬과 y 벡터를 만듭니다. \n",
        "features = ['OverallQual', 'GrLivArea']\n",
        "target = 'SalePrice'\n",
        "\n",
        "X = df[features]\n",
        "y = df[target]\n",
        "\n",
        "multiple_ols = LinearRegression()\n",
        "multiple_ols.fit(X, y)\n",
        "\n",
        "interpolate_x_m = [[4000, 5]]\n",
        "interpolate_y_m = multiple_ols.predict(interpolate_x_m)[0]\n",
        "\n",
        "# 외삽\n",
        "extrapolate_x_m = [[6000, 10]]\n",
        "extrapolate_y_m = multiple_ols.predict(extrapolate_x_m)[0]\n",
        "\n",
        "multiple_ols.coef_"
      ],
      "metadata": {
        "colab": {
          "base_uri": "https://localhost:8080/"
        },
        "id": "y-GuBGpge3K8",
        "outputId": "aae6faf1-ce7a-4fca-aeae-1f7e97505bdc"
      },
      "execution_count": 7,
      "outputs": [
        {
          "output_type": "execute_result",
          "data": {
            "text/plain": [
              "array([32849.04744063,    55.86222591])"
            ]
          },
          "metadata": {},
          "execution_count": 7
        }
      ]
    }
  ]
}