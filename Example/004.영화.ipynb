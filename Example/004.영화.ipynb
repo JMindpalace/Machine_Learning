{
  "nbformat": 4,
  "nbformat_minor": 0,
  "metadata": {
    "colab": {
      "provenance": [],
      "authorship_tag": "ABX9TyOjRtbvOhlXb3byEYAnusp/",
      "include_colab_link": true
    },
    "kernelspec": {
      "name": "python3",
      "display_name": "Python 3"
    },
    "language_info": {
      "name": "python"
    }
  },
  "cells": [
    {
      "cell_type": "markdown",
      "metadata": {
        "id": "view-in-github",
        "colab_type": "text"
      },
      "source": [
        "<a href=\"https://colab.research.google.com/github/JMindpalace/Machine_Learning/blob/main/Example/004.%EC%98%81%ED%99%94.ipynb\" target=\"_parent\"><img src=\"https://colab.research.google.com/assets/colab-badge.svg\" alt=\"Open In Colab\"/></a>"
      ]
    },
    {
      "cell_type": "markdown",
      "source": [
        "# 문제 정의\n",
        "> "
      ],
      "metadata": {
        "id": "-QmtqxpK1fKy"
      }
    },
    {
      "cell_type": "code",
      "execution_count": 1,
      "metadata": {
        "id": "-96vJnNk1QPZ"
      },
      "outputs": [],
      "source": [
        "import pandas as pd\n",
        "import numpy as np\n",
        "from google.colab import files"
      ]
    },
    {
      "cell_type": "markdown",
      "source": [
        "# Read Data-set"
      ],
      "metadata": {
        "id": "GPCjMVMT1jM7"
      }
    },
    {
      "cell_type": "code",
      "source": [
        "files.upload()\n",
        "movie = pd.read_csv('movie.csv')"
      ],
      "metadata": {
        "colab": {
          "base_uri": "https://localhost:8080/",
          "height": 76
        },
        "id": "LVXxv2w61bfs",
        "outputId": "100b83a9-58b4-46a7-cb01-278e0febbdf0"
      },
      "execution_count": 19,
      "outputs": [
        {
          "output_type": "display_data",
          "data": {
            "text/plain": [
              "<IPython.core.display.HTML object>"
            ],
            "text/html": [
              "\n",
              "     <input type=\"file\" id=\"files-e732d069-7ae4-4654-8b91-9c111382e805\" name=\"files[]\" multiple disabled\n",
              "        style=\"border:none\" />\n",
              "     <output id=\"result-e732d069-7ae4-4654-8b91-9c111382e805\">\n",
              "      Upload widget is only available when the cell has been executed in the\n",
              "      current browser session. Please rerun this cell to enable.\n",
              "      </output>\n",
              "      <script>// Copyright 2017 Google LLC\n",
              "//\n",
              "// Licensed under the Apache License, Version 2.0 (the \"License\");\n",
              "// you may not use this file except in compliance with the License.\n",
              "// You may obtain a copy of the License at\n",
              "//\n",
              "//      http://www.apache.org/licenses/LICENSE-2.0\n",
              "//\n",
              "// Unless required by applicable law or agreed to in writing, software\n",
              "// distributed under the License is distributed on an \"AS IS\" BASIS,\n",
              "// WITHOUT WARRANTIES OR CONDITIONS OF ANY KIND, either express or implied.\n",
              "// See the License for the specific language governing permissions and\n",
              "// limitations under the License.\n",
              "\n",
              "/**\n",
              " * @fileoverview Helpers for google.colab Python module.\n",
              " */\n",
              "(function(scope) {\n",
              "function span(text, styleAttributes = {}) {\n",
              "  const element = document.createElement('span');\n",
              "  element.textContent = text;\n",
              "  for (const key of Object.keys(styleAttributes)) {\n",
              "    element.style[key] = styleAttributes[key];\n",
              "  }\n",
              "  return element;\n",
              "}\n",
              "\n",
              "// Max number of bytes which will be uploaded at a time.\n",
              "const MAX_PAYLOAD_SIZE = 100 * 1024;\n",
              "\n",
              "function _uploadFiles(inputId, outputId) {\n",
              "  const steps = uploadFilesStep(inputId, outputId);\n",
              "  const outputElement = document.getElementById(outputId);\n",
              "  // Cache steps on the outputElement to make it available for the next call\n",
              "  // to uploadFilesContinue from Python.\n",
              "  outputElement.steps = steps;\n",
              "\n",
              "  return _uploadFilesContinue(outputId);\n",
              "}\n",
              "\n",
              "// This is roughly an async generator (not supported in the browser yet),\n",
              "// where there are multiple asynchronous steps and the Python side is going\n",
              "// to poll for completion of each step.\n",
              "// This uses a Promise to block the python side on completion of each step,\n",
              "// then passes the result of the previous step as the input to the next step.\n",
              "function _uploadFilesContinue(outputId) {\n",
              "  const outputElement = document.getElementById(outputId);\n",
              "  const steps = outputElement.steps;\n",
              "\n",
              "  const next = steps.next(outputElement.lastPromiseValue);\n",
              "  return Promise.resolve(next.value.promise).then((value) => {\n",
              "    // Cache the last promise value to make it available to the next\n",
              "    // step of the generator.\n",
              "    outputElement.lastPromiseValue = value;\n",
              "    return next.value.response;\n",
              "  });\n",
              "}\n",
              "\n",
              "/**\n",
              " * Generator function which is called between each async step of the upload\n",
              " * process.\n",
              " * @param {string} inputId Element ID of the input file picker element.\n",
              " * @param {string} outputId Element ID of the output display.\n",
              " * @return {!Iterable<!Object>} Iterable of next steps.\n",
              " */\n",
              "function* uploadFilesStep(inputId, outputId) {\n",
              "  const inputElement = document.getElementById(inputId);\n",
              "  inputElement.disabled = false;\n",
              "\n",
              "  const outputElement = document.getElementById(outputId);\n",
              "  outputElement.innerHTML = '';\n",
              "\n",
              "  const pickedPromise = new Promise((resolve) => {\n",
              "    inputElement.addEventListener('change', (e) => {\n",
              "      resolve(e.target.files);\n",
              "    });\n",
              "  });\n",
              "\n",
              "  const cancel = document.createElement('button');\n",
              "  inputElement.parentElement.appendChild(cancel);\n",
              "  cancel.textContent = 'Cancel upload';\n",
              "  const cancelPromise = new Promise((resolve) => {\n",
              "    cancel.onclick = () => {\n",
              "      resolve(null);\n",
              "    };\n",
              "  });\n",
              "\n",
              "  // Wait for the user to pick the files.\n",
              "  const files = yield {\n",
              "    promise: Promise.race([pickedPromise, cancelPromise]),\n",
              "    response: {\n",
              "      action: 'starting',\n",
              "    }\n",
              "  };\n",
              "\n",
              "  cancel.remove();\n",
              "\n",
              "  // Disable the input element since further picks are not allowed.\n",
              "  inputElement.disabled = true;\n",
              "\n",
              "  if (!files) {\n",
              "    return {\n",
              "      response: {\n",
              "        action: 'complete',\n",
              "      }\n",
              "    };\n",
              "  }\n",
              "\n",
              "  for (const file of files) {\n",
              "    const li = document.createElement('li');\n",
              "    li.append(span(file.name, {fontWeight: 'bold'}));\n",
              "    li.append(span(\n",
              "        `(${file.type || 'n/a'}) - ${file.size} bytes, ` +\n",
              "        `last modified: ${\n",
              "            file.lastModifiedDate ? file.lastModifiedDate.toLocaleDateString() :\n",
              "                                    'n/a'} - `));\n",
              "    const percent = span('0% done');\n",
              "    li.appendChild(percent);\n",
              "\n",
              "    outputElement.appendChild(li);\n",
              "\n",
              "    const fileDataPromise = new Promise((resolve) => {\n",
              "      const reader = new FileReader();\n",
              "      reader.onload = (e) => {\n",
              "        resolve(e.target.result);\n",
              "      };\n",
              "      reader.readAsArrayBuffer(file);\n",
              "    });\n",
              "    // Wait for the data to be ready.\n",
              "    let fileData = yield {\n",
              "      promise: fileDataPromise,\n",
              "      response: {\n",
              "        action: 'continue',\n",
              "      }\n",
              "    };\n",
              "\n",
              "    // Use a chunked sending to avoid message size limits. See b/62115660.\n",
              "    let position = 0;\n",
              "    do {\n",
              "      const length = Math.min(fileData.byteLength - position, MAX_PAYLOAD_SIZE);\n",
              "      const chunk = new Uint8Array(fileData, position, length);\n",
              "      position += length;\n",
              "\n",
              "      const base64 = btoa(String.fromCharCode.apply(null, chunk));\n",
              "      yield {\n",
              "        response: {\n",
              "          action: 'append',\n",
              "          file: file.name,\n",
              "          data: base64,\n",
              "        },\n",
              "      };\n",
              "\n",
              "      let percentDone = fileData.byteLength === 0 ?\n",
              "          100 :\n",
              "          Math.round((position / fileData.byteLength) * 100);\n",
              "      percent.textContent = `${percentDone}% done`;\n",
              "\n",
              "    } while (position < fileData.byteLength);\n",
              "  }\n",
              "\n",
              "  // All done.\n",
              "  yield {\n",
              "    response: {\n",
              "      action: 'complete',\n",
              "    }\n",
              "  };\n",
              "}\n",
              "\n",
              "scope.google = scope.google || {};\n",
              "scope.google.colab = scope.google.colab || {};\n",
              "scope.google.colab._files = {\n",
              "  _uploadFiles,\n",
              "  _uploadFilesContinue,\n",
              "};\n",
              "})(self);\n",
              "</script> "
            ]
          },
          "metadata": {}
        },
        {
          "output_type": "stream",
          "name": "stdout",
          "text": [
            "Saving movie.csv to movie (2).csv\n"
          ]
        }
      ]
    },
    {
      "cell_type": "markdown",
      "source": [
        "# Columns\n",
        "- `Poster_Link` : IMDB의 포스터 링크\n",
        "- `Series_Title` : 영화 이름\n",
        "- `Released_Year` : 개봉 연도\n",
        "- `Certificate` : 영화 증명\n",
        "- `Runtime` : 영화 시간\n",
        "- `Genre` : 영화 장르\n",
        "- `IMDB_Rating` : IMDB의 평가\n",
        "- `Overview` : 개요\n",
        "- `Meta_score` : 영화 점수(0 ~ 100)\n",
        "- `Director` : 감독 이름\n",
        "- `Star1` , `Star2` , `Star3` , `Star4` : 배우 이름\n",
        "- `Noofvotes` : 총 투표수\n",
        "- `Gross` : 영화 수익"
      ],
      "metadata": {
        "id": "YHiZiiKm1lMp"
      }
    },
    {
      "cell_type": "code",
      "source": [
        "movie.info() # 1,000*15 // 타입 // 결측치 Gross가 가장 큰 결측치"
      ],
      "metadata": {
        "colab": {
          "base_uri": "https://localhost:8080/"
        },
        "id": "vcuAs7bN2Svz",
        "outputId": "61aa1e27-52a2-4ae6-ecaa-7b4807e27c93"
      },
      "execution_count": 20,
      "outputs": [
        {
          "output_type": "stream",
          "name": "stdout",
          "text": [
            "<class 'pandas.core.frame.DataFrame'>\n",
            "RangeIndex: 1000 entries, 0 to 999\n",
            "Data columns (total 16 columns):\n",
            " #   Column         Non-Null Count  Dtype  \n",
            "---  ------         --------------  -----  \n",
            " 0   Poster_Link    1000 non-null   object \n",
            " 1   Series_Title   1000 non-null   object \n",
            " 2   Released_Year  1000 non-null   object \n",
            " 3   Certificate    895 non-null    object \n",
            " 4   Runtime        995 non-null    object \n",
            " 5   Genre          995 non-null    object \n",
            " 6   IMDB_Rating    995 non-null    float64\n",
            " 7   Overview       995 non-null    object \n",
            " 8   Meta_score     841 non-null    float64\n",
            " 9   Director       995 non-null    object \n",
            " 10  Star1          995 non-null    object \n",
            " 11  Star2          995 non-null    object \n",
            " 12  Star3          995 non-null    object \n",
            " 13  Star4          995 non-null    object \n",
            " 14  No_of_Votes    995 non-null    float64\n",
            " 15  Gross          827 non-null    object \n",
            "dtypes: float64(3), object(13)\n",
            "memory usage: 125.1+ KB\n"
          ]
        }
      ]
    },
    {
      "cell_type": "code",
      "source": [
        "# Released_Year에서 숫자가 아닌 데이터는 몇 개? 5개\n",
        "a = movie[ movie.Released_Year.str.contains(r'[^\\d+]') ].index; a"
      ],
      "metadata": {
        "colab": {
          "base_uri": "https://localhost:8080/"
        },
        "id": "K79-U7VF2eN1",
        "outputId": "afc65b68-b4cf-4254-984f-63042f349522"
      },
      "execution_count": 21,
      "outputs": [
        {
          "output_type": "execute_result",
          "data": {
            "text/plain": [
              "Int64Index([105, 121, 951, 966, 975], dtype='int64')"
            ]
          },
          "metadata": {},
          "execution_count": 21
        }
      ]
    },
    {
      "cell_type": "code",
      "source": [
        "# Released_Year에 잘못된 데이터가 들어가 있는 행 삭제\n",
        "movie = movie.drop(a, axis=0)\n",
        "movie.shape"
      ],
      "metadata": {
        "colab": {
          "base_uri": "https://localhost:8080/"
        },
        "id": "KyrqMaW14UCe",
        "outputId": "07af03ec-cbd9-4cae-d4be-55508f4a9033"
      },
      "execution_count": 22,
      "outputs": [
        {
          "output_type": "execute_result",
          "data": {
            "text/plain": [
              "(995, 16)"
            ]
          },
          "metadata": {},
          "execution_count": 22
        }
      ]
    },
    {
      "cell_type": "code",
      "source": [
        "# 결측치 행의 shape\n",
        "movie [movie['Certificate'].isnull() | movie['Meta_score'].isnull() | movie['Gross'].isnull() ].shape"
      ],
      "metadata": {
        "colab": {
          "base_uri": "https://localhost:8080/"
        },
        "id": "Y6PoX1xU4qSh",
        "outputId": "1636dad0-d59b-4d7d-9017-3bb34e19b7e5"
      },
      "execution_count": 23,
      "outputs": [
        {
          "output_type": "execute_result",
          "data": {
            "text/plain": [
              "(284, 16)"
            ]
          },
          "metadata": {},
          "execution_count": 23
        }
      ]
    },
    {
      "cell_type": "code",
      "source": [
        "# Meta_score의 Outlier 정리\n",
        "movie['Meta_score'].describe(); movie_before = movie.copy()\n",
        "\n",
        "before_mean = movie_before['Meta_score'].mean()\n",
        "\n",
        "b = movie.query( 'Meta_score < 0' ).index\n",
        "movie = movie.drop(b, axis=0)\n",
        "\n",
        "after_mean = movie['Meta_score'].mean()\n",
        "\n",
        "(after_mean - before_mean).round(4)"
      ],
      "metadata": {
        "colab": {
          "base_uri": "https://localhost:8080/"
        },
        "id": "dise9oJ-43cC",
        "outputId": "f0b0356b-0f19-4c05-be4f-08663e592e87"
      },
      "execution_count": 24,
      "outputs": [
        {
          "output_type": "execute_result",
          "data": {
            "text/plain": [
              "0.0939"
            ]
          },
          "metadata": {},
          "execution_count": 24
        }
      ]
    },
    {
      "cell_type": "code",
      "source": [
        "# 결측치 확인\n",
        "movie.duplicated().sum()"
      ],
      "metadata": {
        "colab": {
          "base_uri": "https://localhost:8080/"
        },
        "id": "wcVOSG4q5r7v",
        "outputId": "87c706a5-b938-4555-df10-96f621f6e1d4"
      },
      "execution_count": 25,
      "outputs": [
        {
          "output_type": "execute_result",
          "data": {
            "text/plain": [
              "0"
            ]
          },
          "metadata": {},
          "execution_count": 25
        }
      ]
    },
    {
      "cell_type": "code",
      "source": [
        "# Poster_Link의 https://로 시작하지 않는 데이터 >> 시작을 'https://'로 변경\n",
        "last = movie [ movie[\"Poster_Link\"].str.startswith(\"https://\") == False ]\n",
        "z = last.index\n",
        "movie.loc[z, 'Poster_Link'] = 'https://' + movie.loc[z, 'Poster_Link']"
      ],
      "metadata": {
        "id": "0KmIQNkL6uiA"
      },
      "execution_count": 26,
      "outputs": []
    },
    {
      "cell_type": "code",
      "source": [
        "movie = movie.dropna()"
      ],
      "metadata": {
        "id": "Tu3jKQ9a96Sq"
      },
      "execution_count": 27,
      "outputs": []
    },
    {
      "cell_type": "code",
      "source": [
        "# Gross 칼럼의 최대값과 75% 사분위값의 차이는? 이상치 - 834,371,417\n",
        "movie.Gross = movie.Gross.str.replace(',' , '').astype(int)\n",
        "movie.Gross.max() - movie.Gross.quantile(q=0.75)"
      ],
      "metadata": {
        "colab": {
          "base_uri": "https://localhost:8080/"
        },
        "id": "j-q1WppR8Qq2",
        "outputId": "f5636256-0eb3-4eea-be92-6a1b3a975b27"
      },
      "execution_count": 28,
      "outputs": [
        {
          "output_type": "execute_result",
          "data": {
            "text/plain": [
              "834371417.0"
            ]
          },
          "metadata": {},
          "execution_count": 28
        }
      ]
    },
    {
      "cell_type": "code",
      "source": [
        "# Runtime의 평균값은? 123.7\n",
        "movie.Runtime = movie.Runtime.str.replace('min' , '').astype(int)\n",
        "movie.Runtime.mean().round(2)"
      ],
      "metadata": {
        "colab": {
          "base_uri": "https://localhost:8080/"
        },
        "id": "kVrDiZdu_lpD",
        "outputId": "31e1d587-2cfb-4fc2-8246-dccfb9afac38"
      },
      "execution_count": 29,
      "outputs": [
        {
          "output_type": "execute_result",
          "data": {
            "text/plain": [
              "123.7"
            ]
          },
          "metadata": {},
          "execution_count": 29
        }
      ]
    },
    {
      "cell_type": "code",
      "source": [
        "# Poster_Link와 Overview를 제거\n",
        "movie = movie.drop( ['Poster_Link', 'Overview'], axis=1 )\n",
        "movie.shape"
      ],
      "metadata": {
        "colab": {
          "base_uri": "https://localhost:8080/"
        },
        "id": "AOvF8nFiADAA",
        "outputId": "3d6da5f7-a05b-46ea-b84c-b0b794623561"
      },
      "execution_count": 30,
      "outputs": [
        {
          "output_type": "execute_result",
          "data": {
            "text/plain": [
              "(711, 14)"
            ]
          },
          "metadata": {},
          "execution_count": 30
        }
      ]
    },
    {
      "cell_type": "markdown",
      "source": [
        "![image.png](data:image/png;base64,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)"
      ],
      "metadata": {
        "id": "86qF2jbSCz-6"
      }
    },
    {
      "cell_type": "code",
      "source": [
        "# 위의 포맷으로 변경하시오.\n",
        "df = pd.melt(movie, id_vars=['Series_Title', 'Released_Year', 'Certificate', 'Runtime', 'Genre',\n",
        "       'IMDB_Rating', 'Meta_score', 'Director', 'No_of_Votes', 'Gross'] ,\n",
        "       value_vars=['Star1', 'Star2', 'Star3', 'Star4'], var_name='Stars', value_name='Star_Name')\n",
        "df.sort_values(by = ['Series_Title' , 'Stars']).tail()"
      ],
      "metadata": {
        "colab": {
          "base_uri": "https://localhost:8080/",
          "height": 444
        },
        "id": "nAVJq3ZXAQvt",
        "outputId": "0db13e6f-d802-475b-a164-9db656f1b3f0"
      },
      "execution_count": 31,
      "outputs": [
        {
          "output_type": "execute_result",
          "data": {
            "text/plain": [
              "     Series_Title Released_Year Certificate  Runtime  \\\n",
              "2341     Zootopia          2016           U      108   \n",
              "529     Zwartboek          2006           R      145   \n",
              "1240    Zwartboek          2006           R      145   \n",
              "1951    Zwartboek          2006           R      145   \n",
              "2662    Zwartboek          2006           R      145   \n",
              "\n",
              "                             Genre  IMDB_Rating  Meta_score        Director  \\\n",
              "2341  Animation, Adventure, Comedy          8.0        78.0    Byron Howard   \n",
              "529           Drama, Thriller, War          7.7        71.0  Paul Verhoeven   \n",
              "1240          Drama, Thriller, War          7.7        71.0  Paul Verhoeven   \n",
              "1951          Drama, Thriller, War          7.7        71.0  Paul Verhoeven   \n",
              "2662          Drama, Thriller, War          7.7        71.0  Paul Verhoeven   \n",
              "\n",
              "      No_of_Votes      Gross  Stars          Star_Name  \n",
              "2341     434143.0  341268248  Star4      Jason Bateman  \n",
              "529       72643.0    4398392  Star1  Carice van Houten  \n",
              "1240      72643.0    4398392  Star2     Sebastian Koch  \n",
              "1951      72643.0    4398392  Star3       Thom Hoffman  \n",
              "2662      72643.0    4398392  Star4       Halina Reijn  "
            ],
            "text/html": [
              "\n",
              "  <div id=\"df-12f3c161-d250-4c0d-991c-576545728e17\">\n",
              "    <div class=\"colab-df-container\">\n",
              "      <div>\n",
              "<style scoped>\n",
              "    .dataframe tbody tr th:only-of-type {\n",
              "        vertical-align: middle;\n",
              "    }\n",
              "\n",
              "    .dataframe tbody tr th {\n",
              "        vertical-align: top;\n",
              "    }\n",
              "\n",
              "    .dataframe thead th {\n",
              "        text-align: right;\n",
              "    }\n",
              "</style>\n",
              "<table border=\"1\" class=\"dataframe\">\n",
              "  <thead>\n",
              "    <tr style=\"text-align: right;\">\n",
              "      <th></th>\n",
              "      <th>Series_Title</th>\n",
              "      <th>Released_Year</th>\n",
              "      <th>Certificate</th>\n",
              "      <th>Runtime</th>\n",
              "      <th>Genre</th>\n",
              "      <th>IMDB_Rating</th>\n",
              "      <th>Meta_score</th>\n",
              "      <th>Director</th>\n",
              "      <th>No_of_Votes</th>\n",
              "      <th>Gross</th>\n",
              "      <th>Stars</th>\n",
              "      <th>Star_Name</th>\n",
              "    </tr>\n",
              "  </thead>\n",
              "  <tbody>\n",
              "    <tr>\n",
              "      <th>2341</th>\n",
              "      <td>Zootopia</td>\n",
              "      <td>2016</td>\n",
              "      <td>U</td>\n",
              "      <td>108</td>\n",
              "      <td>Animation, Adventure, Comedy</td>\n",
              "      <td>8.0</td>\n",
              "      <td>78.0</td>\n",
              "      <td>Byron Howard</td>\n",
              "      <td>434143.0</td>\n",
              "      <td>341268248</td>\n",
              "      <td>Star4</td>\n",
              "      <td>Jason Bateman</td>\n",
              "    </tr>\n",
              "    <tr>\n",
              "      <th>529</th>\n",
              "      <td>Zwartboek</td>\n",
              "      <td>2006</td>\n",
              "      <td>R</td>\n",
              "      <td>145</td>\n",
              "      <td>Drama, Thriller, War</td>\n",
              "      <td>7.7</td>\n",
              "      <td>71.0</td>\n",
              "      <td>Paul Verhoeven</td>\n",
              "      <td>72643.0</td>\n",
              "      <td>4398392</td>\n",
              "      <td>Star1</td>\n",
              "      <td>Carice van Houten</td>\n",
              "    </tr>\n",
              "    <tr>\n",
              "      <th>1240</th>\n",
              "      <td>Zwartboek</td>\n",
              "      <td>2006</td>\n",
              "      <td>R</td>\n",
              "      <td>145</td>\n",
              "      <td>Drama, Thriller, War</td>\n",
              "      <td>7.7</td>\n",
              "      <td>71.0</td>\n",
              "      <td>Paul Verhoeven</td>\n",
              "      <td>72643.0</td>\n",
              "      <td>4398392</td>\n",
              "      <td>Star2</td>\n",
              "      <td>Sebastian Koch</td>\n",
              "    </tr>\n",
              "    <tr>\n",
              "      <th>1951</th>\n",
              "      <td>Zwartboek</td>\n",
              "      <td>2006</td>\n",
              "      <td>R</td>\n",
              "      <td>145</td>\n",
              "      <td>Drama, Thriller, War</td>\n",
              "      <td>7.7</td>\n",
              "      <td>71.0</td>\n",
              "      <td>Paul Verhoeven</td>\n",
              "      <td>72643.0</td>\n",
              "      <td>4398392</td>\n",
              "      <td>Star3</td>\n",
              "      <td>Thom Hoffman</td>\n",
              "    </tr>\n",
              "    <tr>\n",
              "      <th>2662</th>\n",
              "      <td>Zwartboek</td>\n",
              "      <td>2006</td>\n",
              "      <td>R</td>\n",
              "      <td>145</td>\n",
              "      <td>Drama, Thriller, War</td>\n",
              "      <td>7.7</td>\n",
              "      <td>71.0</td>\n",
              "      <td>Paul Verhoeven</td>\n",
              "      <td>72643.0</td>\n",
              "      <td>4398392</td>\n",
              "      <td>Star4</td>\n",
              "      <td>Halina Reijn</td>\n",
              "    </tr>\n",
              "  </tbody>\n",
              "</table>\n",
              "</div>\n",
              "      <button class=\"colab-df-convert\" onclick=\"convertToInteractive('df-12f3c161-d250-4c0d-991c-576545728e17')\"\n",
              "              title=\"Convert this dataframe to an interactive table.\"\n",
              "              style=\"display:none;\">\n",
              "        \n",
              "  <svg xmlns=\"http://www.w3.org/2000/svg\" height=\"24px\"viewBox=\"0 0 24 24\"\n",
              "       width=\"24px\">\n",
              "    <path d=\"M0 0h24v24H0V0z\" fill=\"none\"/>\n",
              "    <path d=\"M18.56 5.44l.94 2.06.94-2.06 2.06-.94-2.06-.94-.94-2.06-.94 2.06-2.06.94zm-11 1L8.5 8.5l.94-2.06 2.06-.94-2.06-.94L8.5 2.5l-.94 2.06-2.06.94zm10 10l.94 2.06.94-2.06 2.06-.94-2.06-.94-.94-2.06-.94 2.06-2.06.94z\"/><path d=\"M17.41 7.96l-1.37-1.37c-.4-.4-.92-.59-1.43-.59-.52 0-1.04.2-1.43.59L10.3 9.45l-7.72 7.72c-.78.78-.78 2.05 0 2.83L4 21.41c.39.39.9.59 1.41.59.51 0 1.02-.2 1.41-.59l7.78-7.78 2.81-2.81c.8-.78.8-2.07 0-2.86zM5.41 20L4 18.59l7.72-7.72 1.47 1.35L5.41 20z\"/>\n",
              "  </svg>\n",
              "      </button>\n",
              "      \n",
              "  <style>\n",
              "    .colab-df-container {\n",
              "      display:flex;\n",
              "      flex-wrap:wrap;\n",
              "      gap: 12px;\n",
              "    }\n",
              "\n",
              "    .colab-df-convert {\n",
              "      background-color: #E8F0FE;\n",
              "      border: none;\n",
              "      border-radius: 50%;\n",
              "      cursor: pointer;\n",
              "      display: none;\n",
              "      fill: #1967D2;\n",
              "      height: 32px;\n",
              "      padding: 0 0 0 0;\n",
              "      width: 32px;\n",
              "    }\n",
              "\n",
              "    .colab-df-convert:hover {\n",
              "      background-color: #E2EBFA;\n",
              "      box-shadow: 0px 1px 2px rgba(60, 64, 67, 0.3), 0px 1px 3px 1px rgba(60, 64, 67, 0.15);\n",
              "      fill: #174EA6;\n",
              "    }\n",
              "\n",
              "    [theme=dark] .colab-df-convert {\n",
              "      background-color: #3B4455;\n",
              "      fill: #D2E3FC;\n",
              "    }\n",
              "\n",
              "    [theme=dark] .colab-df-convert:hover {\n",
              "      background-color: #434B5C;\n",
              "      box-shadow: 0px 1px 3px 1px rgba(0, 0, 0, 0.15);\n",
              "      filter: drop-shadow(0px 1px 2px rgba(0, 0, 0, 0.3));\n",
              "      fill: #FFFFFF;\n",
              "    }\n",
              "  </style>\n",
              "\n",
              "      <script>\n",
              "        const buttonEl =\n",
              "          document.querySelector('#df-12f3c161-d250-4c0d-991c-576545728e17 button.colab-df-convert');\n",
              "        buttonEl.style.display =\n",
              "          google.colab.kernel.accessAllowed ? 'block' : 'none';\n",
              "\n",
              "        async function convertToInteractive(key) {\n",
              "          const element = document.querySelector('#df-12f3c161-d250-4c0d-991c-576545728e17');\n",
              "          const dataTable =\n",
              "            await google.colab.kernel.invokeFunction('convertToInteractive',\n",
              "                                                     [key], {});\n",
              "          if (!dataTable) return;\n",
              "\n",
              "          const docLinkHtml = 'Like what you see? Visit the ' +\n",
              "            '<a target=\"_blank\" href=https://colab.research.google.com/notebooks/data_table.ipynb>data table notebook</a>'\n",
              "            + ' to learn more about interactive tables.';\n",
              "          element.innerHTML = '';\n",
              "          dataTable['output_type'] = 'display_data';\n",
              "          await google.colab.output.renderOutput(dataTable, element);\n",
              "          const docLink = document.createElement('div');\n",
              "          docLink.innerHTML = docLinkHtml;\n",
              "          element.appendChild(docLink);\n",
              "        }\n",
              "      </script>\n",
              "    </div>\n",
              "  </div>\n",
              "  "
            ]
          },
          "metadata": {},
          "execution_count": 31
        }
      ]
    },
    {
      "cell_type": "code",
      "source": [
        "# concat, merge, join\n",
        "df1 = pd.DataFrame({'a':['a0','a1','a2','a3'],\n",
        "                   'b':['b0','b1','b2','b3'],\n",
        "                   'c':['c0','c1','c2','c3']},\n",
        "                  index = [0,1,2,3])\n",
        "\n",
        "df2 = pd.DataFrame({'a':['a2','a3','a4','a5'],\n",
        "                   'b':['b2','b3','b4','b5'],\n",
        "                   'c':['c2','c3','c4','c5'],\n",
        "                   'd':['d2','d3','d4','d5']},\n",
        "                   index = [2,3,4,5])"
      ],
      "metadata": {
        "id": "nwgRBpHqDH8g"
      },
      "execution_count": 32,
      "outputs": []
    },
    {
      "cell_type": "code",
      "source": [
        "# concat 열 병합 , 행 병합\n",
        "pd.concat( [df1, df2], ignore_index=True, axis=1 )\n",
        "pd.concat( [df1, df2], ignore_index=True )"
      ],
      "metadata": {
        "colab": {
          "base_uri": "https://localhost:8080/",
          "height": 300
        },
        "id": "t3B06aJoDOyd",
        "outputId": "a00509d8-de84-4920-d1d0-3b5dcdda1cdc"
      },
      "execution_count": 33,
      "outputs": [
        {
          "output_type": "execute_result",
          "data": {
            "text/plain": [
              "    a   b   c    d\n",
              "0  a0  b0  c0  NaN\n",
              "1  a1  b1  c1  NaN\n",
              "2  a2  b2  c2  NaN\n",
              "3  a3  b3  c3  NaN\n",
              "4  a2  b2  c2   d2\n",
              "5  a3  b3  c3   d3\n",
              "6  a4  b4  c4   d4\n",
              "7  a5  b5  c5   d5"
            ],
            "text/html": [
              "\n",
              "  <div id=\"df-9d1e8160-4bc9-4e5a-9aab-6c84648d6216\">\n",
              "    <div class=\"colab-df-container\">\n",
              "      <div>\n",
              "<style scoped>\n",
              "    .dataframe tbody tr th:only-of-type {\n",
              "        vertical-align: middle;\n",
              "    }\n",
              "\n",
              "    .dataframe tbody tr th {\n",
              "        vertical-align: top;\n",
              "    }\n",
              "\n",
              "    .dataframe thead th {\n",
              "        text-align: right;\n",
              "    }\n",
              "</style>\n",
              "<table border=\"1\" class=\"dataframe\">\n",
              "  <thead>\n",
              "    <tr style=\"text-align: right;\">\n",
              "      <th></th>\n",
              "      <th>a</th>\n",
              "      <th>b</th>\n",
              "      <th>c</th>\n",
              "      <th>d</th>\n",
              "    </tr>\n",
              "  </thead>\n",
              "  <tbody>\n",
              "    <tr>\n",
              "      <th>0</th>\n",
              "      <td>a0</td>\n",
              "      <td>b0</td>\n",
              "      <td>c0</td>\n",
              "      <td>NaN</td>\n",
              "    </tr>\n",
              "    <tr>\n",
              "      <th>1</th>\n",
              "      <td>a1</td>\n",
              "      <td>b1</td>\n",
              "      <td>c1</td>\n",
              "      <td>NaN</td>\n",
              "    </tr>\n",
              "    <tr>\n",
              "      <th>2</th>\n",
              "      <td>a2</td>\n",
              "      <td>b2</td>\n",
              "      <td>c2</td>\n",
              "      <td>NaN</td>\n",
              "    </tr>\n",
              "    <tr>\n",
              "      <th>3</th>\n",
              "      <td>a3</td>\n",
              "      <td>b3</td>\n",
              "      <td>c3</td>\n",
              "      <td>NaN</td>\n",
              "    </tr>\n",
              "    <tr>\n",
              "      <th>4</th>\n",
              "      <td>a2</td>\n",
              "      <td>b2</td>\n",
              "      <td>c2</td>\n",
              "      <td>d2</td>\n",
              "    </tr>\n",
              "    <tr>\n",
              "      <th>5</th>\n",
              "      <td>a3</td>\n",
              "      <td>b3</td>\n",
              "      <td>c3</td>\n",
              "      <td>d3</td>\n",
              "    </tr>\n",
              "    <tr>\n",
              "      <th>6</th>\n",
              "      <td>a4</td>\n",
              "      <td>b4</td>\n",
              "      <td>c4</td>\n",
              "      <td>d4</td>\n",
              "    </tr>\n",
              "    <tr>\n",
              "      <th>7</th>\n",
              "      <td>a5</td>\n",
              "      <td>b5</td>\n",
              "      <td>c5</td>\n",
              "      <td>d5</td>\n",
              "    </tr>\n",
              "  </tbody>\n",
              "</table>\n",
              "</div>\n",
              "      <button class=\"colab-df-convert\" onclick=\"convertToInteractive('df-9d1e8160-4bc9-4e5a-9aab-6c84648d6216')\"\n",
              "              title=\"Convert this dataframe to an interactive table.\"\n",
              "              style=\"display:none;\">\n",
              "        \n",
              "  <svg xmlns=\"http://www.w3.org/2000/svg\" height=\"24px\"viewBox=\"0 0 24 24\"\n",
              "       width=\"24px\">\n",
              "    <path d=\"M0 0h24v24H0V0z\" fill=\"none\"/>\n",
              "    <path d=\"M18.56 5.44l.94 2.06.94-2.06 2.06-.94-2.06-.94-.94-2.06-.94 2.06-2.06.94zm-11 1L8.5 8.5l.94-2.06 2.06-.94-2.06-.94L8.5 2.5l-.94 2.06-2.06.94zm10 10l.94 2.06.94-2.06 2.06-.94-2.06-.94-.94-2.06-.94 2.06-2.06.94z\"/><path d=\"M17.41 7.96l-1.37-1.37c-.4-.4-.92-.59-1.43-.59-.52 0-1.04.2-1.43.59L10.3 9.45l-7.72 7.72c-.78.78-.78 2.05 0 2.83L4 21.41c.39.39.9.59 1.41.59.51 0 1.02-.2 1.41-.59l7.78-7.78 2.81-2.81c.8-.78.8-2.07 0-2.86zM5.41 20L4 18.59l7.72-7.72 1.47 1.35L5.41 20z\"/>\n",
              "  </svg>\n",
              "      </button>\n",
              "      \n",
              "  <style>\n",
              "    .colab-df-container {\n",
              "      display:flex;\n",
              "      flex-wrap:wrap;\n",
              "      gap: 12px;\n",
              "    }\n",
              "\n",
              "    .colab-df-convert {\n",
              "      background-color: #E8F0FE;\n",
              "      border: none;\n",
              "      border-radius: 50%;\n",
              "      cursor: pointer;\n",
              "      display: none;\n",
              "      fill: #1967D2;\n",
              "      height: 32px;\n",
              "      padding: 0 0 0 0;\n",
              "      width: 32px;\n",
              "    }\n",
              "\n",
              "    .colab-df-convert:hover {\n",
              "      background-color: #E2EBFA;\n",
              "      box-shadow: 0px 1px 2px rgba(60, 64, 67, 0.3), 0px 1px 3px 1px rgba(60, 64, 67, 0.15);\n",
              "      fill: #174EA6;\n",
              "    }\n",
              "\n",
              "    [theme=dark] .colab-df-convert {\n",
              "      background-color: #3B4455;\n",
              "      fill: #D2E3FC;\n",
              "    }\n",
              "\n",
              "    [theme=dark] .colab-df-convert:hover {\n",
              "      background-color: #434B5C;\n",
              "      box-shadow: 0px 1px 3px 1px rgba(0, 0, 0, 0.15);\n",
              "      filter: drop-shadow(0px 1px 2px rgba(0, 0, 0, 0.3));\n",
              "      fill: #FFFFFF;\n",
              "    }\n",
              "  </style>\n",
              "\n",
              "      <script>\n",
              "        const buttonEl =\n",
              "          document.querySelector('#df-9d1e8160-4bc9-4e5a-9aab-6c84648d6216 button.colab-df-convert');\n",
              "        buttonEl.style.display =\n",
              "          google.colab.kernel.accessAllowed ? 'block' : 'none';\n",
              "\n",
              "        async function convertToInteractive(key) {\n",
              "          const element = document.querySelector('#df-9d1e8160-4bc9-4e5a-9aab-6c84648d6216');\n",
              "          const dataTable =\n",
              "            await google.colab.kernel.invokeFunction('convertToInteractive',\n",
              "                                                     [key], {});\n",
              "          if (!dataTable) return;\n",
              "\n",
              "          const docLinkHtml = 'Like what you see? Visit the ' +\n",
              "            '<a target=\"_blank\" href=https://colab.research.google.com/notebooks/data_table.ipynb>data table notebook</a>'\n",
              "            + ' to learn more about interactive tables.';\n",
              "          element.innerHTML = '';\n",
              "          dataTable['output_type'] = 'display_data';\n",
              "          await google.colab.output.renderOutput(dataTable, element);\n",
              "          const docLink = document.createElement('div');\n",
              "          docLink.innerHTML = docLinkHtml;\n",
              "          element.appendChild(docLink);\n",
              "        }\n",
              "      </script>\n",
              "    </div>\n",
              "  </div>\n",
              "  "
            ]
          },
          "metadata": {},
          "execution_count": 33
        }
      ]
    },
    {
      "cell_type": "code",
      "source": [
        "# merge\n",
        "df1.merge(df2, how='inner' , on = ['a'] )\n",
        "df1.merge(df2, how='outer' , on = ['a'] )\n",
        "df1.merge(df2, how='left' , on = ['a'] )\n",
        "df1.merge(df2, how='right' , on = ['a'] )"
      ],
      "metadata": {
        "colab": {
          "base_uri": "https://localhost:8080/",
          "height": 175
        },
        "id": "oxa0VVcuDO-O",
        "outputId": "ce2e33c1-38a8-4a46-ba8a-f6579596c019"
      },
      "execution_count": 34,
      "outputs": [
        {
          "output_type": "execute_result",
          "data": {
            "text/plain": [
              "    a  b_x  c_x b_y c_y   d\n",
              "0  a2   b2   c2  b2  c2  d2\n",
              "1  a3   b3   c3  b3  c3  d3\n",
              "2  a4  NaN  NaN  b4  c4  d4\n",
              "3  a5  NaN  NaN  b5  c5  d5"
            ],
            "text/html": [
              "\n",
              "  <div id=\"df-939e782c-cf25-4f36-9d70-38a22b0773de\">\n",
              "    <div class=\"colab-df-container\">\n",
              "      <div>\n",
              "<style scoped>\n",
              "    .dataframe tbody tr th:only-of-type {\n",
              "        vertical-align: middle;\n",
              "    }\n",
              "\n",
              "    .dataframe tbody tr th {\n",
              "        vertical-align: top;\n",
              "    }\n",
              "\n",
              "    .dataframe thead th {\n",
              "        text-align: right;\n",
              "    }\n",
              "</style>\n",
              "<table border=\"1\" class=\"dataframe\">\n",
              "  <thead>\n",
              "    <tr style=\"text-align: right;\">\n",
              "      <th></th>\n",
              "      <th>a</th>\n",
              "      <th>b_x</th>\n",
              "      <th>c_x</th>\n",
              "      <th>b_y</th>\n",
              "      <th>c_y</th>\n",
              "      <th>d</th>\n",
              "    </tr>\n",
              "  </thead>\n",
              "  <tbody>\n",
              "    <tr>\n",
              "      <th>0</th>\n",
              "      <td>a2</td>\n",
              "      <td>b2</td>\n",
              "      <td>c2</td>\n",
              "      <td>b2</td>\n",
              "      <td>c2</td>\n",
              "      <td>d2</td>\n",
              "    </tr>\n",
              "    <tr>\n",
              "      <th>1</th>\n",
              "      <td>a3</td>\n",
              "      <td>b3</td>\n",
              "      <td>c3</td>\n",
              "      <td>b3</td>\n",
              "      <td>c3</td>\n",
              "      <td>d3</td>\n",
              "    </tr>\n",
              "    <tr>\n",
              "      <th>2</th>\n",
              "      <td>a4</td>\n",
              "      <td>NaN</td>\n",
              "      <td>NaN</td>\n",
              "      <td>b4</td>\n",
              "      <td>c4</td>\n",
              "      <td>d4</td>\n",
              "    </tr>\n",
              "    <tr>\n",
              "      <th>3</th>\n",
              "      <td>a5</td>\n",
              "      <td>NaN</td>\n",
              "      <td>NaN</td>\n",
              "      <td>b5</td>\n",
              "      <td>c5</td>\n",
              "      <td>d5</td>\n",
              "    </tr>\n",
              "  </tbody>\n",
              "</table>\n",
              "</div>\n",
              "      <button class=\"colab-df-convert\" onclick=\"convertToInteractive('df-939e782c-cf25-4f36-9d70-38a22b0773de')\"\n",
              "              title=\"Convert this dataframe to an interactive table.\"\n",
              "              style=\"display:none;\">\n",
              "        \n",
              "  <svg xmlns=\"http://www.w3.org/2000/svg\" height=\"24px\"viewBox=\"0 0 24 24\"\n",
              "       width=\"24px\">\n",
              "    <path d=\"M0 0h24v24H0V0z\" fill=\"none\"/>\n",
              "    <path d=\"M18.56 5.44l.94 2.06.94-2.06 2.06-.94-2.06-.94-.94-2.06-.94 2.06-2.06.94zm-11 1L8.5 8.5l.94-2.06 2.06-.94-2.06-.94L8.5 2.5l-.94 2.06-2.06.94zm10 10l.94 2.06.94-2.06 2.06-.94-2.06-.94-.94-2.06-.94 2.06-2.06.94z\"/><path d=\"M17.41 7.96l-1.37-1.37c-.4-.4-.92-.59-1.43-.59-.52 0-1.04.2-1.43.59L10.3 9.45l-7.72 7.72c-.78.78-.78 2.05 0 2.83L4 21.41c.39.39.9.59 1.41.59.51 0 1.02-.2 1.41-.59l7.78-7.78 2.81-2.81c.8-.78.8-2.07 0-2.86zM5.41 20L4 18.59l7.72-7.72 1.47 1.35L5.41 20z\"/>\n",
              "  </svg>\n",
              "      </button>\n",
              "      \n",
              "  <style>\n",
              "    .colab-df-container {\n",
              "      display:flex;\n",
              "      flex-wrap:wrap;\n",
              "      gap: 12px;\n",
              "    }\n",
              "\n",
              "    .colab-df-convert {\n",
              "      background-color: #E8F0FE;\n",
              "      border: none;\n",
              "      border-radius: 50%;\n",
              "      cursor: pointer;\n",
              "      display: none;\n",
              "      fill: #1967D2;\n",
              "      height: 32px;\n",
              "      padding: 0 0 0 0;\n",
              "      width: 32px;\n",
              "    }\n",
              "\n",
              "    .colab-df-convert:hover {\n",
              "      background-color: #E2EBFA;\n",
              "      box-shadow: 0px 1px 2px rgba(60, 64, 67, 0.3), 0px 1px 3px 1px rgba(60, 64, 67, 0.15);\n",
              "      fill: #174EA6;\n",
              "    }\n",
              "\n",
              "    [theme=dark] .colab-df-convert {\n",
              "      background-color: #3B4455;\n",
              "      fill: #D2E3FC;\n",
              "    }\n",
              "\n",
              "    [theme=dark] .colab-df-convert:hover {\n",
              "      background-color: #434B5C;\n",
              "      box-shadow: 0px 1px 3px 1px rgba(0, 0, 0, 0.15);\n",
              "      filter: drop-shadow(0px 1px 2px rgba(0, 0, 0, 0.3));\n",
              "      fill: #FFFFFF;\n",
              "    }\n",
              "  </style>\n",
              "\n",
              "      <script>\n",
              "        const buttonEl =\n",
              "          document.querySelector('#df-939e782c-cf25-4f36-9d70-38a22b0773de button.colab-df-convert');\n",
              "        buttonEl.style.display =\n",
              "          google.colab.kernel.accessAllowed ? 'block' : 'none';\n",
              "\n",
              "        async function convertToInteractive(key) {\n",
              "          const element = document.querySelector('#df-939e782c-cf25-4f36-9d70-38a22b0773de');\n",
              "          const dataTable =\n",
              "            await google.colab.kernel.invokeFunction('convertToInteractive',\n",
              "                                                     [key], {});\n",
              "          if (!dataTable) return;\n",
              "\n",
              "          const docLinkHtml = 'Like what you see? Visit the ' +\n",
              "            '<a target=\"_blank\" href=https://colab.research.google.com/notebooks/data_table.ipynb>data table notebook</a>'\n",
              "            + ' to learn more about interactive tables.';\n",
              "          element.innerHTML = '';\n",
              "          dataTable['output_type'] = 'display_data';\n",
              "          await google.colab.output.renderOutput(dataTable, element);\n",
              "          const docLink = document.createElement('div');\n",
              "          docLink.innerHTML = docLinkHtml;\n",
              "          element.appendChild(docLink);\n",
              "        }\n",
              "      </script>\n",
              "    </div>\n",
              "  </div>\n",
              "  "
            ]
          },
          "metadata": {},
          "execution_count": 34
        }
      ]
    },
    {
      "cell_type": "code",
      "source": [
        "df1.join(df2, how='right', lsuffix='_x', rsuffix='_y')"
      ],
      "metadata": {
        "colab": {
          "base_uri": "https://localhost:8080/",
          "height": 175
        },
        "id": "zufDbhqlDPB0",
        "outputId": "70f94106-8ca3-4dc9-ada9-0f7ae9b68885"
      },
      "execution_count": 35,
      "outputs": [
        {
          "output_type": "execute_result",
          "data": {
            "text/plain": [
              "   a_x  b_x  c_x a_y b_y c_y   d\n",
              "2   a2   b2   c2  a2  b2  c2  d2\n",
              "3   a3   b3   c3  a3  b3  c3  d3\n",
              "4  NaN  NaN  NaN  a4  b4  c4  d4\n",
              "5  NaN  NaN  NaN  a5  b5  c5  d5"
            ],
            "text/html": [
              "\n",
              "  <div id=\"df-2827ad7c-a351-4ce5-a1ee-675c2409ff7b\">\n",
              "    <div class=\"colab-df-container\">\n",
              "      <div>\n",
              "<style scoped>\n",
              "    .dataframe tbody tr th:only-of-type {\n",
              "        vertical-align: middle;\n",
              "    }\n",
              "\n",
              "    .dataframe tbody tr th {\n",
              "        vertical-align: top;\n",
              "    }\n",
              "\n",
              "    .dataframe thead th {\n",
              "        text-align: right;\n",
              "    }\n",
              "</style>\n",
              "<table border=\"1\" class=\"dataframe\">\n",
              "  <thead>\n",
              "    <tr style=\"text-align: right;\">\n",
              "      <th></th>\n",
              "      <th>a_x</th>\n",
              "      <th>b_x</th>\n",
              "      <th>c_x</th>\n",
              "      <th>a_y</th>\n",
              "      <th>b_y</th>\n",
              "      <th>c_y</th>\n",
              "      <th>d</th>\n",
              "    </tr>\n",
              "  </thead>\n",
              "  <tbody>\n",
              "    <tr>\n",
              "      <th>2</th>\n",
              "      <td>a2</td>\n",
              "      <td>b2</td>\n",
              "      <td>c2</td>\n",
              "      <td>a2</td>\n",
              "      <td>b2</td>\n",
              "      <td>c2</td>\n",
              "      <td>d2</td>\n",
              "    </tr>\n",
              "    <tr>\n",
              "      <th>3</th>\n",
              "      <td>a3</td>\n",
              "      <td>b3</td>\n",
              "      <td>c3</td>\n",
              "      <td>a3</td>\n",
              "      <td>b3</td>\n",
              "      <td>c3</td>\n",
              "      <td>d3</td>\n",
              "    </tr>\n",
              "    <tr>\n",
              "      <th>4</th>\n",
              "      <td>NaN</td>\n",
              "      <td>NaN</td>\n",
              "      <td>NaN</td>\n",
              "      <td>a4</td>\n",
              "      <td>b4</td>\n",
              "      <td>c4</td>\n",
              "      <td>d4</td>\n",
              "    </tr>\n",
              "    <tr>\n",
              "      <th>5</th>\n",
              "      <td>NaN</td>\n",
              "      <td>NaN</td>\n",
              "      <td>NaN</td>\n",
              "      <td>a5</td>\n",
              "      <td>b5</td>\n",
              "      <td>c5</td>\n",
              "      <td>d5</td>\n",
              "    </tr>\n",
              "  </tbody>\n",
              "</table>\n",
              "</div>\n",
              "      <button class=\"colab-df-convert\" onclick=\"convertToInteractive('df-2827ad7c-a351-4ce5-a1ee-675c2409ff7b')\"\n",
              "              title=\"Convert this dataframe to an interactive table.\"\n",
              "              style=\"display:none;\">\n",
              "        \n",
              "  <svg xmlns=\"http://www.w3.org/2000/svg\" height=\"24px\"viewBox=\"0 0 24 24\"\n",
              "       width=\"24px\">\n",
              "    <path d=\"M0 0h24v24H0V0z\" fill=\"none\"/>\n",
              "    <path d=\"M18.56 5.44l.94 2.06.94-2.06 2.06-.94-2.06-.94-.94-2.06-.94 2.06-2.06.94zm-11 1L8.5 8.5l.94-2.06 2.06-.94-2.06-.94L8.5 2.5l-.94 2.06-2.06.94zm10 10l.94 2.06.94-2.06 2.06-.94-2.06-.94-.94-2.06-.94 2.06-2.06.94z\"/><path d=\"M17.41 7.96l-1.37-1.37c-.4-.4-.92-.59-1.43-.59-.52 0-1.04.2-1.43.59L10.3 9.45l-7.72 7.72c-.78.78-.78 2.05 0 2.83L4 21.41c.39.39.9.59 1.41.59.51 0 1.02-.2 1.41-.59l7.78-7.78 2.81-2.81c.8-.78.8-2.07 0-2.86zM5.41 20L4 18.59l7.72-7.72 1.47 1.35L5.41 20z\"/>\n",
              "  </svg>\n",
              "      </button>\n",
              "      \n",
              "  <style>\n",
              "    .colab-df-container {\n",
              "      display:flex;\n",
              "      flex-wrap:wrap;\n",
              "      gap: 12px;\n",
              "    }\n",
              "\n",
              "    .colab-df-convert {\n",
              "      background-color: #E8F0FE;\n",
              "      border: none;\n",
              "      border-radius: 50%;\n",
              "      cursor: pointer;\n",
              "      display: none;\n",
              "      fill: #1967D2;\n",
              "      height: 32px;\n",
              "      padding: 0 0 0 0;\n",
              "      width: 32px;\n",
              "    }\n",
              "\n",
              "    .colab-df-convert:hover {\n",
              "      background-color: #E2EBFA;\n",
              "      box-shadow: 0px 1px 2px rgba(60, 64, 67, 0.3), 0px 1px 3px 1px rgba(60, 64, 67, 0.15);\n",
              "      fill: #174EA6;\n",
              "    }\n",
              "\n",
              "    [theme=dark] .colab-df-convert {\n",
              "      background-color: #3B4455;\n",
              "      fill: #D2E3FC;\n",
              "    }\n",
              "\n",
              "    [theme=dark] .colab-df-convert:hover {\n",
              "      background-color: #434B5C;\n",
              "      box-shadow: 0px 1px 3px 1px rgba(0, 0, 0, 0.15);\n",
              "      filter: drop-shadow(0px 1px 2px rgba(0, 0, 0, 0.3));\n",
              "      fill: #FFFFFF;\n",
              "    }\n",
              "  </style>\n",
              "\n",
              "      <script>\n",
              "        const buttonEl =\n",
              "          document.querySelector('#df-2827ad7c-a351-4ce5-a1ee-675c2409ff7b button.colab-df-convert');\n",
              "        buttonEl.style.display =\n",
              "          google.colab.kernel.accessAllowed ? 'block' : 'none';\n",
              "\n",
              "        async function convertToInteractive(key) {\n",
              "          const element = document.querySelector('#df-2827ad7c-a351-4ce5-a1ee-675c2409ff7b');\n",
              "          const dataTable =\n",
              "            await google.colab.kernel.invokeFunction('convertToInteractive',\n",
              "                                                     [key], {});\n",
              "          if (!dataTable) return;\n",
              "\n",
              "          const docLinkHtml = 'Like what you see? Visit the ' +\n",
              "            '<a target=\"_blank\" href=https://colab.research.google.com/notebooks/data_table.ipynb>data table notebook</a>'\n",
              "            + ' to learn more about interactive tables.';\n",
              "          element.innerHTML = '';\n",
              "          dataTable['output_type'] = 'display_data';\n",
              "          await google.colab.output.renderOutput(dataTable, element);\n",
              "          const docLink = document.createElement('div');\n",
              "          docLink.innerHTML = docLinkHtml;\n",
              "          element.appendChild(docLink);\n",
              "        }\n",
              "      </script>\n",
              "    </div>\n",
              "  </div>\n",
              "  "
            ]
          },
          "metadata": {},
          "execution_count": 35
        }
      ]
    }
  ]
}