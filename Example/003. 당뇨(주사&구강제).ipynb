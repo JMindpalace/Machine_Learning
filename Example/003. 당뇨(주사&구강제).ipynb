{
  "nbformat": 4,
  "nbformat_minor": 0,
  "metadata": {
    "colab": {
      "provenance": [],
      "authorship_tag": "ABX9TyPRXFH4oR8EPDO+7YrpMEDd",
      "include_colab_link": true
    },
    "kernelspec": {
      "name": "python3",
      "display_name": "Python 3"
    },
    "language_info": {
      "name": "python"
    }
  },
  "cells": [
    {
      "cell_type": "markdown",
      "metadata": {
        "id": "view-in-github",
        "colab_type": "text"
      },
      "source": [
        "<a href=\"https://colab.research.google.com/github/JMindpalace/Machine_Learning/blob/main/Example/003.%20%EB%8B%B9%EB%87%A8(%EC%A3%BC%EC%82%AC%26%EA%B5%AC%EA%B0%95%EC%A0%9C).ipynb\" target=\"_parent\"><img src=\"https://colab.research.google.com/assets/colab-badge.svg\" alt=\"Open In Colab\"/></a>"
      ]
    },
    {
      "cell_type": "markdown",
      "source": [
        "# 문제 정의\n",
        "> 당뇨 치료제 중 경구복용 인슐린제의 효능 확인"
      ],
      "metadata": {
        "id": "6YVw1_TY2Ayd"
      }
    },
    {
      "cell_type": "code",
      "execution_count": 1,
      "metadata": {
        "id": "_a3K-ku6gBLt"
      },
      "outputs": [],
      "source": [
        "import pandas as pd\n",
        "import numpy as np\n",
        "from google.colab import files"
      ]
    },
    {
      "cell_type": "markdown",
      "source": [
        "# Read Data-set"
      ],
      "metadata": {
        "id": "w-u9XJKH2Pev"
      }
    },
    {
      "cell_type": "code",
      "source": [
        "files.upload()\n",
        "patients = pd.read_csv('patients_info.csv')"
      ],
      "metadata": {
        "colab": {
          "base_uri": "https://localhost:8080/",
          "height": 76
        },
        "id": "udIH9J0d2RfH",
        "outputId": "c700ef93-c639-461b-a977-71702a1e22fc"
      },
      "execution_count": 2,
      "outputs": [
        {
          "output_type": "display_data",
          "data": {
            "text/plain": [
              "<IPython.core.display.HTML object>"
            ],
            "text/html": [
              "\n",
              "     <input type=\"file\" id=\"files-b3d1cfa8-5499-4564-9bb8-c443882dfdf9\" name=\"files[]\" multiple disabled\n",
              "        style=\"border:none\" />\n",
              "     <output id=\"result-b3d1cfa8-5499-4564-9bb8-c443882dfdf9\">\n",
              "      Upload widget is only available when the cell has been executed in the\n",
              "      current browser session. Please rerun this cell to enable.\n",
              "      </output>\n",
              "      <script>// Copyright 2017 Google LLC\n",
              "//\n",
              "// Licensed under the Apache License, Version 2.0 (the \"License\");\n",
              "// you may not use this file except in compliance with the License.\n",
              "// You may obtain a copy of the License at\n",
              "//\n",
              "//      http://www.apache.org/licenses/LICENSE-2.0\n",
              "//\n",
              "// Unless required by applicable law or agreed to in writing, software\n",
              "// distributed under the License is distributed on an \"AS IS\" BASIS,\n",
              "// WITHOUT WARRANTIES OR CONDITIONS OF ANY KIND, either express or implied.\n",
              "// See the License for the specific language governing permissions and\n",
              "// limitations under the License.\n",
              "\n",
              "/**\n",
              " * @fileoverview Helpers for google.colab Python module.\n",
              " */\n",
              "(function(scope) {\n",
              "function span(text, styleAttributes = {}) {\n",
              "  const element = document.createElement('span');\n",
              "  element.textContent = text;\n",
              "  for (const key of Object.keys(styleAttributes)) {\n",
              "    element.style[key] = styleAttributes[key];\n",
              "  }\n",
              "  return element;\n",
              "}\n",
              "\n",
              "// Max number of bytes which will be uploaded at a time.\n",
              "const MAX_PAYLOAD_SIZE = 100 * 1024;\n",
              "\n",
              "function _uploadFiles(inputId, outputId) {\n",
              "  const steps = uploadFilesStep(inputId, outputId);\n",
              "  const outputElement = document.getElementById(outputId);\n",
              "  // Cache steps on the outputElement to make it available for the next call\n",
              "  // to uploadFilesContinue from Python.\n",
              "  outputElement.steps = steps;\n",
              "\n",
              "  return _uploadFilesContinue(outputId);\n",
              "}\n",
              "\n",
              "// This is roughly an async generator (not supported in the browser yet),\n",
              "// where there are multiple asynchronous steps and the Python side is going\n",
              "// to poll for completion of each step.\n",
              "// This uses a Promise to block the python side on completion of each step,\n",
              "// then passes the result of the previous step as the input to the next step.\n",
              "function _uploadFilesContinue(outputId) {\n",
              "  const outputElement = document.getElementById(outputId);\n",
              "  const steps = outputElement.steps;\n",
              "\n",
              "  const next = steps.next(outputElement.lastPromiseValue);\n",
              "  return Promise.resolve(next.value.promise).then((value) => {\n",
              "    // Cache the last promise value to make it available to the next\n",
              "    // step of the generator.\n",
              "    outputElement.lastPromiseValue = value;\n",
              "    return next.value.response;\n",
              "  });\n",
              "}\n",
              "\n",
              "/**\n",
              " * Generator function which is called between each async step of the upload\n",
              " * process.\n",
              " * @param {string} inputId Element ID of the input file picker element.\n",
              " * @param {string} outputId Element ID of the output display.\n",
              " * @return {!Iterable<!Object>} Iterable of next steps.\n",
              " */\n",
              "function* uploadFilesStep(inputId, outputId) {\n",
              "  const inputElement = document.getElementById(inputId);\n",
              "  inputElement.disabled = false;\n",
              "\n",
              "  const outputElement = document.getElementById(outputId);\n",
              "  outputElement.innerHTML = '';\n",
              "\n",
              "  const pickedPromise = new Promise((resolve) => {\n",
              "    inputElement.addEventListener('change', (e) => {\n",
              "      resolve(e.target.files);\n",
              "    });\n",
              "  });\n",
              "\n",
              "  const cancel = document.createElement('button');\n",
              "  inputElement.parentElement.appendChild(cancel);\n",
              "  cancel.textContent = 'Cancel upload';\n",
              "  const cancelPromise = new Promise((resolve) => {\n",
              "    cancel.onclick = () => {\n",
              "      resolve(null);\n",
              "    };\n",
              "  });\n",
              "\n",
              "  // Wait for the user to pick the files.\n",
              "  const files = yield {\n",
              "    promise: Promise.race([pickedPromise, cancelPromise]),\n",
              "    response: {\n",
              "      action: 'starting',\n",
              "    }\n",
              "  };\n",
              "\n",
              "  cancel.remove();\n",
              "\n",
              "  // Disable the input element since further picks are not allowed.\n",
              "  inputElement.disabled = true;\n",
              "\n",
              "  if (!files) {\n",
              "    return {\n",
              "      response: {\n",
              "        action: 'complete',\n",
              "      }\n",
              "    };\n",
              "  }\n",
              "\n",
              "  for (const file of files) {\n",
              "    const li = document.createElement('li');\n",
              "    li.append(span(file.name, {fontWeight: 'bold'}));\n",
              "    li.append(span(\n",
              "        `(${file.type || 'n/a'}) - ${file.size} bytes, ` +\n",
              "        `last modified: ${\n",
              "            file.lastModifiedDate ? file.lastModifiedDate.toLocaleDateString() :\n",
              "                                    'n/a'} - `));\n",
              "    const percent = span('0% done');\n",
              "    li.appendChild(percent);\n",
              "\n",
              "    outputElement.appendChild(li);\n",
              "\n",
              "    const fileDataPromise = new Promise((resolve) => {\n",
              "      const reader = new FileReader();\n",
              "      reader.onload = (e) => {\n",
              "        resolve(e.target.result);\n",
              "      };\n",
              "      reader.readAsArrayBuffer(file);\n",
              "    });\n",
              "    // Wait for the data to be ready.\n",
              "    let fileData = yield {\n",
              "      promise: fileDataPromise,\n",
              "      response: {\n",
              "        action: 'continue',\n",
              "      }\n",
              "    };\n",
              "\n",
              "    // Use a chunked sending to avoid message size limits. See b/62115660.\n",
              "    let position = 0;\n",
              "    do {\n",
              "      const length = Math.min(fileData.byteLength - position, MAX_PAYLOAD_SIZE);\n",
              "      const chunk = new Uint8Array(fileData, position, length);\n",
              "      position += length;\n",
              "\n",
              "      const base64 = btoa(String.fromCharCode.apply(null, chunk));\n",
              "      yield {\n",
              "        response: {\n",
              "          action: 'append',\n",
              "          file: file.name,\n",
              "          data: base64,\n",
              "        },\n",
              "      };\n",
              "\n",
              "      let percentDone = fileData.byteLength === 0 ?\n",
              "          100 :\n",
              "          Math.round((position / fileData.byteLength) * 100);\n",
              "      percent.textContent = `${percentDone}% done`;\n",
              "\n",
              "    } while (position < fileData.byteLength);\n",
              "  }\n",
              "\n",
              "  // All done.\n",
              "  yield {\n",
              "    response: {\n",
              "      action: 'complete',\n",
              "    }\n",
              "  };\n",
              "}\n",
              "\n",
              "scope.google = scope.google || {};\n",
              "scope.google.colab = scope.google.colab || {};\n",
              "scope.google.colab._files = {\n",
              "  _uploadFiles,\n",
              "  _uploadFilesContinue,\n",
              "};\n",
              "})(self);\n",
              "</script> "
            ]
          },
          "metadata": {}
        },
        {
          "output_type": "stream",
          "name": "stdout",
          "text": [
            "Saving patients_info.csv to patients_info (1).csv\n"
          ]
        }
      ]
    },
    {
      "cell_type": "code",
      "source": [
        "files.upload()\n",
        "insuline_test = pd.read_csv('insuline_test.csv')"
      ],
      "metadata": {
        "colab": {
          "base_uri": "https://localhost:8080/",
          "height": 76
        },
        "id": "MmjaGoUi2SE5",
        "outputId": "1c1fcb14-a64f-480a-c0f9-350bf14648a1"
      },
      "execution_count": 3,
      "outputs": [
        {
          "output_type": "display_data",
          "data": {
            "text/plain": [
              "<IPython.core.display.HTML object>"
            ],
            "text/html": [
              "\n",
              "     <input type=\"file\" id=\"files-3b95cca1-c184-4781-b6f6-89d1d67bfde5\" name=\"files[]\" multiple disabled\n",
              "        style=\"border:none\" />\n",
              "     <output id=\"result-3b95cca1-c184-4781-b6f6-89d1d67bfde5\">\n",
              "      Upload widget is only available when the cell has been executed in the\n",
              "      current browser session. Please rerun this cell to enable.\n",
              "      </output>\n",
              "      <script>// Copyright 2017 Google LLC\n",
              "//\n",
              "// Licensed under the Apache License, Version 2.0 (the \"License\");\n",
              "// you may not use this file except in compliance with the License.\n",
              "// You may obtain a copy of the License at\n",
              "//\n",
              "//      http://www.apache.org/licenses/LICENSE-2.0\n",
              "//\n",
              "// Unless required by applicable law or agreed to in writing, software\n",
              "// distributed under the License is distributed on an \"AS IS\" BASIS,\n",
              "// WITHOUT WARRANTIES OR CONDITIONS OF ANY KIND, either express or implied.\n",
              "// See the License for the specific language governing permissions and\n",
              "// limitations under the License.\n",
              "\n",
              "/**\n",
              " * @fileoverview Helpers for google.colab Python module.\n",
              " */\n",
              "(function(scope) {\n",
              "function span(text, styleAttributes = {}) {\n",
              "  const element = document.createElement('span');\n",
              "  element.textContent = text;\n",
              "  for (const key of Object.keys(styleAttributes)) {\n",
              "    element.style[key] = styleAttributes[key];\n",
              "  }\n",
              "  return element;\n",
              "}\n",
              "\n",
              "// Max number of bytes which will be uploaded at a time.\n",
              "const MAX_PAYLOAD_SIZE = 100 * 1024;\n",
              "\n",
              "function _uploadFiles(inputId, outputId) {\n",
              "  const steps = uploadFilesStep(inputId, outputId);\n",
              "  const outputElement = document.getElementById(outputId);\n",
              "  // Cache steps on the outputElement to make it available for the next call\n",
              "  // to uploadFilesContinue from Python.\n",
              "  outputElement.steps = steps;\n",
              "\n",
              "  return _uploadFilesContinue(outputId);\n",
              "}\n",
              "\n",
              "// This is roughly an async generator (not supported in the browser yet),\n",
              "// where there are multiple asynchronous steps and the Python side is going\n",
              "// to poll for completion of each step.\n",
              "// This uses a Promise to block the python side on completion of each step,\n",
              "// then passes the result of the previous step as the input to the next step.\n",
              "function _uploadFilesContinue(outputId) {\n",
              "  const outputElement = document.getElementById(outputId);\n",
              "  const steps = outputElement.steps;\n",
              "\n",
              "  const next = steps.next(outputElement.lastPromiseValue);\n",
              "  return Promise.resolve(next.value.promise).then((value) => {\n",
              "    // Cache the last promise value to make it available to the next\n",
              "    // step of the generator.\n",
              "    outputElement.lastPromiseValue = value;\n",
              "    return next.value.response;\n",
              "  });\n",
              "}\n",
              "\n",
              "/**\n",
              " * Generator function which is called between each async step of the upload\n",
              " * process.\n",
              " * @param {string} inputId Element ID of the input file picker element.\n",
              " * @param {string} outputId Element ID of the output display.\n",
              " * @return {!Iterable<!Object>} Iterable of next steps.\n",
              " */\n",
              "function* uploadFilesStep(inputId, outputId) {\n",
              "  const inputElement = document.getElementById(inputId);\n",
              "  inputElement.disabled = false;\n",
              "\n",
              "  const outputElement = document.getElementById(outputId);\n",
              "  outputElement.innerHTML = '';\n",
              "\n",
              "  const pickedPromise = new Promise((resolve) => {\n",
              "    inputElement.addEventListener('change', (e) => {\n",
              "      resolve(e.target.files);\n",
              "    });\n",
              "  });\n",
              "\n",
              "  const cancel = document.createElement('button');\n",
              "  inputElement.parentElement.appendChild(cancel);\n",
              "  cancel.textContent = 'Cancel upload';\n",
              "  const cancelPromise = new Promise((resolve) => {\n",
              "    cancel.onclick = () => {\n",
              "      resolve(null);\n",
              "    };\n",
              "  });\n",
              "\n",
              "  // Wait for the user to pick the files.\n",
              "  const files = yield {\n",
              "    promise: Promise.race([pickedPromise, cancelPromise]),\n",
              "    response: {\n",
              "      action: 'starting',\n",
              "    }\n",
              "  };\n",
              "\n",
              "  cancel.remove();\n",
              "\n",
              "  // Disable the input element since further picks are not allowed.\n",
              "  inputElement.disabled = true;\n",
              "\n",
              "  if (!files) {\n",
              "    return {\n",
              "      response: {\n",
              "        action: 'complete',\n",
              "      }\n",
              "    };\n",
              "  }\n",
              "\n",
              "  for (const file of files) {\n",
              "    const li = document.createElement('li');\n",
              "    li.append(span(file.name, {fontWeight: 'bold'}));\n",
              "    li.append(span(\n",
              "        `(${file.type || 'n/a'}) - ${file.size} bytes, ` +\n",
              "        `last modified: ${\n",
              "            file.lastModifiedDate ? file.lastModifiedDate.toLocaleDateString() :\n",
              "                                    'n/a'} - `));\n",
              "    const percent = span('0% done');\n",
              "    li.appendChild(percent);\n",
              "\n",
              "    outputElement.appendChild(li);\n",
              "\n",
              "    const fileDataPromise = new Promise((resolve) => {\n",
              "      const reader = new FileReader();\n",
              "      reader.onload = (e) => {\n",
              "        resolve(e.target.result);\n",
              "      };\n",
              "      reader.readAsArrayBuffer(file);\n",
              "    });\n",
              "    // Wait for the data to be ready.\n",
              "    let fileData = yield {\n",
              "      promise: fileDataPromise,\n",
              "      response: {\n",
              "        action: 'continue',\n",
              "      }\n",
              "    };\n",
              "\n",
              "    // Use a chunked sending to avoid message size limits. See b/62115660.\n",
              "    let position = 0;\n",
              "    do {\n",
              "      const length = Math.min(fileData.byteLength - position, MAX_PAYLOAD_SIZE);\n",
              "      const chunk = new Uint8Array(fileData, position, length);\n",
              "      position += length;\n",
              "\n",
              "      const base64 = btoa(String.fromCharCode.apply(null, chunk));\n",
              "      yield {\n",
              "        response: {\n",
              "          action: 'append',\n",
              "          file: file.name,\n",
              "          data: base64,\n",
              "        },\n",
              "      };\n",
              "\n",
              "      let percentDone = fileData.byteLength === 0 ?\n",
              "          100 :\n",
              "          Math.round((position / fileData.byteLength) * 100);\n",
              "      percent.textContent = `${percentDone}% done`;\n",
              "\n",
              "    } while (position < fileData.byteLength);\n",
              "  }\n",
              "\n",
              "  // All done.\n",
              "  yield {\n",
              "    response: {\n",
              "      action: 'complete',\n",
              "    }\n",
              "  };\n",
              "}\n",
              "\n",
              "scope.google = scope.google || {};\n",
              "scope.google.colab = scope.google.colab || {};\n",
              "scope.google.colab._files = {\n",
              "  _uploadFiles,\n",
              "  _uploadFilesContinue,\n",
              "};\n",
              "})(self);\n",
              "</script> "
            ]
          },
          "metadata": {}
        },
        {
          "output_type": "stream",
          "name": "stdout",
          "text": [
            "Saving insuline_test.csv to insuline_test (1).csv\n"
          ]
        }
      ]
    },
    {
      "cell_type": "code",
      "source": [
        "files.upload()\n",
        "side_effects = pd.read_csv('side_effects.csv')"
      ],
      "metadata": {
        "colab": {
          "base_uri": "https://localhost:8080/",
          "height": 76
        },
        "id": "IfEECkDy2SJJ",
        "outputId": "977949e5-bb8d-48f0-9bdd-2720b1a2a4af"
      },
      "execution_count": 4,
      "outputs": [
        {
          "output_type": "display_data",
          "data": {
            "text/plain": [
              "<IPython.core.display.HTML object>"
            ],
            "text/html": [
              "\n",
              "     <input type=\"file\" id=\"files-3b7bc957-a124-4a9d-a021-290398bb69e3\" name=\"files[]\" multiple disabled\n",
              "        style=\"border:none\" />\n",
              "     <output id=\"result-3b7bc957-a124-4a9d-a021-290398bb69e3\">\n",
              "      Upload widget is only available when the cell has been executed in the\n",
              "      current browser session. Please rerun this cell to enable.\n",
              "      </output>\n",
              "      <script>// Copyright 2017 Google LLC\n",
              "//\n",
              "// Licensed under the Apache License, Version 2.0 (the \"License\");\n",
              "// you may not use this file except in compliance with the License.\n",
              "// You may obtain a copy of the License at\n",
              "//\n",
              "//      http://www.apache.org/licenses/LICENSE-2.0\n",
              "//\n",
              "// Unless required by applicable law or agreed to in writing, software\n",
              "// distributed under the License is distributed on an \"AS IS\" BASIS,\n",
              "// WITHOUT WARRANTIES OR CONDITIONS OF ANY KIND, either express or implied.\n",
              "// See the License for the specific language governing permissions and\n",
              "// limitations under the License.\n",
              "\n",
              "/**\n",
              " * @fileoverview Helpers for google.colab Python module.\n",
              " */\n",
              "(function(scope) {\n",
              "function span(text, styleAttributes = {}) {\n",
              "  const element = document.createElement('span');\n",
              "  element.textContent = text;\n",
              "  for (const key of Object.keys(styleAttributes)) {\n",
              "    element.style[key] = styleAttributes[key];\n",
              "  }\n",
              "  return element;\n",
              "}\n",
              "\n",
              "// Max number of bytes which will be uploaded at a time.\n",
              "const MAX_PAYLOAD_SIZE = 100 * 1024;\n",
              "\n",
              "function _uploadFiles(inputId, outputId) {\n",
              "  const steps = uploadFilesStep(inputId, outputId);\n",
              "  const outputElement = document.getElementById(outputId);\n",
              "  // Cache steps on the outputElement to make it available for the next call\n",
              "  // to uploadFilesContinue from Python.\n",
              "  outputElement.steps = steps;\n",
              "\n",
              "  return _uploadFilesContinue(outputId);\n",
              "}\n",
              "\n",
              "// This is roughly an async generator (not supported in the browser yet),\n",
              "// where there are multiple asynchronous steps and the Python side is going\n",
              "// to poll for completion of each step.\n",
              "// This uses a Promise to block the python side on completion of each step,\n",
              "// then passes the result of the previous step as the input to the next step.\n",
              "function _uploadFilesContinue(outputId) {\n",
              "  const outputElement = document.getElementById(outputId);\n",
              "  const steps = outputElement.steps;\n",
              "\n",
              "  const next = steps.next(outputElement.lastPromiseValue);\n",
              "  return Promise.resolve(next.value.promise).then((value) => {\n",
              "    // Cache the last promise value to make it available to the next\n",
              "    // step of the generator.\n",
              "    outputElement.lastPromiseValue = value;\n",
              "    return next.value.response;\n",
              "  });\n",
              "}\n",
              "\n",
              "/**\n",
              " * Generator function which is called between each async step of the upload\n",
              " * process.\n",
              " * @param {string} inputId Element ID of the input file picker element.\n",
              " * @param {string} outputId Element ID of the output display.\n",
              " * @return {!Iterable<!Object>} Iterable of next steps.\n",
              " */\n",
              "function* uploadFilesStep(inputId, outputId) {\n",
              "  const inputElement = document.getElementById(inputId);\n",
              "  inputElement.disabled = false;\n",
              "\n",
              "  const outputElement = document.getElementById(outputId);\n",
              "  outputElement.innerHTML = '';\n",
              "\n",
              "  const pickedPromise = new Promise((resolve) => {\n",
              "    inputElement.addEventListener('change', (e) => {\n",
              "      resolve(e.target.files);\n",
              "    });\n",
              "  });\n",
              "\n",
              "  const cancel = document.createElement('button');\n",
              "  inputElement.parentElement.appendChild(cancel);\n",
              "  cancel.textContent = 'Cancel upload';\n",
              "  const cancelPromise = new Promise((resolve) => {\n",
              "    cancel.onclick = () => {\n",
              "      resolve(null);\n",
              "    };\n",
              "  });\n",
              "\n",
              "  // Wait for the user to pick the files.\n",
              "  const files = yield {\n",
              "    promise: Promise.race([pickedPromise, cancelPromise]),\n",
              "    response: {\n",
              "      action: 'starting',\n",
              "    }\n",
              "  };\n",
              "\n",
              "  cancel.remove();\n",
              "\n",
              "  // Disable the input element since further picks are not allowed.\n",
              "  inputElement.disabled = true;\n",
              "\n",
              "  if (!files) {\n",
              "    return {\n",
              "      response: {\n",
              "        action: 'complete',\n",
              "      }\n",
              "    };\n",
              "  }\n",
              "\n",
              "  for (const file of files) {\n",
              "    const li = document.createElement('li');\n",
              "    li.append(span(file.name, {fontWeight: 'bold'}));\n",
              "    li.append(span(\n",
              "        `(${file.type || 'n/a'}) - ${file.size} bytes, ` +\n",
              "        `last modified: ${\n",
              "            file.lastModifiedDate ? file.lastModifiedDate.toLocaleDateString() :\n",
              "                                    'n/a'} - `));\n",
              "    const percent = span('0% done');\n",
              "    li.appendChild(percent);\n",
              "\n",
              "    outputElement.appendChild(li);\n",
              "\n",
              "    const fileDataPromise = new Promise((resolve) => {\n",
              "      const reader = new FileReader();\n",
              "      reader.onload = (e) => {\n",
              "        resolve(e.target.result);\n",
              "      };\n",
              "      reader.readAsArrayBuffer(file);\n",
              "    });\n",
              "    // Wait for the data to be ready.\n",
              "    let fileData = yield {\n",
              "      promise: fileDataPromise,\n",
              "      response: {\n",
              "        action: 'continue',\n",
              "      }\n",
              "    };\n",
              "\n",
              "    // Use a chunked sending to avoid message size limits. See b/62115660.\n",
              "    let position = 0;\n",
              "    do {\n",
              "      const length = Math.min(fileData.byteLength - position, MAX_PAYLOAD_SIZE);\n",
              "      const chunk = new Uint8Array(fileData, position, length);\n",
              "      position += length;\n",
              "\n",
              "      const base64 = btoa(String.fromCharCode.apply(null, chunk));\n",
              "      yield {\n",
              "        response: {\n",
              "          action: 'append',\n",
              "          file: file.name,\n",
              "          data: base64,\n",
              "        },\n",
              "      };\n",
              "\n",
              "      let percentDone = fileData.byteLength === 0 ?\n",
              "          100 :\n",
              "          Math.round((position / fileData.byteLength) * 100);\n",
              "      percent.textContent = `${percentDone}% done`;\n",
              "\n",
              "    } while (position < fileData.byteLength);\n",
              "  }\n",
              "\n",
              "  // All done.\n",
              "  yield {\n",
              "    response: {\n",
              "      action: 'complete',\n",
              "    }\n",
              "  };\n",
              "}\n",
              "\n",
              "scope.google = scope.google || {};\n",
              "scope.google.colab = scope.google.colab || {};\n",
              "scope.google.colab._files = {\n",
              "  _uploadFiles,\n",
              "  _uploadFilesContinue,\n",
              "};\n",
              "})(self);\n",
              "</script> "
            ]
          },
          "metadata": {}
        },
        {
          "output_type": "stream",
          "name": "stdout",
          "text": [
            "Saving side_effects.csv to side_effects (1).csv\n"
          ]
        }
      ]
    },
    {
      "cell_type": "markdown",
      "source": [
        "# Columns\n",
        "\n",
        "#### **`patients` 데이터**  \n",
        "> - 환자고유번호: 테이블의 기본키\n",
        "- **이름: 환자 이름**\n",
        "- 나이: 환자의 성별과 나이\n",
        "- 환자식별번호: 시스템에 저장되어 있는 5자리 숫자로 구성된 환자 번호\n",
        "- 키: 환자의 키\n",
        "- 몸무게: 환자의 몸무게\n",
        "- 체질량지수: 환자의 체질량지수\n",
        "- ( 체질량지수 = (몸무게 (kg) / (키 (cm) x 키 (cm))) x 10,000 )\n",
        "- 전화번호: 환자의 개인 전화번호 \n",
        "<br>\n",
        "\n",
        "#### **`insuline test` 데이터** \n",
        "> - **이름: 환자 이름**\n",
        "- 경구용_인슐린: 주사제 인슐린의 일일 투여량의 중앙값(median) 에서 24주 뒤의, 경구 인슐린의 일일 투여량 중앙값 <br>\n",
        "  - `주사제 인슐린의 일일 투여량 중앙값`**u** - `24주 뒤, 경구 인슐린의 일일 투여량의 중앙값`**u**  \n",
        "  - **u**는 인슐린의 측정 단위 \n",
        "- 주사제_인슐린: 주사제 인슐린의 일일 투여량의 중앙값에서 24주 뒤의, 주사제 인슐린의 일일 투여량의 중앙값 <br>\n",
        "  - `주사제 인슐린의 일일 투여량의 중앙값`**u** - `24주 뒤, 주사제 인슐린의 일일 투여량의 중앙값`**u**  \n",
        "- 혈당수치_시작: 첫번째 주에 환자의 혈당수치 레벨(%)  \n",
        "- 혈당수치_끝: 24주 동안의 실험 시행 후, 마지막 주 환자의 혈당수치 레벨 (%)\n",
        "- 혈당수치_변화: 환자의 혈당수치 레벨의 변화 (%) \n",
        "  - `혈당수치_시작 - 혈당수치_끝` \n",
        "<br>\n",
        "\n",
        "#### **`side_effects` 데이터** \n",
        "> - **이름: 환자 이름**\n",
        "- 부작용: 환자의 의해서 보고된 부작용 "
      ],
      "metadata": {
        "id": "9QqsgQrS2SOr"
      }
    },
    {
      "cell_type": "markdown",
      "source": [
        "# Target\n",
        "#### 치료제 효능 검증: 주사제와 경구제의 혈당 수치 변화\n",
        "- 혈당 수치의 0.4정도의 수치가 낮아졌다면 성공\n",
        "\n",
        "  - 최초 350명 전원 주사제 투여로 기본 혈당수치 측정\n",
        "  - 4주뒤 대조군 175명 주사, 실험군 175명 경구제 투여\n",
        "  - 24주 후 각 약물에 대한 혈당수치 측정"
      ],
      "metadata": {
        "id": "rHWM1kOF2uBK"
      }
    },
    {
      "cell_type": "code",
      "source": [
        "assert patients.shape == (509, 8)\n",
        "assert insuline_test.shape == (350, 6)\n",
        "assert side_effects.shape == (35, 2)"
      ],
      "metadata": {
        "id": "azXk3lqa4VvQ"
      },
      "execution_count": 5,
      "outputs": []
    },
    {
      "cell_type": "markdown",
      "source": [
        "# 데이터 전처리"
      ],
      "metadata": {
        "id": "G-YekUAp7O8J"
      }
    },
    {
      "cell_type": "code",
      "source": [
        "patients_clean = patients.copy()\n",
        "insuline_test_clean = insuline_test.copy()\n",
        "side_effects_clean = side_effects.copy()"
      ],
      "metadata": {
        "id": "XyhaGW9MXAGa"
      },
      "execution_count": 6,
      "outputs": []
    },
    {
      "cell_type": "markdown",
      "source": [
        "## 품질의 문제"
      ],
      "metadata": {
        "id": "EhI-AKKvWvZF"
      }
    },
    {
      "cell_type": "markdown",
      "source": [
        "### patients_clean"
      ],
      "metadata": {
        "id": "AnknlZG9iMAQ"
      }
    },
    {
      "cell_type": "code",
      "source": [
        "# 환자이름 에러(_ ! . 숫자 등 포함)\n",
        "import re\n",
        "def has_errors(inputstring):\n",
        "  return bool( re.search('[_, !, ., \\d+]', inputstring) )\n",
        "\n",
        "# 본문 적용 전 test - error_names\n",
        "# error_names = patients_clean[ patients_clean.이름.apply(has_errors) ]\n",
        "# error_names.이름 = error_names.이름.str.replace('[_,!,.,\\d+]', '')\n",
        "patients_clean.이름 = patients_clean.이름.str.replace('[_, !, ., \\d+]', '')"
      ],
      "metadata": {
        "colab": {
          "base_uri": "https://localhost:8080/"
        },
        "id": "nU-I_8YYWxr6",
        "outputId": "960f16a7-d853-433c-f093-cc704ce9dcc9"
      },
      "execution_count": 7,
      "outputs": [
        {
          "output_type": "stream",
          "name": "stderr",
          "text": [
            "/usr/local/lib/python3.7/dist-packages/ipykernel_launcher.py:9: FutureWarning: The default value of regex will change from True to False in a future version.\n",
            "  if __name__ == '__main__':\n"
          ]
        }
      ]
    },
    {
      "cell_type": "code",
      "source": [
        "# 나이 칼럼 - 성별(한글로 변환)과 나이 분리 및 타입 변환\n",
        "patients_clean['환자나이'] = patients_clean.나이.str.extract('(\\d+)').astype('int')\n",
        "patients_clean['성별'] = patients_clean.나이.str.replace(r'[^a-zA-Z]', '', regex=True)\n",
        "\n",
        "patients_clean = patients_clean.drop('나이', axis=1)\n",
        "\n",
        "patients_clean['성별'] = patients_clean.성별.replace( {'male':'남' , 'female':'여' } )\n",
        "patients_clean['성별'] = patients_clean.성별.astype('category')"
      ],
      "metadata": {
        "id": "DKAk_dPgZBtg"
      },
      "execution_count": 8,
      "outputs": []
    },
    {
      "cell_type": "code",
      "source": [
        "# 환자식별번호 - 실수 -> object로 변환(비교가 아닌 고유값), 5자리로 통일, 모르는 값은 nan으로 채우기\n",
        "patients_clean.환자식별번호 = patients_clean.환자식별번호.astype(str).str[:-2].str.pad(5, fillchar='0')\n",
        "patients_clean.환자식별번호 = patients_clean.환자식별번호.replace( '0000n', np.nan )"
      ],
      "metadata": {
        "id": "owmZtbddaZ4u"
      },
      "execution_count": 9,
      "outputs": []
    },
    {
      "cell_type": "code",
      "source": [
        "# 전화번호 포맷(010-xxxx-xxxx) 일관되게 맞추기\n",
        "def convert(phone_num):\n",
        "  phone_num = re.sub(r'\\D', '', phone_num)[-8:]\n",
        "  final_num = '010' + '-' + phone_num[:4] + '-' + phone_num[-4:]\n",
        "  return final_num\n",
        "\n",
        "patients_clean.전화번호 = patients_clean.전화번호.apply(convert)"
      ],
      "metadata": {
        "id": "rXPnKIklblYo"
      },
      "execution_count": 10,
      "outputs": []
    },
    {
      "cell_type": "code",
      "source": [
        "# 키, 몸무게, BMI - Missing value\n",
        "import math\n",
        "# bool_series = (patients_clean.키.isnull() | patients_clean.몸무게.isnull()| patients_clean.체질량지수.isnull())\n",
        "# missing_in_three = patients_clean[bool_series] \n",
        "# insert_values(missing_in_three) -- 데이터 적용 전 test\n",
        "\n",
        "def insert_values(df):\n",
        "  for i, height in enumerate(df.키):\n",
        "    if math.isnan(height):\n",
        "      df.iloc[i,3] = round( (10000 * df.iloc[i,4] / df.iloc[i,5]) **(1/2) , 2 )\n",
        "      \n",
        "  for i, weight in enumerate(df.몸무게):\n",
        "    if math.isnan(weight):\n",
        "      df.iloc[i,4] = round((df.iloc[i,5]/10000)*(df.iloc[i,3])**2,2)\n",
        "\n",
        "  for i, bmi in enumerate(df.체질량지수):\n",
        "    if math.isnan(bmi):\n",
        "      df.iloc[i,5] = round(10000*df.iloc[i,3]/(df.iloc[i,4])**2,2)\n",
        "  \n",
        "  return df\n",
        "patients_clean = insert_values(patients_clean)\n",
        "\n",
        "# 키, 몸무게, BMI - 부정확한 데이터 처리(수학적 관계로 재계산)\n",
        "def fix_wrong_values(df):\n",
        "  for i, weight in enumerate(df.몸무게):\n",
        "    if weight < 10:\n",
        "      df.iloc[i,4] = round((df.iloc[i,5]/10000)*(df.iloc[i,3])**2,2)\n",
        "\n",
        "  for i, height in enumerate(df.키):\n",
        "      if height < 100:\n",
        "        df.iloc[i, 3] = round((10000*(df.iloc[i,4]/df.iloc[i,5]))**(1/2),2)\n",
        "\n",
        "  for i, bmi in enumerate(df.체질량지수):\n",
        "    if bmi < 10 or bmi > 100:\n",
        "      df.iloc[i, 5] = round((df.iloc[i, 4] / (df.iloc[i,3] * df.iloc[i,3]))*10000,2)\n",
        "\n",
        "  return df\n",
        "new_bmi = fix_wrong_values(patients_clean).체질량지수\n",
        "(patients_clean['체질량지수'] == new_bmi).all()"
      ],
      "metadata": {
        "colab": {
          "base_uri": "https://localhost:8080/"
        },
        "id": "62mQgOlCe0lc",
        "outputId": "35d43fc5-d3f1-4973-87b4-3bf64255f36a"
      },
      "execution_count": 11,
      "outputs": [
        {
          "output_type": "execute_result",
          "data": {
            "text/plain": [
              "True"
            ]
          },
          "metadata": {},
          "execution_count": 11
        }
      ]
    },
    {
      "cell_type": "code",
      "source": [
        "# 중복값 처리 - 동명이인을 제외한 이름과 전화번호가 동일한 환자를 제거\n",
        "patients_clean = patients_clean.drop_duplicates(subset=['이름', '전화번호'])"
      ],
      "metadata": {
        "id": "SRdHTdcYhZod"
      },
      "execution_count": 12,
      "outputs": []
    },
    {
      "cell_type": "markdown",
      "source": [
        "### insuline_test_clean"
      ],
      "metadata": {
        "id": "-LnC7K8niPN7"
      }
    },
    {
      "cell_type": "markdown",
      "source": [
        "#### 품질의 문제"
      ],
      "metadata": {
        "id": "484U23EQiomG"
      }
    },
    {
      "cell_type": "code",
      "source": [
        "# 핵심 Target 혈당수치변화 Missing value 조정\n",
        "insuline_test_clean.혈당수치_변화 = (insuline_test_clean.혈당수치_시작 - insuline_test_clean.혈당수치_끝)"
      ],
      "metadata": {
        "id": "gng0e4y_iSxA"
      },
      "execution_count": 13,
      "outputs": []
    },
    {
      "cell_type": "markdown",
      "source": [
        "#### 구조적 문제"
      ],
      "metadata": {
        "id": "LJAnmne6ipzL"
      }
    },
    {
      "cell_type": "code",
      "source": [
        "# 경구용, 주사제 인슐린 2칸에 시작과 끝 데이터가 혼합됨 -> 분리\n",
        "insuline_test_clean = pd.melt(\n",
        "    insuline_test_clean, id_vars = ['이름', '혈당수치_시작', '혈당수치_끝', '혈당수치_변화'],\n",
        "    var_name = '인슐린_종류', value_name='투여량' )\n",
        "\n",
        "insuline_test_clean = insuline_test_clean[ insuline_test_clean.투여량 != '-' ] # -로 표시된 Missing value 제외\n",
        "\n",
        "insuline_test_clean['시작_투여량'], insuline_test_clean['마지막_투여량'] = insuline_test_clean[\n",
        "    '투여량'].str.split(' - ', 1).str\n",
        "    \n",
        "insuline_test_clean = insuline_test_clean.drop('투여량', axis=1)\n",
        "insuline_test_clean.인슐린_종류 = insuline_test_clean.인슐린_종류.str.replace('_', ' ')\n",
        "\n",
        "# 투여량 2개 모두 u를 제거하고 데이터 타입 변경\n",
        "insuline_test_clean.시작_투여량 = insuline_test_clean.시작_투여량.str.strip('u').astype(int)\n",
        "insuline_test_clean.마지막_투여량 = insuline_test_clean.마지막_투여량.str.strip('u').astype(int)"
      ],
      "metadata": {
        "colab": {
          "base_uri": "https://localhost:8080/"
        },
        "id": "TfR6yAvuiq8y",
        "outputId": "3f95bf30-6a72-4ea5-ce4f-3096638c844b"
      },
      "execution_count": 15,
      "outputs": [
        {
          "output_type": "stream",
          "name": "stderr",
          "text": [
            "/usr/local/lib/python3.7/dist-packages/ipykernel_launcher.py:9: FutureWarning: Columnar iteration over characters will be deprecated in future releases.\n",
            "  if __name__ == '__main__':\n"
          ]
        }
      ]
    },
    {
      "cell_type": "markdown",
      "source": [
        "### side_effects_clean"
      ],
      "metadata": {
        "id": "-1U7Qgm-iRoM"
      }
    },
    {
      "cell_type": "code",
      "source": [
        "# 부작용 정보만 insuline_test_clean에 병합\n",
        "insuline_test_clean = side_effects_clean.merge(insuline_test_clean, how='left', on = ['이름'])\n",
        "\n",
        "# insuline_test_clean도 tidy가 되어 키 값이 필요함 -> patients_clean의 환자고유번호로 병합\n",
        "primary_table = patients[['환자고유번호', '이름']]\n",
        "insuline_test_clean = pd.merge(insuline_test_clean, primary_table, how='left', on=['이름'])\n",
        "insuline_test_clean = insuline_test_clean.drop(['이름'], axis=1)"
      ],
      "metadata": {
        "id": "iKimbi5ppDUh"
      },
      "execution_count": 18,
      "outputs": []
    },
    {
      "cell_type": "code",
      "source": [
        "col_order = ['환자고유번호', '인슐린_종류', '시작_투여량', '마지막_투여량', '혈당수치_시작', '혈당수치_끝', '혈당수치_변화', '부작용']\n",
        "insuline_test_clean = insuline_test_clean[col_order]"
      ],
      "metadata": {
        "id": "WdJUAhJdqPlr"
      },
      "execution_count": null,
      "outputs": []
    },
    {
      "cell_type": "code",
      "source": [
        "patients_clean.to_csv('patients_clean.csv', index=False)\n",
        "insuline_test_clean.to_csv('insuline_test_clean.csv', index=False)"
      ],
      "metadata": {
        "id": "fFZPRznBqTV6"
      },
      "execution_count": null,
      "outputs": []
    }
  ]
}