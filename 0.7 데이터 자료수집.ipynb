{
  "nbformat": 4,
  "nbformat_minor": 0,
  "metadata": {
    "colab": {
      "provenance": [],
      "collapsed_sections": [],
      "authorship_tag": "ABX9TyP7frZ8m7PMussIgeEtSc83",
      "include_colab_link": true
    },
    "kernelspec": {
      "name": "python3",
      "display_name": "Python 3"
    },
    "language_info": {
      "name": "python"
    }
  },
  "cells": [
    {
      "cell_type": "markdown",
      "metadata": {
        "id": "view-in-github",
        "colab_type": "text"
      },
      "source": [
        "<a href=\"https://colab.research.google.com/github/JMindpalace/Machine_Learning/blob/main/0.7%20%EB%8D%B0%EC%9D%B4%ED%84%B0%20%EC%9E%90%EB%A3%8C%EC%88%98%EC%A7%91.ipynb\" target=\"_parent\"><img src=\"https://colab.research.google.com/assets/colab-badge.svg\" alt=\"Open In Colab\"/></a>"
      ]
    },
    {
      "cell_type": "markdown",
      "source": [],
      "metadata": {
        "id": "L4MSKZ4ZaSr3"
      }
    },
    {
      "cell_type": "markdown",
      "source": [
        "# 데이터 자료 수집(Collecting Data-set)"
      ],
      "metadata": {
        "id": "fvv2p1fSGCGc"
      }
    },
    {
      "cell_type": "markdown",
      "source": [
        "## 자료 수집의 예시\n",
        "- DB, Files(csv, XML, JSON, Excel-xlsx), web-crwaling, survey, <br> IoT sensor data, python pakage(beautifulsoup, elenium, pymysql, pymongo) etc\n",
        "- 그 외에 데이터를 이해하기 위한 도메인 지식"
      ],
      "metadata": {
        "id": "z6SLKOFwGFgg"
      }
    },
    {
      "cell_type": "markdown",
      "source": [
        "\n",
        "\n",
        "---\n",
        "\n",
        "\n",
        "\n",
        "---\n",
        "\n"
      ],
      "metadata": {
        "id": "5ZgT9Iitahaw"
      }
    },
    {
      "cell_type": "markdown",
      "source": [
        "# 크롤링"
      ],
      "metadata": {
        "id": "OXjAyNvlaiKx"
      }
    },
    {
      "cell_type": "code",
      "source": [
        "# 웹 - HTML, CSS, DOM"
      ],
      "metadata": {
        "id": "zypcJ82TdojM"
      },
      "execution_count": null,
      "outputs": []
    },
    {
      "cell_type": "markdown",
      "source": [
        "# 스크레이핑"
      ],
      "metadata": {
        "id": "DAo0sC4jamB_"
      }
    },
    {
      "cell_type": "markdown",
      "source": [
        "## 동적 vs 정적"
      ],
      "metadata": {
        "id": "vSeR0WrCAAcL"
      }
    },
    {
      "cell_type": "code",
      "source": [
        "# pip install requests : 파이썬에서 HTTP로 보내는 표준 요청 메소드\n",
        "import requests\n",
        "requests.get('https://사이트') # <Response [200]>이면 정상 연결\n",
        "\n",
        "resp.text # 응답 내용 확인"
      ],
      "metadata": {
        "id": "nJxnZ40XdrEA"
      },
      "execution_count": null,
      "outputs": []
    },
    {
      "cell_type": "code",
      "source": [
        "# 응답에 대한 에러 확인\n",
        "from requests.exceptions import HTTPError\n",
        "\n",
        "try:\n",
        "    resp = requests.get(url)\n",
        "    resp.raise_for_status()\n",
        "except HTTPError as Err:\n",
        "  print('HTTP 에러 발생')\n",
        "except Exception as Err:\n",
        "  print('다른 에러 발생')\n",
        "else:\n",
        "  print('성공')"
      ],
      "metadata": {
        "id": "RhilpPhu1lMg"
      },
      "execution_count": null,
      "outputs": []
    },
    {
      "cell_type": "code",
      "source": [
        "# pip install beautifulsoup4 : 받은 응답 내용을 파싱하고 정보 획득\n",
        "from bs4 import BeatuifulSoup\n",
        "\n",
        "soup = BeatuifulSoup(resp.content, 'html.parser') # 문자열과 파서를 전달\n",
        "\n",
        "# 요소 찾기\n",
        "soup.find() .find_all() # 조건에 일치하는 첫번때 결과 반환\n",
        "  # 파라미터\n",
        "  'tag' , # 태그 추가로 상세 검색\n",
        "\n",
        "  id = ''\n",
        "  class_ = '' # class에 언더바(_)로 class 구별\n",
        "\n",
        "  string = ''\n",
        "  string=lambda text: 'raining' in text.lower() # 대소문자 구분없이 찾기\n",
        "\n",
        "# 정보 얻기\n",
        "  find_bs4 = soup.find('tag', class_ = '' )\n",
        "  find_bs4.text # text가 없다면 HTML 형식으로 반환, text면 HTML의 내용만 반환"
      ],
      "metadata": {
        "id": "xiOfq_750xDF"
      },
      "execution_count": null,
      "outputs": []
    },
    {
      "cell_type": "markdown",
      "source": [
        "\n",
        "\n",
        "---\n",
        "\n",
        "\n",
        "\n",
        "---\n",
        "\n"
      ],
      "metadata": {
        "id": "PhmIKgdXfiZx"
      }
    },
    {
      "cell_type": "markdown",
      "source": [
        "# HTML, CSS"
      ],
      "metadata": {
        "id": "9981ApZ3fi-n"
      }
    },
    {
      "cell_type": "code",
      "source": [
        "# HyperText Markup Language - <태그>를 통해 다양한 요소를 합쳐 웹페이지를 구성함\n",
        "\n",
        "# Cascading Style Sheets - 웹 페이지의 표현을 알려주는 스타일리시트 언어\n",
        "  # Selector: 요소 선택(Type:CSS타입, Class, Id) , CSS요소는 상위 요소의 스타일 상속 받음\n",
        "  # Class >> <p class=\"banana fruit orange\">  --  .bananan { color:'yellow'; } # 다중 부여 가능\n",
        "  # Id    >> <p id=\"pink\">  --   #pink { color:'pink'; } # 특정요소만 지정하기에 여러 개 부여는 가능하나 제한함\n",
        "\n",
        "# DOM(Document Object Model) - HTML 문서 구조 이해(F12 후 console 창에서 진행)\n",
        "  # document.메소드('검색내용') - document는 해당 페이지의 모든 HTML을 담고 있음\n",
        "    # getElementsbyTagName : 태그 이름으로 문서 요소들을 리턴\n",
        "    # getElementById : id가 일치하는 요소 리턴\n",
        "    # getElementsByClassName: 클래스 일치 요소들을 리턴\n",
        "    # querySelector(All): 일치 요소(들)을 리턴"
      ],
      "metadata": {
        "id": "UrCd-XzxflAB"
      },
      "execution_count": 1,
      "outputs": []
    }
  ]
}