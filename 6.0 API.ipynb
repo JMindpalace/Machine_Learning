{
  "nbformat": 4,
  "nbformat_minor": 0,
  "metadata": {
    "colab": {
      "provenance": [],
      "authorship_tag": "ABX9TyNFNgdsitePyffty2rKpn2x",
      "include_colab_link": true
    },
    "kernelspec": {
      "name": "python3",
      "display_name": "Python 3"
    },
    "language_info": {
      "name": "python"
    }
  },
  "cells": [
    {
      "cell_type": "markdown",
      "metadata": {
        "id": "view-in-github",
        "colab_type": "text"
      },
      "source": [
        "<a href=\"https://colab.research.google.com/github/JMindpalace/Machine_Learning/blob/main/6.0%20API.ipynb\" target=\"_parent\"><img src=\"https://colab.research.google.com/assets/colab-badge.svg\" alt=\"Open In Colab\"/></a>"
      ]
    },
    {
      "cell_type": "markdown",
      "source": [
        "# API(Application Programming Interface)\n",
        "소통 인터페이스(지정된 형식으로 요청, 명령을 받는 수단)"
      ],
      "metadata": {
        "id": "IJDhob6D_CNw"
      }
    },
    {
      "cell_type": "code",
      "source": [
        "# API Server의 로드 밸런싱"
      ],
      "metadata": {
        "id": "M2iz3xvpsSb4"
      },
      "execution_count": null,
      "outputs": []
    },
    {
      "cell_type": "markdown",
      "source": [
        "## API 데이터 받기, DB 저장"
      ],
      "metadata": {
        "id": "lJBK1O99_IdK"
      }
    },
    {
      "cell_type": "markdown",
      "source": [
        "\n",
        "\n",
        "---\n",
        "\n",
        "\n",
        "\n",
        "---\n",
        "\n"
      ],
      "metadata": {
        "id": "6J8TBvjKBmGS"
      }
    },
    {
      "cell_type": "markdown",
      "source": [
        "## HTTP(HyperText Transfer Protocol) API"
      ],
      "metadata": {
        "id": "cX6m-JNkBXZK"
      }
    },
    {
      "cell_type": "code",
      "source": [
        "# 서버 요청 - CRUD(Create, Read, Update, Delete) Method - 개인과 서버의 소통 방법\n",
        "\n",
        "# Request Method\n",
        "# GET: 데이터 조회(특정 리소스 요청)\n",
        "# POST: 데이터 생성(클라이언트에서 서버측으로 정보 전달)\n",
        "# PUT/PATCH: 데이터(서버측 리소스)업데이트(PUT은 전체, PATCH는 부분적 변경)\n",
        "# DELETE: 데이터(리소스)삭제\n",
        "\n",
        "# + MDN HTTP Requests Methods\n",
        "\n",
        "# 서버 응답(Status Code)\n",
        "# 100번대: 정보응답, 200번대: 성공, 300번대: 리다이렉션, 400번대: 클라이언트 에러, 500번대: 서버 에러"
      ],
      "metadata": {
        "id": "sO-Dl7EaIWwn"
      },
      "execution_count": null,
      "outputs": []
    },
    {
      "cell_type": "markdown",
      "source": [
        "## REST(REpresentational State of Transfer) API\n",
        "API가 REST의 6가지 가이드라인을 준수하는지 여부<br>\n",
        "모두 준수 시 RESTful API라고 함"
      ],
      "metadata": {
        "id": "fmosCgqm_Dx8"
      }
    },
    {
      "cell_type": "code",
      "source": [
        "# REST에서 사용되는 HTTP (응답) 상태코드\n",
        "# 200은 성공, 201은 생성, 202는 허용, 204는 연결끊김, 301은 영구 이동"
      ],
      "metadata": {
        "id": "Hu7-rgBPzDH6"
      },
      "execution_count": null,
      "outputs": []
    },
    {
      "cell_type": "markdown",
      "source": [
        "## Open (web) API\n",
        "공공데이터, 구글/카카오 API"
      ],
      "metadata": {
        "id": "cNIcfCT0BinZ"
      }
    },
    {
      "cell_type": "markdown",
      "source": [
        "### JSON(Javascript Object Notation)\n",
        "WEB API 데이터 제공 형식"
      ],
      "metadata": {
        "id": "yX3lDLhwBZOO"
      }
    }
  ]
}