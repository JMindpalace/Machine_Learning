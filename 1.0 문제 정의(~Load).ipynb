{
  "nbformat": 4,
  "nbformat_minor": 0,
  "metadata": {
    "colab": {
      "provenance": [],
      "authorship_tag": "ABX9TyPvGbCkKek1RY6YLna58Esc",
      "include_colab_link": true
    },
    "kernelspec": {
      "name": "python3",
      "display_name": "Python 3"
    },
    "language_info": {
      "name": "python"
    }
  },
  "cells": [
    {
      "cell_type": "markdown",
      "metadata": {
        "id": "view-in-github",
        "colab_type": "text"
      },
      "source": [
        "<a href=\"https://colab.research.google.com/github/JMindpalace/Machine_Learning/blob/main/1.0%20%EB%AC%B8%EC%A0%9C%20%EC%A0%95%EC%9D%98(~Load).ipynb\" target=\"_parent\"><img src=\"https://colab.research.google.com/assets/colab-badge.svg\" alt=\"Open In Colab\"/></a>"
      ]
    },
    {
      "cell_type": "markdown",
      "source": [
        "< 해당 페이지는 **문제를 정의**하고, **데이터를 로드**까지의 일괄적 과정을 담은 페이지입니다. >\n",
        "\n",
        "> 데이터 변경은 없고, 데이터셋이 테이블 형태로 전처리할 수 있도록 보기 좋게 만드는 과정만 서술함\n",
        "\n",
        "> 기대 결과 값: df.sample()을 했을 경우, 테이블 형태로 올바른 값이 입력되고, <br>\n",
        "> 행과 열, 데이터 타입 등 데이터셋의 기본 지식을 말할 수 있어야함"
      ],
      "metadata": {
        "id": "-OfZDq9mEmrf"
      }
    },
    {
      "cell_type": "markdown",
      "source": [
        "# 문제 정의(Problem Definition)"
      ],
      "metadata": {
        "id": "5mZeNqufE5lB"
      }
    },
    {
      "cell_type": "markdown",
      "source": [
        "## 문제 정의의 방향성\n",
        "\n",
        "- 총괄적 목적 : 현재의 문제점과 개선방안 등\n",
        "\n",
        "- 부분적 목적 : 데이터 타입, 학습 모델 등에 맞는 전망"
      ],
      "metadata": {
        "id": "kvs53BAFE-GS"
      }
    },
    {
      "cell_type": "markdown",
      "source": [
        "\n",
        "\n",
        "---\n",
        "\n",
        "\n",
        "\n",
        "---\n",
        "\n"
      ],
      "metadata": {
        "id": "HTIrWvUmjxxQ"
      }
    },
    {
      "cell_type": "markdown",
      "source": [
        "# 데이터 자료 수집(Collecting Data-set)"
      ],
      "metadata": {
        "id": "fvv2p1fSGCGc"
      }
    },
    {
      "cell_type": "markdown",
      "source": [
        "## 자료 수집의 예시\n",
        "- DB, Files(csv, XML, JSON, Excel-xlsx), web-crwaling, survey, <br> IoT sensor data, python pakage(beautifulsoup, elenium, pymysql, pymongo) etc\n",
        "- 그 외에 데이터를 이해하기 위한 도메인 지식"
      ],
      "metadata": {
        "id": "z6SLKOFwGFgg"
      }
    },
    {
      "cell_type": "markdown",
      "source": [
        "\n",
        "\n",
        "---\n",
        "\n",
        "\n",
        "\n",
        "---\n",
        "\n"
      ],
      "metadata": {
        "id": "CGdpKOWpjwiK"
      }
    },
    {
      "cell_type": "markdown",
      "source": [
        "# 데이터 Load"
      ],
      "metadata": {
        "id": "7brJg-USE-h8"
      }
    },
    {
      "cell_type": "markdown",
      "source": [
        "## Load 방법 1. pd.read_"
      ],
      "metadata": {
        "id": "MpFPmUXQFAxh"
      }
    },
    {
      "cell_type": "code",
      "source": [
        "pd.read_csv('파일이름.csv') # 추가 파라미터는 모듈 페이지에 기록함\n",
        "pd.read_excel('파일이름.xlsx')"
      ],
      "metadata": {
        "id": "FmU9asYdQTQ3"
      },
      "execution_count": null,
      "outputs": []
    },
    {
      "cell_type": "markdown",
      "source": [
        "## Load 방법 2. PC에서 colab으로 직접 업로드"
      ],
      "metadata": {
        "id": "7l_M4CQrTblc"
      }
    },
    {
      "cell_type": "code",
      "source": [
        "from google.colab import files\n",
        "ploaded = files.upload() # 파일 선택 창에서 선택 후 pd.read로 load하기"
      ],
      "metadata": {
        "id": "_REt8qm_ThYn"
      },
      "execution_count": null,
      "outputs": []
    },
    {
      "cell_type": "markdown",
      "source": [
        "\n",
        "\n",
        "---\n",
        "\n",
        "\n",
        "\n",
        "---\n",
        "\n"
      ],
      "metadata": {
        "id": "0PDhiV_IjvL6"
      }
    },
    {
      "cell_type": "markdown",
      "source": [
        "# 데이터-셋 확인 전 테이블 모양 잡기"
      ],
      "metadata": {
        "id": "nNgfiIPTVHDJ"
      }
    },
    {
      "cell_type": "markdown",
      "source": [
        "## 행-열 변환"
      ],
      "metadata": {
        "id": "BN7uvgPVVJ00"
      }
    },
    {
      "cell_type": "code",
      "source": [
        "df.T # 행열변환 후 1행의 index가 1열로 왔을 경우 df.columns = df.lioc[0]으로 조정"
      ],
      "metadata": {
        "id": "wt_x-BlGWj-G"
      },
      "execution_count": null,
      "outputs": []
    },
    {
      "cell_type": "markdown",
      "source": [
        "## 1행 or 1열 제거 & 칼럼 행 0 -> 1행으로 변경\n",
        "> 가능하면 데이터 Load에 행열을 줄여 실행 시간, 용량 등을 줄이는 것을 추천함"
      ],
      "metadata": {
        "id": "KUWhF9m1WjTb"
      }
    },
    {
      "cell_type": "code",
      "source": [
        "df[df.columns[1:]] # 1열~\n",
        "\n",
        "df.columns = df.iloc[0 , :]; df = df[1:] # Columns을 0행에서 1행으로 변경"
      ],
      "metadata": {
        "id": "n1WmGmzwXE8v"
      },
      "execution_count": null,
      "outputs": []
    },
    {
      "cell_type": "markdown",
      "source": [
        "\n",
        "\n",
        "---\n",
        "\n",
        "\n",
        "\n",
        "---\n",
        "\n"
      ],
      "metadata": {
        "id": "iKHgtpoPRJLM"
      }
    },
    {
      "cell_type": "markdown",
      "source": [
        "# 데이터-셋의 기본 데이터 확인"
      ],
      "metadata": {
        "id": "G-Ix1TLYc4Mk"
      }
    },
    {
      "cell_type": "markdown",
      "source": [
        "## 기본 데이터 종합 파악 - Report\n",
        "> 추가적 pip를 설치해야하지만 강력한 정리를 제공함"
      ],
      "metadata": {
        "id": "un3q3HfGc_f7"
      }
    },
    {
      "cell_type": "code",
      "source": [
        "# !pip install category_encoders\n",
        "# !pip install pandas-profiling==3.1.0\n",
        "from pandas_profiling import ProfileReport\n",
        "df.profile_report()"
      ],
      "metadata": {
        "id": "KMh_ga_Adenf"
      },
      "execution_count": null,
      "outputs": []
    },
    {
      "cell_type": "markdown",
      "source": [
        "## 간략한 데이터 파악 - ☆★ 행열 개수 ★☆\n",
        "> shape으로 데이터 사이즈를 확인하여 충분한 양으로 의미있는 결과 도출이 가능한지 파악!!!"
      ],
      "metadata": {
        "id": "2zvE8WxndhNM"
      }
    },
    {
      "cell_type": "code",
      "source": [
        "df.shape    # (행 , 열)로 반환\n",
        "df.shpae[0] # 행 값만 반환\n",
        "df.columns  # 열들의 이름 반환\n",
        "\n",
        "df[col_name].value_counts() # 열의 데이터별 개수 카운트, 파라미터로 normalize=True 지정 시 비율로 반환"
      ],
      "metadata": {
        "id": "pF6AOik_dtlu"
      },
      "execution_count": null,
      "outputs": []
    },
    {
      "cell_type": "markdown",
      "source": [
        "## 간략한 데이터 파악 - Columns(Features) 정보\n",
        "> Col_Name , NaN Data Count , Dtype"
      ],
      "metadata": {
        "id": "iJm97t6ndvOd"
      }
    },
    {
      "cell_type": "code",
      "source": [
        "df.info() # 파라미터로 memory_usage='deep' 사용 시 데이터셋 용량도 표시, df.dtype"
      ],
      "metadata": {
        "id": "rKHGMAkWd-Fo"
      },
      "execution_count": null,
      "outputs": []
    },
    {
      "cell_type": "markdown",
      "source": [
        "## 간략한 데이터 파악 - 통계적 정보"
      ],
      "metadata": {
        "id": "te3elCb0eW7Y"
      }
    },
    {
      "cell_type": "code",
      "source": [
        "df.describe() # 수치형 데이터의 통계적 정보(최대/소 값, 4분위, 평균 등) 제공\n",
        "df.col_name.describe() # 1개 열만 가능함\n",
        "df.col_name.max() .min() .quantile(q=%) .mean() .median() # 최대/소 값과 4분위, 평균을 별도로 확인"
      ],
      "metadata": {
        "id": "txHUL5CveYci"
      },
      "execution_count": null,
      "outputs": []
    },
    {
      "cell_type": "markdown",
      "source": [
        "## 간략한 데이터 파악 - 데이터셋 확인"
      ],
      "metadata": {
        "id": "Nm-n9cnle8eb"
      }
    },
    {
      "cell_type": "code",
      "source": [
        "# 일부 데이터셋 확인(sample의 추가 파라미터는 모듈 페이지에 기록)\n",
        "df.head() .tail() .sample() # 파라미터에 수치를 입력 시 해당 수치만큼 보여줌, 음수는 음수값 위/아래까지 출력"
      ],
      "metadata": {
        "id": "yf9nD5Lse-sE"
      },
      "execution_count": null,
      "outputs": []
    },
    {
      "cell_type": "markdown",
      "source": [
        "## 간략한 데이터 파악 - 데이터셋 정렬"
      ],
      "metadata": {
        "id": "0c_9y99Hfj1H"
      }
    },
    {
      "cell_type": "code",
      "source": [
        "df.col_name.sort_value() # 기본 오름차순, ascending=False을 지정 시 내림차순\n",
        "df[ df.index.isin('condition') ] # 조건에 부합한 행만 출력"
      ],
      "metadata": {
        "id": "fmlAVPVHflay"
      },
      "execution_count": null,
      "outputs": []
    },
    {
      "cell_type": "markdown",
      "source": [
        "## 간략한 데이터 파악 - 인덱싱 및 선택"
      ],
      "metadata": {
        "id": "AxC3OHh574z3"
      }
    },
    {
      "cell_type": "code",
      "source": [
        "df.loc()  # https://pandas.pydata.org/docs/reference/api/pandas.DataFrame.loc.html\n",
        "df.iloc() # https://pandas.pydata.org/docs/reference/api/pandas.DataFrame.iloc.html"
      ],
      "metadata": {
        "id": "VFj4rteY78AT"
      },
      "execution_count": null,
      "outputs": []
    },
    {
      "cell_type": "markdown",
      "source": [
        "\n",
        "\n",
        "---\n",
        "\n",
        "\n",
        "\n",
        "---\n",
        "\n"
      ],
      "metadata": {
        "id": "ssKBwkdZRNtX"
      }
    },
    {
      "cell_type": "markdown",
      "source": [
        "# 데이터-셋의 저장"
      ],
      "metadata": {
        "id": "dRaCGW0YgZaT"
      }
    },
    {
      "cell_type": "markdown",
      "source": [
        "## 파일 저장"
      ],
      "metadata": {
        "id": "rrxvAiovh3Mm"
      }
    },
    {
      "cell_type": "code",
      "source": [
        "df.to_csv('저장이름.csv', index=False) # csv 파일로 저장\n",
        "df.to_file('./저장이름.html')          # colab에서 ./면 바로 그 경로에 파일 저장"
      ],
      "metadata": {
        "id": "SpES-QT-h5tC"
      },
      "execution_count": null,
      "outputs": []
    },
    {
      "cell_type": "markdown",
      "source": [
        "구글 드라이브 마운트 > 드라이브에 저장"
      ],
      "metadata": {
        "id": "A0vJoSW6iKWb"
      }
    },
    {
      "cell_type": "code",
      "source": [
        "import sys\n",
        "if \"google.colab\" in sys.modules:\n",
        "  from google.colab import drive\n",
        "  drive.mount('/content/drive')"
      ],
      "metadata": {
        "id": "hOlTbdCbiMo0"
      },
      "execution_count": null,
      "outputs": []
    }
  ]
}