{
  "nbformat": 4,
  "nbformat_minor": 0,
  "metadata": {
    "colab": {
      "provenance": [],
      "authorship_tag": "ABX9TyNMeB9qDvA7pwrJyZYYq651",
      "include_colab_link": true
    },
    "kernelspec": {
      "name": "python3",
      "display_name": "Python 3"
    },
    "language_info": {
      "name": "python"
    }
  },
  "cells": [
    {
      "cell_type": "markdown",
      "metadata": {
        "id": "view-in-github",
        "colab_type": "text"
      },
      "source": [
        "<a href=\"https://colab.research.google.com/github/JMindpalace/Machine_Learning/blob/main/2.0%20%EB%8D%B0%EC%9D%B4%ED%84%B0%20%EC%A0%84%EC%B2%98%EB%A6%AC.ipynb\" target=\"_parent\"><img src=\"https://colab.research.google.com/assets/colab-badge.svg\" alt=\"Open In Colab\"/></a>"
      ]
    },
    {
      "cell_type": "markdown",
      "source": [
        "< 해당 페이지는 **데이터 전처리** 과정을 담은 페이지입니다. >\n",
        "\n",
        "> 데이터 변경의 거의 마지막 페이지이며, 분석을 위한 깔끔한 테이블을 만드는 것이 목적입니다.\n",
        "\n",
        "> 전처리는 크게 일반적, 전문적으로 구분했으며<br>\n",
        "> 추가적으로 인공지능에 필요한 전처리를 추가 했습니다.\n",
        "\n",
        "> 기대 결과 값: 분석 혹은 모델에 알맞은 전처리를 시행하고 <br>\n",
        "> 간략한 특성 간의 관계를 이해하여 특성 조정이나 기대 예측이 가능하다"
      ],
      "metadata": {
        "id": "-OfZDq9mEmrf"
      }
    },
    {
      "cell_type": "markdown",
      "source": [
        "# 데이터 전처리(Data Preprocessing, Data wrangling)"
      ],
      "metadata": {
        "id": "5mZeNqufE5lB"
      }
    },
    {
      "cell_type": "markdown",
      "source": [
        "## 데이터 전처리의 방향성\n",
        "\n",
        "- 품질적 문제해결 : 결측치, 이상치, 중복데이터 등 데이터 값 처리\n",
        "\n",
        "- 구조적 문제해결 : 변수의 열과 관측치의 행이 올바른 테이블 만들기<br>\n",
        "  - 국소적으로는 Tidy data조건을 만족하여 분리가 가능하고\n",
        "  - 전체적으로는 Untidy data조건을 만족하여 키 값을 기준으로 통합된 형태"
      ],
      "metadata": {
        "id": "kvs53BAFE-GS"
      }
    },
    {
      "cell_type": "markdown",
      "source": [
        "\n",
        "\n",
        "---\n",
        "\n",
        "\n",
        "\n",
        "---\n",
        "\n"
      ],
      "metadata": {
        "id": "HTIrWvUmjxxQ"
      }
    },
    {
      "cell_type": "markdown",
      "source": [
        "## 일반적인 전처리\n",
        "> Columns 순서&이름 변경 , 데이터 타입 변경"
      ],
      "metadata": {
        "id": "JOv5PDUVO48S"
      }
    },
    {
      "cell_type": "markdown",
      "source": [
        "### Columns 순서&이름 변경"
      ],
      "metadata": {
        "id": "wwQyEIxePBl5"
      }
    },
    {
      "cell_type": "code",
      "source": [
        "# Columns 순서 변경\n",
        "change_col = [ 'ind1', 'ind2' --- ]; df[change_col]\n",
        "\n",
        "# Columns 이름 변경\n",
        "df.add_prefix() .add_suffix() # 접두/미사 추가\n",
        "df.rename( {변경 전 : 변경 후} ,  inplace=True, axis='columns' ) # 이름 단수 변경\n",
        "df.columns = [ 변경 전 : 변경 후 ] # 이름 복수 변경"
      ],
      "metadata": {
        "id": "vIpG5I8PQYbt"
      },
      "execution_count": null,
      "outputs": []
    },
    {
      "cell_type": "markdown",
      "source": [
        "### 데이터 타입 변경"
      ],
      "metadata": {
        "id": "bAydwv3WX1fe"
      }
    },
    {
      "cell_type": "code",
      "source": [
        "# 데이터 타입 검색\n",
        "df.select_dtypes(include='data type').head() # include 대신 exclude 사용 시 제외할 타입\n",
        "df.select_dtypes( 'include = [data type, --- ] ').head() # 다중 데이터 타입 검색"
      ],
      "metadata": {
        "id": "EoUJ7RCpgAAH"
      },
      "execution_count": null,
      "outputs": []
    },
    {
      "cell_type": "code",
      "source": [
        "# 모든 열 같은 데이터 타입으로 일괄 변경\n",
        "df.columns.astype('data type')"
      ],
      "metadata": {
        "id": "zXzySiFUXzpc"
      },
      "execution_count": null,
      "outputs": []
    },
    {
      "cell_type": "code",
      "source": [
        "# 1열을 제외한  모두 같은 데이터 타입으로 변경  >> 해당 1열을 인덱스화 후 해제\n",
        "df.set_index('제외할 1열')\n",
        "df.astype('data type')\n",
        "df.reset_index(inplace = True) # 원본에 영향 - 인덱스 해제 후 새로운 인덱스 생성\n",
        "# reseut_index 원본 영향 없이 - drop(인덱스 열 삭제 여부) & append(기존 인덱스 삭제 여부) = True/False\n",
        "# 역순 정렬은  행: df.loc[::-1].reset_index  //  열: df.loc[: , ::-1]"
      ],
      "metadata": {
        "id": "8uXbHAnaYCxf"
      },
      "execution_count": null,
      "outputs": []
    },
    {
      "cell_type": "code",
      "source": [
        "# 데이터 타입 변경 중 Nan이 있는 경우\n",
        "df.astype(df.columns, erros = 'coerce' )\n",
        "# 일괄 수치형 변환\n",
        "df.apply(pd.to_numeric, erros = 'coerce' )\n",
        "# 수치 -> 범주형으로 변환(bins는 describe로 4분위 구하기 등 , 레이블은 범위 - labels = ['a', 'b', 'c' --- ])\n",
        "pd.cut( x=df['레이블로 구분할 칼럼'], bins=bins, labels=labels )"
      ],
      "metadata": {
        "id": "-OufFZmLcZ-y"
      },
      "execution_count": null,
      "outputs": []
    },
    {
      "cell_type": "markdown",
      "source": [
        "### 정규 표현식"
      ],
      "metadata": {
        "id": "A1d1PH4TZw5H"
      }
    },
    {
      "cell_type": "code",
      "source": [
        "df['col_name'].str.contains( r[정규표현식] )\n",
        "\n",
        "( '[ ^ ]' ) # 반전 검색\n",
        "( '[ \"a-zA-Z\" or [\"ㄱ-ㅎ\"] ]' ) # 문자열 검색\n",
        "( '[ \"0-9\" ]' or [\\d+] ) # 숫자 검색"
      ],
      "metadata": {
        "id": "_VNA0WxUZ2wW"
      },
      "execution_count": null,
      "outputs": []
    },
    {
      "cell_type": "markdown",
      "source": [
        "\n",
        "\n",
        "---\n",
        "\n",
        "\n",
        "\n",
        "---\n",
        "\n"
      ],
      "metadata": {
        "id": "v_GEq_GfPihp"
      }
    },
    {
      "cell_type": "markdown",
      "source": [
        "## 전문적인 전처리"
      ],
      "metadata": {
        "id": "_GMZWLlCPCd7"
      }
    },
    {
      "cell_type": "markdown",
      "source": [
        "### 세부(결측치) 데이터 처리 - 품질적 문제 해결\n",
        "> 결측치 이유 1. 조건부 특성에서의 특정 조건(남성의 임산부 기록)<br>\n",
        "> 결측치 이유 2. 응답자가 원하지 않아 비운 경우(결측치가 주는 시그널 있음)<br>\n",
        "> 결측치 이유 3. 엔지니어의 실수"
      ],
      "metadata": {
        "id": "HVy_6wzTPFVa"
      }
    },
    {
      "cell_type": "code",
      "source": [
        "# 결측치 확인\n",
        "df.isnull().sum() # null 갯수 출력 : '-' 등 무슨 값이라도 있다면 null로 인식하지 않음\n",
        "df[ df[col_name].isnull() ] # null 행 출력\n",
        "\n",
        "# 함수로 특정 오류 값 확인\n",
        "import re\n",
        "def has_check(inputstring):\n",
        "  return bool( re.search('[_ , ! , . , \\d+' , inputstring) )\n",
        "df[ df.col_name.apply(has_check) ]"
      ],
      "metadata": {
        "id": "A0vx2CanQ5WR"
      },
      "execution_count": null,
      "outputs": []
    },
    {
      "cell_type": "code",
      "source": [
        "# 결측치 변경\n",
        "\n",
        "# 1. 값 교체\n",
        "df.col_name.str.replace('a to','b') # b에 np.nan을 넣으면 Nan data 삽입, regex=True면 일부 같더라도 변경\n",
        "df.col_name.str[:범위].str.pad('범위까지 자릿수', fillchar='자릿수까지 비었다면 채울 내용')\n",
        "\n",
        "# 2. 값 대체 - df.fillna()로 같지만 파라미터가 다름\n",
        "(n or 'n') # 단일 값으로 대체\n",
        "(method = 'ffill' or 'pad' | 'bfill' or 'backfill') # 위/아래값으로 대체(대체 중 nan이면 nan으로 유지됨)\n",
        "# 위/아래값의 추가 파라미터 - limit=n : 채우는 횟수 제한\n",
        "# 변형 - df.interpolate(method='nearest').ffill().bfill() : 첫/마지막 결측치를 가까운 위/아래로 대체\n",
        "( df.mean() ) # 평균 값으로 대체\n",
        "\n",
        "# 3. 값 제거\n",
        "df.dropna()\n",
        "df.col_name.str.strip('content') # 특정 값 제거\n",
        "\n",
        "# 4. 값 제외(특정 값만 제외)\n",
        "df[ df.col_name != 'content' ]\n",
        "\n",
        "# 5. 값 분리(마지막의 str은 split로 분리되는 2개의 데이터셋 모두에게 적용하기 위함)\n",
        "df['col_name'].str.split('sep_content', len).str"
      ],
      "metadata": {
        "id": "bkJyiPzHSRCL"
      },
      "execution_count": null,
      "outputs": []
    },
    {
      "cell_type": "code",
      "source": [
        "# Sk-learn 함수 사용 or 키-몸무게 등 다른 특성으로 조건부 채우기 등\n",
        "\n",
        "# 결측치가 다른 특성과 무관할 경우 사용(충분히 큰 데이터 혹은 결측치가 10% 이내일 때 등 사용)\n",
        "from sklearn.impute import SimpleImputer # 단일 대표값으로 결측치 채우기\n",
        "imputer = SimpleImputer(strategy=\"median\") # mean, most_frequent, constant 중 선택 가능\n",
        "imputer.fit_transform(df)"
      ],
      "metadata": {
        "id": "3fSob9OxfFXc"
      },
      "execution_count": null,
      "outputs": []
    },
    {
      "cell_type": "markdown",
      "source": [
        "### 구조(전체)적 데이터 처리 - 구조적 문제 해결"
      ],
      "metadata": {
        "id": "mDAFTevYPMbk"
      }
    },
    {
      "cell_type": "code",
      "source": [
        "df['추가할 Col_name'] = array 변수 # 데이터셋에 프레임 추가\n",
        "df.drop( 'del_col_name', axis=1 )  # 데이터셋의 프레임 제거"
      ],
      "metadata": {
        "id": "2d1deJiQT-6a"
      },
      "execution_count": null,
      "outputs": []
    },
    {
      "cell_type": "code",
      "source": [
        "# 데이터셋 분리\n",
        "df['new_col_name'] = df.sep_col.str.extract( '(\\d+)' ) # 정규표현식 분리\n",
        "pd.melt( df, id_vars=['col_name' , '구분 기준(분리되지 않을)이 될 칼럼'] ) # value_vars = '값 , var_name = '이름'"
      ],
      "metadata": {
        "id": "tM1PYYW3UR09"
      },
      "execution_count": null,
      "outputs": []
    },
    {
      "cell_type": "code",
      "source": [
        "# 데이터셋 통합 - how = 'inner(공통)' , 'left(좌측-셋)' , 'right(우측-셋)' , outer(전체)\n",
        "df.pivot_table(index='index', columns='variable', values='value')\n",
        "pd.concat( [col1, col2], ignore_index=True ) # 기본 행 정렬, axis=1 or 'columns'면 열 정렬\n",
        "df.merge(merge_할_col_name, how='' , on = ['key'] )\n",
        "df1.join(df2) # 추가 파라미터: lsuffix or rsuffix = ''  - 칼럼 이름이 동일 시 변경"
      ],
      "metadata": {
        "id": "mhrNIW4wU0g9"
      },
      "execution_count": null,
      "outputs": []
    },
    {
      "cell_type": "markdown",
      "source": [
        "### 중복(Duplicated) 처리"
      ],
      "metadata": {
        "id": "Q8_oy5ODPZ5W"
      }
    },
    {
      "cell_type": "code",
      "source": [
        "df [ df.duplicated() ] # 중복값 확인\n",
        "df.duplicated.sum()    # 중복값 갯수 확인\n",
        "\n",
        "df.drop_duplicated()   # 중복값 제거"
      ],
      "metadata": {
        "id": "hg1Lg5vJZGUv"
      },
      "execution_count": null,
      "outputs": []
    },
    {
      "cell_type": "markdown",
      "source": [
        "\n",
        "\n",
        "---\n",
        "\n",
        "\n",
        "\n",
        "---\n",
        "\n"
      ],
      "metadata": {
        "id": "FhgEWNDgPhxW"
      }
    },
    {
      "cell_type": "markdown",
      "source": [
        "## 인공지능 전처리"
      ],
      "metadata": {
        "id": "KyINvWnBPjJK"
      }
    },
    {
      "cell_type": "code",
      "source": [
        "df.describe(exclude='number').sort_values(by='unique') # check the cardinality\n",
        "# 높은 카디널리티 drop 추가하기"
      ],
      "metadata": {
        "id": "T4AZEYqcXgDh"
      },
      "execution_count": null,
      "outputs": []
    },
    {
      "cell_type": "markdown",
      "source": [
        "### 수치형 모델 - ex.) Linear / Logisitc Regression etc\n",
        "> 결측치 반드시 해결(전문적 처리에 추가함)<br>\n",
        "\n",
        "> 비선형적 특성 혹은 특성 간 상호작용 미리 처리<br>\n",
        "> 입력 특성의 크기 / 범위 / 분포 통일<br>\n",
        "\n",
        "> 수치형 선형변환: Min-Max, Standardization, Robust, RankGauss<br>\n",
        "> 수치형 비선형변환: 로그, 거듭제곱, 정규화<br>\n",
        "> 수치형 기타변환: KBinsDiscretizer, Rank"
      ],
      "metadata": {
        "id": "Z4hRXOZnbSl9"
      }
    },
    {
      "cell_type": "markdown",
      "source": [
        "#### 입력 특성의 크기 / 범위 / 분포 통일 - 값 분포의 스케일만 변형 도구 2가지"
      ],
      "metadata": {
        "id": "BKkoWWsMT93n"
      }
    },
    {
      "cell_type": "code",
      "source": [
        "# 1. Min-Max Scaling - 0~1사이 값으로 스케일링, 이상치가 크게 벗어나지 않음(균등 분포일 때)\n",
        "from sklearn.preprocessing import MinMaxScaler # Min-Max Scaling - 분포만 스케일링\n",
        "\n",
        "scaler = MinMaxScaler()\n",
        "scaler.fit_transform(df).values.reshape(-1 , 1)\n",
        "\n",
        "\n",
        "# 2. Standardization - 평균을 0, 표준편차를 1로 조정함, 수치형 변환 첫 시도(이상치 분포 확인이 어려울 때)\n",
        "from sklearn.preprocessing import StandardScaler # Standardization - 0평균/1표준편차 분포만 스케일링\n",
        "\n",
        "scaler = StandardScaler()\n",
        "scaler.fit_transform(df).values.reshape(-1 , 1)\n",
        "\n",
        "# 그래프의 경우 1과 2과 동일하게 나옴, 원본이나 스케일 이후나 형태는 똑같다\n",
        "# 하지만 마지막 스케일의 경우 균등하게 증가하며, 이상치가 1로 적절하지 않은 적용임을 알 수 있다"
      ],
      "metadata": {
        "id": "Gjt3DQE7iK7t"
      },
      "execution_count": null,
      "outputs": []
    },
    {
      "cell_type": "markdown",
      "source": [
        "![image.png](data:image/png;base64,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)"
      ],
      "metadata": {
        "id": "IEoE1sJoSBZp"
      }
    },
    {
      "cell_type": "markdown",
      "source": [
        "#### 입력 특성의 크기 / 범위 / 분포 통일 - 값 분포의 스케일과 형태(값 간의 상대적 거리 변화) 변형 도구 4가지"
      ],
      "metadata": {
        "id": "dCwc6iwCUJRW"
      }
    },
    {
      "cell_type": "code",
      "source": [
        "# 1. Clipping - 특정 범위 이상의 값은 경계값으로 변환, 분포 전체보다는 이상치에만 영향을 줌\n",
        "df[col_name].clip(lower=n, upper=n)\n",
        "\n",
        "# 원본에서 300이 초과하던 값이 150으로 압축되었다, 원본의 변경은 없지만\n",
        "# 마지막 스케일의 경우 지정값까지는 균일하지만 이후에는 경계값으로 고정된 1차원 형태"
      ],
      "metadata": {
        "id": "UJq2DepVPz4x"
      },
      "execution_count": null,
      "outputs": []
    },
    {
      "cell_type": "markdown",
      "source": [
        "![image.png](data:image/png;base64,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)"
      ],
      "metadata": {
        "id": "4A96l2jJU1po"
      }
    },
    {
      "cell_type": "code",
      "source": [
        "# 2. 로그 변환 - 다수 값이 제한된 범위, 특정 값들이 굉장히 큰 형태에서 사용, 음이 아닐 때만 사용 가능\n",
        "np.log1p( df[col.name] )\n",
        "\n",
        "# 원본 그래프에서 정규분포의 형태로 변환되었다, 그 결과 마지막 스케일도 완만한 곡선의 형태가 되었다.\n",
        "# 좁은 범위로 스케일되었고, 계단형태로 값이 증가되었지만 값이 많기에 곡선형태로 보임"
      ],
      "metadata": {
        "id": "RD4xv-tqU163"
      },
      "execution_count": null,
      "outputs": []
    },
    {
      "cell_type": "markdown",
      "source": [
        "![image.png](data:image/png;base64,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)"
      ],
      "metadata": {
        "id": "Egi_3TBCVuFR"
      }
    },
    {
      "cell_type": "code",
      "source": [
        "# 3. Bucketing - 수치형을 범주형처럼 이용, 값이 속하는 범위를 지정하고 속하는지를 숫자로 나타냄\n",
        "# 값의 범위(strategy) - 1) quantile: 범위 내에 동일한 수 , 2) uniform: 동일 간격으로 분리 , 3) kmeans\n",
        "from sklearn.preprocessing import KBinsDiscretizer # Bucketing - 수치형 값을 범위에 속하는지 구분\n",
        "kdb = KBinsDiscretizer(n_bins=8, encode='ordinal', strategy='uniform') # encode는 onehot도 가능함\n",
        "kdb.fit_transform(df).values.reshape(-1, 1)\n",
        "\n",
        "# 원본 그래프가 범위 범주에 속하는지로 변경됨, 스케일 그래프도 불완전 그래프를 보임"
      ],
      "metadata": {
        "id": "COyAC5FaVuTr"
      },
      "execution_count": null,
      "outputs": []
    },
    {
      "cell_type": "markdown",
      "source": [
        "![image.png](data:image/png;base64,iVBORw0KGgoAAAANSUhEUgAAA6UAAAEWCAYAAACe4DG0AAAgAElEQVR4nO3de5gcZZmw8Xty4BQCgdCLgQDhEEGIS4AIUVkXibgEENAPEXAhsnHjruCKq6sBV8Vd3Q9d8YiLGwEB5ShyiHKQGEHEz0QSiCGcJMQEEkIyBEgQkDBkvj+et+2eTs9Mz3RPV0/3/buuurrq7eqqZ2bSlXrqPYEkSZIkSZIkSZIkSZIkSZIkSZIkSZIkSZIkSZIkSZIkSZIkSZIkSRqkzgMuGYB9e9MJ7FOjY0lSX5wP/CiD844jrn3DMji3pNawNfBTYD3w4zqf+yHgiDqfU1KD+hDwIPAy8AxwMTAq04jKMymVVInlwCvAn4DngVuB3ao8Zn+T0mqTWZNSqbUsBzYCO5WUP0BcC8YNwDlPB37HwF9nLge+NMDnUIaGZB2ABrVPAl8B/g3YHpgM7AHMAbYos783RpIGg/cA2wJjgDXAd7INR5Iq9kfg1KLtNwPbDOD59gD+AHQM4DkkqVvbETUJJ5eUbwu0A/9APOW/gXjSvwH4MJs/+T8DWAGsAz5HPOV7V3qveN/8E/9pwJPAs8Bni45zKPBb4AVgNXARXRNja0olVaL4GgRwDHHDBXA3cR3L+xBwb9H2AcRDueeIZPa8VF58LRsOXAP8hLhG7ZLW24mbyX9J+x1N1Hi8Rlxrf5/KtwcuJa5zq4iag6HpvaHA14jr4zLgLKwplVrJcuDfgfuKyr5G3C8V15QeS9SebgCeIq5Refn7rRnA08S15lPdnO+LdL1OTWfz+7zSFht3A/8J/AZ4EbiTrjW7hwP/j7ife4q4zs5I59iYzvPTop83f73eEvhmivnptL5leu8IYCVRmbI2/UxndvMzKSPWlKq/3gZsBdxYUv4n4DbgqLR9ApGYjgKuKtl3f+B/gA8SNRLbA7v2ct7DgX2BKcDngTel8teBTxAXtrem9z/alx9IkkpsA3wAmFfBviOBXwB3EInmPsDckn22Bm4GXiUe6HUQN1e/J659U4BzgL9Lx/kv4DriYd+B6RiXp8/tAxwEvJtCovyPwHGpfBJwUh9+VknNYR5RcfAm4kHVKWzeDeAlolJgFJGg/jNwYsk+7wTGE9eYz9D1YV3eF+h6nbq0whhPI5LCvyIezuWT3j2A24nWKTlgIrAImEXcQ341nec9ZY75WaLF3kTienkokaDnvYHCfeZ04LvADhXGqzowKVV/7UQ8jS/XXGM1hadevyVuwjYR/bSKnUTckN1LPP36PPE0rSdfTMf5fVryN2oLiQtxB/Hk7H+Bv634p5GkgpuJp/TriQds/13BZ44j+tVfCPyZqAGYX/T+dkSi+QRxM/Y68Bbixus/iGvgMuD7xE1kOTsTNbfnEDeVa4FvFO1/MlE78BRRW/t/K4hbUvP5IZF0HgU8QrSqKHY3MR7IJmAx0Xqj9J7pi8R15kHgB3RtElytHxAtUF4BricSSYhk9RcpnteIVnSLKjzmB4lr6Vqi5ckXif6uea+l918jKk/+RFRyqEHYpEf99SyReA5j88R0THof4uaoO7uUvP8ycQHqyTMl+2+b1t8IfJ2oHdgmxbWwl2NJUjknEjdGQ4nWHr8iWnb0ZDci4ezOZKLp7qkUHr7tQVwHXyjabyjw626OsUc6xuqisiEUrqOl19QVvcQsqTn9ELgH2BO4ssz7hwEXABOImsot2Xzk3NJryZtrGF9393K9XUd7sgtdr3krUlneOrrerxafVw3AmlL112+JJmjvKynfFphKodlaTzWfq4GxRdtbA6P7Gc/FwKNEU5PtiL5cbf08liRB1GbemF4PJ2oNigcMeUPR+lPAXj0c606i5nIuUeOZ/8wfiSZ0+WUkURsKm18/nyKuuzsV7b8d0ZcV4ppaPFLw7j39cJKa1gri2nIMm3ezArgamE1cL7YHvsfm90yl15KnKzx3T9fJ3jwF7N3Ne721pHuaeHCX15eY1QBMStVf64mmEd8hBuQYTnRmv57oTP7DCo5xA9Ev4G3Ek7rz6X8iOZLosP8nYD+if4QkVaONqCndgWgCt4h4ELcN0adzetG+PyNaiZxD1DqMJGojin2VuBmcSySWvyOa+X6GeCg3lKi5eEvafw1xXc3/X72aSG4vJJLRIcQNXL7Z3fXEQEljU8wz+/+jSxrkpgNHEkliqZFEE/8/E30vTyuzz+eIa90BRJeD6yo87yLgHURSuD1wbh9ivorou3oy0eJtNIWmvWvo+cHfNUQf0hxxff082cwPrX4yKVU1vkrUSH6NSAjnE0+5phBP83vzEPAx4FriZutPRF+ASj5b6lPERfVFok9WpRdPSSr1U+J6tAH4MjHq90NE/82NxM3RFXQdvO1Fov/We4imaY8TA4WU+k+iz+oviBu244ibrj8S3R4uSeVQaE63Drg/rZ9BPMR7mJhH9QYiGYa49v2c6G9/P+VrSCS1hieABd2891Gif+WLRPJ2fZl9fgUsJR6ifY14IFaJOcQ92GKiG9XPKg+ZJ4na3U8SSfMiCmOHXEp0o3iBuIaW+hLx8y4m+sHej/OaSuqnbYn2/ntmHYgkSVILKp3CRZJawnuI5iEjiD4ND2BfUEmSpCyYlCoTNt9V1k6gMNHxeGJqg946s0uSJEmSJEmSJEmSJEmSJA1SDdF3b/To0Z3jxo3LOgxJDWbhwoXPEsO7NwWvdZLKabZrHXi9k7S5nq51DdGJedy4cSxY0N2o1ZJaVVtb24qsY6glr3WSymm2ax14vZO0uZ6udQ50JEmSJEnKjEmpJBV8AngIWAJcA2xFzJs7n5hE/Dpgi7Tvlml7aXrfdmqSJEn9YFIqSWFX4F+AScAEYCgxRdFXgG8A+wDPA9PT/tPT9j7p/a/UOV5JkqSmYFIqSQXDgK3T6zbAauBI4Ib0/hXAiWn9hLRNen8KDTJ4nCRJ0mBiUipJYRXwNeBJIhldDywEXgA60j4riRpV0utTab0j7T+6zHFnAAuABe3t7QMSuCRJ0mBmUipJYQei9nNPYBdgBHB0DY47i2gSPCmXa6oZHyS1jn2BRUXLBuCcTCOS1FQaYkoYSWoA7wL+COSrM28E3g6MIq6VHcBYokaV9LobUXs6DNgeWFfHeCWpXh4DJqb1ocT176bswpGUtavnP8ntS1YzdcIYTjts96qPZ1IqSeFJYDLRl/QVoo/oAuAu4CTgWmAacEvaf3ba/m16/5dAZ31DlqS6mwI8ATTd3KqSKnP1/Cc576YHAfj1488CVJ2Y2nxXksJ8YsCi+4EHievjLOAzwL8SU7+MBi5N+1+atpem92fWOV5JysIpxJRZ5diHXmoBty9Z3eN2f1hTWqFxM2/drGz5BcdmEImkAfSFtBRbBhxaZt8/A+8f8IgagNc/SckWwPHAud28Pyst5HI5W45ITWrqhDF/qSHNb1fLpFSSJEmVmEq0JlmTdSCSspNvqmufUkmSJNXbqXTfdFdSCzntsN1rkozm2adUkiRJvRkBHEWMTC5JNWVNqSRJknrzEjG4myTVnDWlkiRJkqTMVJKUXgasBZYUlV0HLErL8vQKMI6Y3y//3vdqFqkkSZIkqelU0nz3cuAi4Mqisg8UrV8IrC/afgKYWH1okiRJkqRmV0lSeg9RA1pOG3AycGTNIpIkSZIktYxq+5T+DTFX1eNFZXsCDwC/Su93ZwawAFjQ3t5eZRiSJEmSpMGo2tF3S+erWg3sDqwDDgFuBg4ANpT57Ky0kMvlOquMQ5IkSZI0CFVTUzoMeB8x6FHeq0RCCrCQ6F/6xirOIUmSJElqYtUkpe8CHgVWFpXlgKFpfS9gPLCsinNIkiRJkppYJUnpNcBvgX2JBHR6Kj+Frk13Ad4BLCamg7kB+CfguZpEKkmSJElqOpX0KT21m/IPlSn7SVokSZIkSepVtaPvSpIkSZLUbyalkiRJkqTMmJRKkiRJkjJjUipJkiRJyoxJqSSFfYmRw/PLBuAcYEdgDvB4et0h7d8GfBtYSow6fnCd45UkSWoKJqWSFB4DJqblEOBl4CZgJjCXmHd5btoGmJrKxgMzgIvrHK8kSVJTMCmVpM1NAZ4AVgAnAFek8iuAE9P6CcCVQCcwDxgFjKlvmJIkSYOfSakkbe4U4Jq0vjOwOq0/k7YBdgWeKvrMylRWagawAFjQ3t5e+0glSZIGOZNSSepqC+B44Mdl3utMS1/MAiYBk3K5XJWhSZIkNR+TUknqaipwP7Amba+h0Cx3DLA2ra8Cdiv63NhUJknNaBRwA/Ao8Ajw1mzDkdRMTEolqatTKTTdBZgNTEvr04BbisrPIEbhnQysp9DMV5KazbeAO4D9gAOJxFSSamJY1gFIUgMZARwFfKSo7ALgemA6MfDRyan8NuAYYkqYl4Ez6xemJNXV9sA7gA+l7Y1pkaSaMCmVpIKXgNElZeuI0XhLdQJnDXhEkpS9PYF24AdELelC4OPENbPYjLTgwG6S+sLmu5IkSerJMOBgYj7mg4hkdGaZ/RzYTVK/mJRKkiSpJyvTMj9t30AkqZJUEyalkiRJ6skzxLzM+6btKcDD2YUjqdnYp1SSJEm9+RhwFTGX8zIc3E1SDZmUSpIkqTeLiP6iklRzNt+VJEmSJGWmkqT0MmAtsKSo7HxgFfHUbBExV1/eucS8fY8Bf1ebMCVJkiRJzaiSpPRy4Ogy5d8AJqbltlS2P3AKcED6zP8AQ6sPU5IkSZLUjCpJSu8BnqvweCcA1wKvAn8kakwP7V9okiRJkqRmV02f0rOBxUTz3h1S2a7EkOF5K1NZOTOABcCC9vb2KsKQJEmSJA1W/U1KLwb2JprurgYu7McxZhGjuE3K5XL9DEOSJEmSNJj1NyldA7wObAK+T6GJ7ipgt6L9xqYySZIkSZI20995SscQNaQA76UwMu9s4Grg68AuwHjgd9UEOJiMm3nrZmXLLzg2g0gkSZIkaXCoJCm9BjgC2InoI/qFtD0R6ASWAx9J+z4EXA88DHQAZxE1qpIkSZIkbaaSpPTUMmWX9rD/l9MiSZIkSVKPqhl9V5IkSZKkqpiUSpIkSZIyY1IqSQWjgBuAR4FHgLcCOwJzgMfTa35e5jbg28BSYs7mg+sdrCRJUjMwKZWkgm8BdwD7AQcSielMYC4xmvjctA0wNZWNB2YQ8zdLkiSpj/o7JYyq4NQxUkPaHngH8KG0vTEtJxAjjgNcAdwNfCaVX0mMQj6PqGUtni5LkiRJFbCmVJLCnkA78APgAeASYASwM4VE85m0DbAr8FTR51emslIzgAXAgvb29tpHLUmSNMiZlEpSGEb0C70YOAh4iUJT3bzOtPTFLGASMCmXy1UboyRJUtMxKZWksDIt89P2DUSSuoZolkt6XZvWVwG7FX1+bCqTJElSH5iUSlJ4hmiOu2/angI8DMwGpqWyacAtaX02cAYxCu9kYD32J5UkSeozBzqSpIKPAVcBWwDLgDOJh3fXA9OBFcDJad/bgGOIKWFeTvtKkiSpj0xKJalgEdH/s9SUMmWdwFkDG44kNYzlwIvA60AH5a+VktQvJqWSJEmqxDuBZ7MOQlLzsU+pJEmSJCkzJqWSJEnqTSdwJ7CQmH+5HOdlltQvNt+VJElSbw4npr36K2AO8ChwT8k+s9JCLpfr65zOklqYNaWSJEnqTX4e5rXATcChGcYiqcmYlEqSJKknI4CRRevvBpZkF46kZmPz3QE2buatWYcgSZJUjZ2J2lGIe8ergTuyC0dSszEplSRJUk+WAQdmHYSk5lVJ893LiP4Dxc00/pvo4L6YeHI2KpWPA14hJqBfBHyvZpFKkiRJkppOJUnp5cDRJWVzgAnAXwN/AM4teu8JYGJa/qkGMUqSJEmSmlQlSek9wHMlZXcCHWl9HjC2lkFJkiRJklpDLUbf/Qfg9qLtPYEHgF8Bf9PD55xgWZIkSZJaXLUDHX2WqDG9Km2vBnYH1gGHADcDBwAbynzWCZYlSZIkqcVVU1P6IeA44INAPql8lUhIARYS/UvfWMU5JEmSJElNrL9J6dHAp4HjgZeLynPA0LS+FzCeGEZckiRJkqTNVNJ89xrgCGAnYCXwBWK03S2JUXghBjv6J+AdwH8ArwGbUlnpIEmSJEmSJAGVJaWnlim7tJt9f5IWSZIkSZJ6VYvRdyWpWSwHHgQWEaODA+xItAp5PL3ukMrbgG8DS4HFwMF1jVSSJKlJmJRKUlfvBCYCk9L2TGAu0Ud+btoGmJrKxhNTXF1c3zAlSZKag0mpJPXsBOCKtH4FcGJR+ZXE6OPzgFHAmLpHJ0mSNMiZlEpSQSdwJzGl1YxUtjMxBzPAM2kbYFfgqaLPrkxlkiRJ6oNKBjqSpFZxOLAK+Cui/+ijJe93UpiXuVIz0kJ7e3u18UmSJDUdk9IqjJt5a9YhSKqtVel1LXATcCiwhmiWuzq9ri3ad7eiz44t+nyxWWkhl8v1NaGVJElqejbflaQwAhhZtP5uYAkwG5iWyqcBt6T12cAZxCi8k4H1FJr5SpIkqULWlEpS2JmoHYW4Nl4N3AHcB1wPTAdWACenfW4DjiGmhHkZOLOewUpSH/2UnrsfHF+vQCSplEmpJIVlwIFlytcBU8qUdwJnDWhEklQ7X0uv7wPeAPwobZ9KdFOQpMyYlEqSJDW/X6XXCynMwwxRg7qg/uFIUoF9SiVJklrHCGCvou09U1klhgIPAD+rdVCSWps1pZIkSa3jE8DdRJeFNmAP4CMVfvbjwCPAdgMTmprRwhXPM2/ZOibvNZpD9tgBgKvnP8ntS1YzdcIYTjts9x73VWswKZUkSWoddwDjgf3S9qPAqxV8bixwLPBl4F8HJjQ1m4UrnueDl8xjY8cmthg2hKs+PJnHnnmR8256EIBfP/4sAKcdtnvZfU1MW4fNdyVJklrHNsC/AWcDvwd2B46r4HPfBD4NbOphnxlE/9QF7e3tVYapZjBv2To2dmxiUye81rGJecvWcfuSrrOn5bfL7avWYVIqSZLUOn4AbATemrZXAV/q5TPHAWuBhb3sN4sYRGlSLperJkY1icl7jWaLYUMY2gbDhw1h8l6jmTphTJd98tvl9lXrsPmuJElS69gb+AAxFQzEPMttvXzm7cQ8pscAWxF9Sn8E/P0AxagmccgeO3DVhyd36Seab5Jb2qe03L5qHSalkiRJrWMjsDUx1zJEktpbn9Jz0wJwBPApTEhVoeJENO+0w3bvMsBRT/uqNZiUSpIktY7zicGOdgOuImpBz8w0Ikktz6RUkiSpddxJ9A2dTDTb/TjwbB8+f3daJKlmKh3o6DKig/uSorIdgTnA4+k1X9feBnwbWAosBg6uSaSSJEmq1lxgHXAr8DMiIZ2baUSSWl6lSenlwNElZTOJi9j49DozlU9NZeOJocEvrj5MSZIkVWErokJhJ6IiYce0jAN2zTAuSaq4+e49xEWr2AlEZ3eAK4imHJ9J5VcSHejnAaOAMcBqJEmSlIWPAOcAuwD3F5VvAC7KJCJJSqrpU7ozhUTzmbQN8bTtqaL9VqYyk1JJkqRsfCstHwO+k3EsktRFpc13e9NJYWjxSs0AFgAL2tvbaxSGJEmSenAZ8O/ArLQ9Hjguu3AkqbqkdA3RLJf0ujatryKGGc8bm8pKzQImAZNyuVwVYUiSJKlClxFzlb4tba8CvpRdOJJUXVI6G5iW1qcBtxSVn0GMwjsZWI9NdyVJkhrB3sBXgdfS9svEPZskZabSPqXXEIMa7UT0Ef0CcAFwPTAdWAGcnPa9DTiGmBLmZZyQWZIkqVFsBLam0O1qb+DV7MKRpMqT0lO7KZ9SpqwTOKt/4UhS5oYS/d1XEf2s9gSuBUYTE86fTtzUbUmMNH4IMeffB4DlGcQrSX3xBeAOoqvVVcDbgQ9lGpGkllergY4kqVl8HHikaPsrwDeAfYDnidYhpNfnU/k30n6S1OgWAu8jEtFriPE9VmQakaSWZ1IqSQVjgWOBS9J2G3AkcEPavgI4Ma2fkLZJ70/BflmSGt9Pif6ktwI/A3KpTJIyY1IqSQXfBD4NbErbo4EXgI60nZ93GbrOydxBDOo2uswxnf5KUiP5LyIJHUF0P7gB+PtMI5LU8irtUypJze44YmqrhcTAbrUyKy3kcrm+zucsSbV2KzAcmAOMBN4L/CHTiCS1PJNSSQpvB44nRg/fCtgO+BYwirhWdtB13uX8nMwr0/vbEwMeSVIj+g6FEXchrllPAGen7X+pe0SSlJiUSlI4Ny0QNaWfAj4I/Bg4iRiBt3RO5mnAb9P7v6TrDZ8kNZIFJdsLM4lCksowKZWknn2GSEi/BDwAXJrKLwV+SMzJ/BxwSibRSVJl8gOzjQD+DLyetocSU1xJUmZMSiVpc3enBWAZcGiZff4MvL9uEUlSbcwF3gX8KW1vDdwJvC2ziCS1PEfflSRJah1bUUhISevbZBSLJAEmpZIkSa3kJeDgou1DgFcyikWSAJvvSpIktZJziAHcngbagDcAH+jlM1sB9xB9T4cRc5t+YQBjlNRiTEolSZJax33AfsC+afsx4LVePvMqcCTR1Hc4cC9wOzBvgGLUALp6/pPcvmQ1B4zZjg2vdtAGHLDL9jz09Ho6gQm7bM/zL29k8l6jOWSPHVi44nluvH8lncB2Ww7jodUbmDphDKcdtvtfjrlwxfPMW7buL5+R+sqkVJIkqXWcUbKdb8p7ZQ+f6aTQD3V4WpwCaxC6ev6TnHfTgwD8+vFnu91vSBtsMWwInz/uAM7/6UNs7NjU5f38Z087bHcWrnieD14yj40dm9hi2BCu+vBkE1P1mX1KJUmSWsdbipa/Ac4Hjq/gc0OBRcBaYA4wv8w+M4j5UBe0t7fXJFjV1u1LVle036ZOeK1jE7cvWc1rJQlp6bHmLVvHxo5Nf/nMvGXrahavWodJqSRJUuv4WNHyj0RN6bYVfO51YCIwlpgma0KZfWYBk4BJuVyuJsGqtqZOGFPRfkPaYPiwIUydMIbhw8qnC/ljTd5rNFsMG8LQ9JnJe42uWbxqHTbflSRJal0vAXv2Yf8XgLuAo4ElAxKRBky+H2hf+pTu+4aRPfYpPWSPHbjqw5PtU6qqmJRKkiS1jp9S6A86BNgfuL6Xz+SIwZBeALYGjgK+MlABamCddtjuXQYp6s0he+zQa6JZyT5ST0xKJUmSWsfXitY7gBXAyl4+Mwa4guhXOoRIYn82INFJakkmpZIkSa3jV0XrOwGVjEqzGDhoYMKRJAc6kiRJagWTgbuBG4kEc0la1hD9QyUpM9XUlO4LXFe0vRfweWAUMZpbfizw84DbqjiPJEmSqnMRcU+2PfBLYCowD9gPuAa4I7vQJLW6apLSx4ihwSH6GKwCbgLOBL5B1z4LkiRJys4w4M60/h9EQgrwaDbhSFJBrfqUTgGeIDrLDyrjZt66WdnyC47NIBJJkqQBs6lo/ZWS9zqRpAzVqk/pKUTTj7yziU7xlwHdjQ89A1gALGhvb+9mF0mSJNXAgcAG4EXgr9N6fvvNGcYlSTVJSrcAjgd+nLYvBvYmmvauBi7s5nOzgEnApFwuV4MwJEmS1I2hwHbASKKl3HZF28MzjEuSapKUTgXuJ0ZvI72+TjQT+T5waA3OIUkDbSvgd8DvgYeAL6byPYH5wFJicLctUvmWaXtpen9cPYOVJElqFrVISk+la9PdMUXr7yWGG5ekRvcqcCTRxG0iMUXCZOArxOBt+wDPA9PT/tPT9j7p/a/UOV5JkqSmUG1SOgI4ipjzKu+rwINEn9J3Ap+o8hySVA+dwJ/S+vC0dBKJ6g2p/ArgxLR+QtomvT8FaKtLpJIkSU2k2tF3XwJGl5SdXuUxJSkrQ4GFRO3nd4lRxV8AOtL7K4Fd0/quwFNpvQNYT1wPny055oy04KBukiRJm6vV6LuS1AxeJ5rujiX6w+9Xg2M6qJskSVIPTEolaXMvAHcBbwVGUWhVMhZYldZXAbul9WHA9sC6OsYoSZLUFExKJSnkiAQUYGuiv/wjRHJ6UiqfBtyS1menbdL7v8QJ6CVJkvqs2j6lTWnczFuzDkFS/Y0hBi4aSjywux74GfAwcC3wJeAB4NK0/6XAD4kpYZ4DTqlzvJIkSU3BpFSSwmLgoDLlyyg/3/KfgfcPZEDlHpAtv+DYgTylJElS3dl8V5IkSZKUGZNSSZIkSVJmTEolSZIkSZkxKZUkSZIkZcakVJIkST3ZjZge62HgIeDj2YYjqdk4+q4kSZJ60gF8ErgfGAksBOYQSar64MSL7mXRyvXdvt9GYcLrIW2wqWj26x23Gc7Rbx7Dyude5r7lzzFiq2EcvvdO/HzJM7zSsYlhQ2Dc6BFM2HV71r20kakTxrDvG0byv796ggeefJ7XN3Vy8qTdmHnMmwb0Z5T6w6S0QTj1gyRJalCr0wLwIvAIsCsmpX3SW0IKhYQUuiakAM+9/BpXz3/yL9uvvLaRmxc9/Zftjk2wtP0llra/BMCvH392s8T2e/csAzAxVcOx+a4kSZIqNY6Y03l+mfdmAAuABe3t7XUNajBY8vSGup+zNLEFuOOhZ+oeh9Qbk1JJkiRVYlvgJ8A5QLkMaxYwCZiUy+XqGdegMGGX7ep+ziFtm5cdfcAb6h6H1Bub70qSJKk3w4mE9CrgxoxjGZRuPvtw+5RK3TAplSRJUk/agEuJvqRfzziWQe3msw+v+zlnnTGp7ueU+srmu5IkSerJ24HTgSOBRWk5JtOIJDUVa0olSZLUk3uJ2lJJGhDWlEqSJEmSMlOLmtLlxJxVrxOTK08CdgSuI4YNXw6cDDxfg3NJkiRJkppIrWpK3wlMJBJSgJnAXGB8ep1Zo/NIkiRJkprIQDXfPQG4Iq1fAZw4QOeRJEmSJA1itUhKO4E7gYXAjFS2M7A6rT+TtkvNABYAC9rb22sQhiRJkiRpsKlFUno4cDAwFTgLeEfJ+50U5gEuNoto7jspl8vVIAxJqspuwF3Aw8BDwMdT+Y7AHODx9LpDKm8Dvg0sBRYT1yfjvckAAA8KSURBVEFJkiT1US2S0lXpdS1wE3AosAYYk8rHpPckqZF1AJ8E9gcmEw/Z9qf7PvJTU9l4ouXHxXWOV5IkqSlUm5SOAEYWrb8bWALMBqal8mnALVWeR5IG2mrg/rT+IvAIsCvd95E/AbiSaAkyDxhF4WGcJEmSKlTtlDA7E7Wj+WNdDdwB3AdcD0wHVhBTwkjSYDEOOAiYT/d95HcFnir6zMpUtpquZqQF+89LkiRtrtqkdBlwYJnydcCUKo8tSVnYFvgJcA6woeS97vrI92RWWsjlcn39rCRJUtMbqClhJGkwGk4kpFcBN6ay7vrIryIGR8obS6GPvSRJkipUbU3poDNu5q1ZhyCpMbUBlxJ9Sb9eVJ7vI38BXfvIzwbOBq4FDgPWs3nTXUmSJPWi5ZJSSerG24HTgQeBRansPCIZLddH/jbgGGJKmJeBM+sZrCRJUrMYlElpudrO5Rccm0EkkprIvURtaTnl+sh3EtPGSJIkqQr2KZUkSZIkZcakVJIkSZKUGZNSSZIkSVJmBmWf0lZR2nfWfrOSJEmSmo01pZIkSZKkzJiUSpIkSZIyY1IqSZKknlwGrAWWZB2IpOZkn9JBxPlZJUlSBi4HLgKuzDqQWjrqwrt5vP2lTM7t/ZvUlTWlkiRJ6sk9wHNZB1FLWSakUL6iQWpl1pRKkiSpFmakhfb29oxD6dkTz2aXkEranDWlkiRJqoVZwCRgUi6XyzqWHu2904isQ5BUpKlrSm0aIUmSpFJzPnmEfUqlBtLUSakkSZJUzpxPHpF1CJISm+9KkiSpJ9cAvwX2BVYC07MNR1KzsaZUkiRJPTk16wAkNbdqakp3A+4CHgYeAj6eys8HVgGL0nJMNQFKkiRJkppXNTWlHcAngfuBkcBCYE567xvA16oLTZKkUG7gOgcKkSSpOVRTU7qaSEgBXgQeAXatOiJJys5lwFpgSVHZjsQDt8fT6w6pvA34NrAUWAwcXL8wJUmSmketBjoaBxwEzE/bZxM3aZdRuIGTpEZ3OXB0SdlMYC4wPr3OTOVTU9l4YrL4i+sUoyRJUlOpRVK6LfAT4BxgA3FjtjcwkahNvbCbz80AFgAL2tvbaxCGJFXtHuC5krITgCvS+hXAiUXlVwKdwDxgFDCmDjFKkiQ1lWqT0uFEQnoVcGMqWwO8DmwCvg8c2s1nZwGTgEm5XK7KMCRpwOxMPGADeCZtQ3RXeKpov5WU78LgAzhJkqQeVDPQURtwKdGX9OtF5WMo3MC9l659s1RjDv4h1VVnWvpiVlrI5XJ9/awkSVLTqyYpfTtwOvAgMfULwHnEXFYTiRu35cBHqglQkjK2hsLDtjHEQEgQU1/tVrTf2FQmSZKkPqgmKb2XqC0tdVsVx5SkRjMbmAZckF5vKSo/G7gWOAxYT6GViCRJkipUTVIqSc3mGuAIYCeij+gXiGT0emA6sAI4Oe17G3AMMSXMy8CZ9Q5WkiSpGZiUSlLBqd2UTylT1gmcNYCxSJIktYRazVMqSZIkSVKfmZRKkiRJkjJjUipJkiRJyoxJqSRJkiQpMyalkiRJkqTMmJRKkiRJkjLjlDAtYtzMW7tsL7/g2IwikSRJkqQCk9ImVJqASpIkSVKjapqk1ERMkiRpwBwNfAsYClwCXJBtOJKaSdMkpZIkSRoQQ4HvAkcBK4H7gNnAw9UeuLtKhXw3oxMvupdFK9f36ZhtwMithrHhzx297rv1sCE88qWpfTq+pNpzoCNJkiT15FBgKbAM2AhcC5xQ7UF7auU2buat/UpIATqhooQU4JWOTbzp32/v8zkk1ZZJqSRJknqyK/BU0fbKVFZqBrAAWNDe3l71SZc8vaHqY1TilY5NdTmPpO6ZlEqSJKkWZgGTgEm5XK7qg03YZbuqj1GJrYd5OyxlzW+hJEmSerIK2K1oe2wqq0pP09Mtv+BYbj77cCaO3b7Px20DttuqsmFT7FMqNQYHOmpRlY5W7HymkiS1vPuA8cCeRDJ6CnBaLQ7c233GzWcfXovTSGpwJqWSJEnqSQdwNvBzYiTey4CHMo1IUlMxKZUkSVJvbkuLJNWcSal61N9mvuU+Z1NgSZIkSaUGMik9GvgW0czjEuCCATyXJGXFa10LKX3g5sM2SZKqN1BJ6VDgu8BRxFxW9wGzgYcH6HzKWKU1qrU6tjeCja9F/m5e6yRJkqo0UEnpocBSYFnavhY4AW/UWlqlSUolCW6LJDxqfF7rVHde/xqLfw9Jql7bAB33JKJJ24fT9unAYcTIbXkz0gKwL/DYAMXSHzsBz2YdRC+MsTYaPcZGjw8GNsY9gOpnYB84A32ta5S/f6PEAY0Ti3F0ZRxd9TWORr/W9Uc7sCLrIJJG+XfRE2OsDWOsjYGKse7XupOIvlV5pwMX1TOAKi3IOoAKGGNtNHqMjR4fDI4YB8pAX+sa5XfbKHFA48RiHF0ZR1eNEofCYPh7GGNtGGNt1D3GIQN03FXAbkXbY1OZJDUTr3WSJElVGqik9D5gPLAnsAVwCjH4hyQ1E691kiRJVRo6QMfdBDwOXAV8DPgR8JMBOtdAWZh1ABUwxtpo9BgbPT4YHDEOhHpc6xrld9socUDjxGIcXRlHV40Sh8Jg+HsYY20YY20MhhglSZIkSZIkSZIkSZIkSZIkqT+WAw8CiygMf7wjMIfoKzYH2CGDuC4D1gJLisq6i6sN+DawFFgMHJxRfOcTI48uSssxRe+dm+J7DPi7OsQHMSrqXcDDwEPAx1N5I/0eu4uxkX6XWwG/A36fYvxiKt8TmJ9iuY4Y6Adgy7S9NL0/rg4xNqOjib/xUmBmRjGU+55nobvvSb11913IylDgAeBnGcdR7v/RLIwCbgAeBR4B3ppBDPtSuG4vAjYA52QQR6trxHu7Rr+v6y7GRrof8b6uNryva1DLiQlii32Vwk3gTOArdY0ovIP48hRfGLqL6xjgduLLN5n4B5NFfOcDnyqz7/7EP/wtiX/wTzBwg2wVG0PhAjQS+EOKpZF+j93F2Ei/yzZg27Q+nPi9TAauJ0abBfge8M9p/aNpm/T+dQMcXzMaSvxt9yL+U/g98bevt3Lf8yx09z2pt+6+C1n5V+BqGiMpLf1/NAtXAB9O61sQSWqWhgLPEJPFq74a8d6u0e/ruouxke5HvK+rDe/rGlS5C9djxD8q0utjdY2oYBxdLwzdxfW/wKnd7DeQSuPr7gt3blryfk42T7BvAY6i8X6PxfIxNurvchvgfuAw4FlgWCp/a4qlNKZhab+2OsbYDIp/n7D5372eSr/njSD/PclS8XchC2OBucCRmJQCbA/8kca61rwb+E3WQbSoRr23a/T7Ohhc93be11WvYe7rBmqe0sGkE7iTGPZ4RirbGVid1p9J242gu7h2BZ4q2m9lKsvC2UQTicsoNJ9ohPjGAQcRT4Ma9fdYHCM01u9yKNHcZC3RNOYJ4AWgo0wcxTF2AOuB0XWIsZlk/W+xkZV+T+qt9LuQVRzfBD5NTEuUtXL/j9bbnkA78AOiSfMlwIiMYsk7Bbgm4xha1WC5t2vU+5FSjXQ/kud9XXUa7r7OpBQOJ6rZpwJnEU0XinWmpdE0YlwXA3sDE4mLw4XZhvMX2xJzR55D9O8p1ii/x9IYG+13+XqKZSxwKLBftuGoRfX0Xa6X0u/ChAxiOI64kWiUOeR6+3+0HoalGC4mbgJfIru+2BDNh48HfpxhDK1sMN7bNWJM0Hj3I+B9XS003H2dSWl0Oob4D/4m4g+zhq7NANZmEFc53cW1iuhYnTeWws9VT2uIf+SbgO8Tv0vINr7hxEXhKuDGVNZov8fuYmy03yXEU7S7iGYcoyg08yiOozjGYUSzunV1jLEZZP13bkTlvidZyn8Xjs7g3G8nEp7lwLVEE94fZRBHXrn/R+ttZVryNRI3UL/BYcqZSjSJW5NhDK1ssNzbNdr9SDmNdj/ifV1tNcx9XasnpSOITsj59XcT7ehnA9NS+TSiPXgj6C6u2cAZFDpyr6fQjKGeitvpv5dCn4TZRDOmfCfu8cSoXwOtDbiUGIXx60XljfR77C7GRvpd5igMGLI10TfiEeIidlIqL/095n+/JwG/pDGeWg4m9xF/2z2JGpdTiN9rq+rue1Jv5b4Lj2YQx7nEDcM44t/GL4G/zyAO6P7/0Xp7hmhetm/ankKMfpmVU7HpblYG071dI92PdKeR7ke8r6sN7+sa0F7EiFf5IZE/m8pHEwNIPA78ghhqut6uIb44rxFPf6f3EFcb8F2iPfiDwKSM4vthOv9i4h9w8Rfwsym+x4gnyPVwOPGlWUzXIbgb6ffYXYyN9Lv8a6KP1mLiIvr5VL4XceFcSjRR2zKVb5W2l6b396pDjM3oGGLUvicoXJvqrdz3PAvdfU/qrbvvQpaOINuBjrr7fzQLE4npPxYDN5PNdG4QidA6ojZB9deo93aNfl/XXYyNdD/ifV1teF8nSZIkSZIkSZIkSZIkSZIkSZIkSZIkSZIkSZIkSZIkSZIkSZIkZWIsMVfl48SUJd8i5s4utQtwQwXHu43C/Jh9dT7wqX5+VoPAkKwDkCRJktRQ2oAbiTl/xwNvBLYFvlyy3zDgaeCkCo55DPBCDWNUEzEplSRJklTsSODPwA/S9uvAJ4B/AD4KzAZ+CcwFxgFL0n7bANcDDwM3AfOBSem95cBOaf9HgO8DDwF3Alunff4RuA/4PfCTdDy1AJNSSZIkScUOABaWlG0AniRqRw8makf/tmSfjwLPA/sDnwMO6eb444HvpvO8APyfVH4j8BbgQCJxnV7ND6HBw6RUkiRJUl/MAZ4rU344cG1aXwIs7ubzfwQWpfWFRO0pwATg18CDwAeJpFUtwKRUkiRJUrGH2byWcztgd6ADeKnK479atP46UfsKcDlwNvBm4IvAVlWeR4OESakkSZKkYnOJ/pxnpO2hwIVE0vhyD5/7DXByWt+fSC77YiSwGhhO1JSqRZiUSpIkSSrWCbwXeD8xJcwfiIGPzuvlc/8D5Iia1i8RAxmt78N5P0cMjvQb4NG+hSxJkiRJanVDKTS53ZvoO1publOpi2G97yJJkiRJvdoGuItofttGjMa7MdOIJEmSJEmSJEmSJEmSJEmSJEmSJEmSJEmSJEmSJEmSJEmSMvH/ARcHSpUabcJmAAAAAElFTkSuQmCC)"
      ],
      "metadata": {
        "id": "wxTwWyaWYEO4"
      }
    },
    {
      "cell_type": "code",
      "source": [
        "# 4. Rank변환 - 균등분포로 변경(값을 전체 데이터에서 순위로 변환, 대소관계만 남음), 기존에 없는 데이터는 변환불가\n",
        "df[col_name].rank(pct=True) # True면 %로 False면 rank 자체를 반환\n",
        "\n",
        "from sklearn.preprocessing import QuantileTransformer\n",
        "tfer = QuantileTransformer()\n",
        "tfer.fit_transform( df[col_name].values.reshape(-1,1) )\n",
        "\n",
        "# 원본 그래프에서 값의 순서를 받아 (정렬이 안되었기에) 불규칙한 그래프처럼 보이지만\n",
        "# 스케일링 그래프를 보면 값이 곡선으로 천천히 증가하는 것을 알 수 있다."
      ],
      "metadata": {
        "id": "c_fjYD3iYEkr"
      },
      "execution_count": null,
      "outputs": []
    },
    {
      "cell_type": "markdown",
      "source": [
        "![image.png](data:image/png;base64,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)"
      ],
      "metadata": {
        "id": "b_GLr82FbdTK"
      }
    },
    {
      "cell_type": "markdown",
      "source": [
        "\n",
        "\n",
        "---\n",
        "\n",
        "\n",
        "\n",
        "---\n",
        "\n"
      ],
      "metadata": {
        "id": "Lc6XnJhWAldX"
      }
    },
    {
      "cell_type": "markdown",
      "source": [
        "### 범주형 모델 - ex.) Tree Based Model etc\n",
        "> 입력 특성의 대소관계에만 영향을 받음<br>\n",
        "> 수치형으로 바꾸는 전처리 필요(Encoding)"
      ],
      "metadata": {
        "id": "wcJwPSnvbVgD"
      }
    },
    {
      "cell_type": "code",
      "source": [
        "from category_encoders import OneHotEncoder # 명목형 변수 변환, 값이 포함여부(0/1)로 특성 증가\n",
        "onehot_encoder = OneHotEncoder()\n",
        "onehot_encoder.fit_transform(df)"
      ],
      "metadata": {
        "id": "lNlDJZ0udL4y"
      },
      "execution_count": null,
      "outputs": []
    },
    {
      "cell_type": "code",
      "source": [
        "from category_encoders import OrdinalEncoder # 순서형 변수 변환, 범주형 특성 값을 양적 대소 관계로 인코딩\n",
        "# 선형-로지스틱 회귀 모델에는 양적 대소관계를 갖는 것처럼 되기에 부적절함, 트리모델은 분기로 관계가 해소됨\n",
        "ordinal_encoder = OrdinalEncoder()\n",
        "ordinal_encoder.fit_transform(df)"
      ],
      "metadata": {
        "id": "FNvOO-IddupN"
      },
      "execution_count": null,
      "outputs": []
    },
    {
      "cell_type": "code",
      "source": [
        "# Count(Frequency) - 등장빈도로 값 대체(단, 동일 빈도의 특성값 구분이 안됨, 새로운 특성값 대처가 어려움)\n",
        "from category_encoders import CountEncoder\n",
        "count_encoder = CountEncoder(normalize=True) # True면 %, False면 빈도를 반환\n",
        "count_encoder.fit_transform(df)"
      ],
      "metadata": {
        "id": "USqV3iuKe15J"
      },
      "execution_count": null,
      "outputs": []
    },
    {
      "cell_type": "code",
      "source": [
        "# Target(Mean) - 범주형 값의 해당 특성을 가진 타겟 데이터의 평균으로 인코딩(같은 값 구분 안됨)\n",
        "df.groupby('features')['target'].mean() # 과적합 발생 가능\n",
        "\n",
        "from category_encoders import TargetEncoder # 특성별 조건부 타겟 평균값 + 출현 빈도\n",
        "target_encoder = TargetEncoder()\n",
        "target_encoder.fit_transform(df[\"features\"], y=df[\"target\"])"
      ],
      "metadata": {
        "id": "JZmKe7R7e18G"
      },
      "execution_count": null,
      "outputs": []
    }
  ]
}