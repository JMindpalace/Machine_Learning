{
  "nbformat": 4,
  "nbformat_minor": 0,
  "metadata": {
    "colab": {
      "provenance": [],
      "authorship_tag": "ABX9TyMklOp8qQGezUzo/xZPUJc9",
      "include_colab_link": true
    },
    "kernelspec": {
      "name": "python3",
      "display_name": "Python 3"
    },
    "language_info": {
      "name": "python"
    }
  },
  "cells": [
    {
      "cell_type": "markdown",
      "metadata": {
        "id": "view-in-github",
        "colab_type": "text"
      },
      "source": [
        "<a href=\"https://colab.research.google.com/github/JMindpalace/Machine_Learning/blob/main/3.0%20%EB%8D%B0%EC%9D%B4%ED%84%B0%20%EB%B6%84%EC%84%9D.ipynb\" target=\"_parent\"><img src=\"https://colab.research.google.com/assets/colab-badge.svg\" alt=\"Open In Colab\"/></a>"
      ]
    },
    {
      "cell_type": "markdown",
      "source": [
        "해당 페이지는 칼럼(특성)을 완전하게 이해해야합니다.\n",
        "\n",
        "지도학습이라면 타겟과 특성의 관계를 파악해야하고\n",
        "비지도학습이 예정되었다면 특성의 관계를 반영할 예측 타겟도 예측할 수 있습니다\n",
        "\n",
        "특성을 증폭시키거나\n",
        "\n",
        "회귀, 분류 등에 따라 상관계수 등에 따라\n",
        "특성을 줄이는 페이지입니다."
      ],
      "metadata": {
        "id": "2SMbqAsPnEP2"
      }
    }
  ]
}