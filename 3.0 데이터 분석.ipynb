{
  "nbformat": 4,
  "nbformat_minor": 0,
  "metadata": {
    "colab": {
      "provenance": [],
      "authorship_tag": "ABX9TyPO0Bal3QXwOLd4VKdpVsgk",
      "include_colab_link": true
    },
    "kernelspec": {
      "name": "python3",
      "display_name": "Python 3"
    },
    "language_info": {
      "name": "python"
    }
  },
  "cells": [
    {
      "cell_type": "markdown",
      "metadata": {
        "id": "view-in-github",
        "colab_type": "text"
      },
      "source": [
        "<a href=\"https://colab.research.google.com/github/JMindpalace/Machine_Learning/blob/main/3.0%20%EB%8D%B0%EC%9D%B4%ED%84%B0%20%EB%B6%84%EC%84%9D.ipynb\" target=\"_parent\"><img src=\"https://colab.research.google.com/assets/colab-badge.svg\" alt=\"Open In Colab\"/></a>"
      ]
    },
    {
      "cell_type": "markdown",
      "source": [
        "< 해당 페이지는 **특성(Feature)**을 파악하고, **특성 공학(Feature Engineering)**으로 증폭 혹은 축소 시키는 페이지입니다. >\n",
        "\n",
        "> 데이터 변경은 거의 없고, 모델링의 전처리로 특성공학이나 상관계수 등에 따라 줄이는 것이 목표입니다.\n",
        "\n",
        "> 기대 결과 값: 여러 특성 간의 상관관계를 말할 수 있습니다."
      ],
      "metadata": {
        "id": "6edv9a4-7-_H"
      }
    },
    {
      "cell_type": "markdown",
      "source": [
        "# 데이터 분석(Data Analysis)"
      ],
      "metadata": {
        "id": "11Sfaz7x9_b-"
      }
    },
    {
      "cell_type": "markdown",
      "source": [
        "## 데이터 분석의 방향성\n",
        "\n",
        "- 지도학습적 목적 : 특성과 타겟의 관계를 파악\n",
        "\n",
        "- 비지도학습적 목적 : 특성간의 관계를 파악해서 예측 타겟 설정"
      ],
      "metadata": {
        "id": "NWXvUAlq9_hS"
      }
    },
    {
      "cell_type": "markdown",
      "source": [
        "\n",
        "\n",
        "---\n",
        "\n",
        "\n",
        "\n",
        "---\n",
        "\n"
      ],
      "metadata": {
        "id": "ox9zInOT-K1v"
      }
    },
    {
      "cell_type": "markdown",
      "source": [
        "### 데이터셋 분석"
      ],
      "metadata": {
        "id": "01P7OU8X-LYJ"
      }
    },
    {
      "cell_type": "code",
      "source": [
        "# 특정 조건 검색1\n",
        "df[ (df['col'] == 'condition') ] # []내에 ()와 &로 다중 조건 검색 가능\n",
        "\n",
        "# 특정 조건 검색2 - 쿼리문의 변수는 @로 가져와야함(@변수)\n",
        "df.query( ('col' == 'condition') ) # ()내에 ()와 and로 다중 조건 검색 가능\n",
        "\n",
        "# Groupby - mean()외에도 median() 등 사용 가능\n",
        "df.groupby('그룹 기준 칼럼').mean()['값을 볼 칼럼'] # [기준1, 기준2]로 대/중분류, [ [값1, 값2] ]로 다중 그룹\n",
        "# Groupby가 리스트 반환이지만, 기준 칼럼 뒤에 , as_index=False면 데이터 프레임으로 반환"
      ],
      "metadata": {
        "id": "8fFq3r-WA8_w"
      },
      "execution_count": null,
      "outputs": []
    }
  ]
}