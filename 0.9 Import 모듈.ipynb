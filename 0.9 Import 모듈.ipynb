{
  "nbformat": 4,
  "nbformat_minor": 0,
  "metadata": {
    "colab": {
      "provenance": [],
      "authorship_tag": "ABX9TyN7s9olC6DqHkpqgIhakxZ3",
      "include_colab_link": true
    },
    "kernelspec": {
      "name": "python3",
      "display_name": "Python 3"
    },
    "language_info": {
      "name": "python"
    }
  },
  "cells": [
    {
      "cell_type": "markdown",
      "metadata": {
        "id": "view-in-github",
        "colab_type": "text"
      },
      "source": [
        "<a href=\"https://colab.research.google.com/github/JMindpalace/Machine_Learning/blob/main/0.9%20Import%20%EB%AA%A8%EB%93%88.ipynb\" target=\"_parent\"><img src=\"https://colab.research.google.com/assets/colab-badge.svg\" alt=\"Open In Colab\"/></a>"
      ]
    },
    {
      "cell_type": "markdown",
      "source": [
        "< 해당 페이지는 **Import 모듈**을 종합한 페이지입니다. >\n",
        "> 크게 모듈만 있는 부분과 설명 부분으로 분류했습니다.\n",
        "<br>\n",
        "\n",
        "> 설명은 Python의 대표 모듈과 일반적, 인공지능 모듈을 분류했습니다.\n",
        "<br>\n",
        "\n",
        "> 만약 as로 축약어로 대체 시 예시 등의 모든 내용은 축약어로 표기합니다. <br>\n",
        "> 데이터셋의 경우 'df'로 일괄 표기합니다."
      ],
      "metadata": {
        "id": "hIGxSCJKKPHC"
      }
    },
    {
      "cell_type": "markdown",
      "source": [
        "# Import 종합"
      ],
      "metadata": {
        "id": "KK6M06slLlbd"
      }
    },
    {
      "cell_type": "code",
      "source": [
        "import pandas as pd # pandas 모듈\n",
        "from glob import glob # 다중 데이터셋 Load\n",
        "from pandas_profiling import ProfileReport # 리포트 모듈\n",
        "import sys # 구글 드라이브 마운트\n",
        "import numpy as np  # numpy 모듈\n",
        "import matplotlib.pyplot as plt # 그래프 라이브러리\n",
        "\n",
        "import warnings # 에러 문구 제거\n",
        "warnings.filterwarnings(action='ignore')"
      ],
      "metadata": {
        "id": "wQulfo_ELqlM"
      },
      "execution_count": null,
      "outputs": []
    },
    {
      "cell_type": "markdown",
      "source": [
        "# Python의 대표 Import 모듈"
      ],
      "metadata": {
        "id": "UwR7HKy8KcKh"
      }
    },
    {
      "cell_type": "markdown",
      "source": [
        "## pandas >> pd"
      ],
      "metadata": {
        "id": "Qiru9tmDK-Sr"
      }
    },
    {
      "cell_type": "code",
      "source": [
        "import pandas as pd"
      ],
      "metadata": {
        "id": "dIlclSkPLE5H"
      },
      "execution_count": null,
      "outputs": []
    },
    {
      "cell_type": "markdown",
      "source": [
        "### pandas 버전 확인"
      ],
      "metadata": {
        "id": "mgfI0qB5NIB5"
      }
    },
    {
      "cell_type": "code",
      "source": [
        "pd.__version__ # pandas만 버전 확인함"
      ],
      "metadata": {
        "id": "6qw2y9HkNLER"
      },
      "execution_count": null,
      "outputs": []
    },
    {
      "cell_type": "code",
      "source": [
        "pd.show_versions() # python에 설치된 모듈들의 모든 버전 확인"
      ],
      "metadata": {
        "id": "SBME6km5NOr0"
      },
      "execution_count": null,
      "outputs": []
    },
    {
      "cell_type": "markdown",
      "source": [
        "### pandas 타입 변환"
      ],
      "metadata": {
        "id": "RW-o63ZiMbCD"
      }
    },
    {
      "cell_type": "code",
      "source": [
        "pd.Series('변환할 데이터') # 시리즈(테이블형태) 타입으로 변환"
      ],
      "metadata": {
        "id": "P9eiOw-hMfQL"
      },
      "execution_count": null,
      "outputs": []
    },
    {
      "cell_type": "markdown",
      "source": [
        "### pandas 데이터 프레임"
      ],
      "metadata": {
        "id": "99CFEsIyOH_L"
      }
    },
    {
      "cell_type": "code",
      "source": [
        "pd.DataFrame( { 'col 1': [col 1 data] , 'col 2': [col 2 data] , --- } )"
      ],
      "metadata": {
        "id": "Fye4HPCJOLyL"
      },
      "execution_count": null,
      "outputs": []
    },
    {
      "cell_type": "markdown",
      "source": [
        "### pandas 데이터 Load"
      ],
      "metadata": {
        "id": "VFxujRYdQlaa"
      }
    },
    {
      "cell_type": "code",
      "source": [
        "# pd.read_csv 추가 파라미터\n",
        "# https://pandas.pydata.org/docs/reference/api/pandas.read_csv.html"
      ],
      "metadata": {
        "id": "rpmU32VtPgXt"
      },
      "execution_count": null,
      "outputs": []
    },
    {
      "cell_type": "code",
      "source": [
        "# 일반적인 데이터셋 1개 Load 방법\n",
        "pd.read_csv( '파일이름.csv' , # PC에서 실행 시 파일이름 앞에 경로 표시가 필요할 수 있음\n",
        "             'sep = \";\" '   , # csv는 기본 반점(,)으로 구분하지만 ';' 나 '\\t' 등으로도 구분 가능\n",
        "             'name = [\"col name\"] ' ,  # 불러올 특정 col 지정 가능\n",
        "             'skiprows = n' , # n행부터 호출 가능\n",
        "             'dtype = dtype', # dtype 유형으로 load 가능\n",
        "            \n",
        "            # 날짜 데이터 타입의 조정, 조정이 없다면 object형으로 load함\n",
        "             'dayfirst = Ture' , # 일-월-년-시간 순으로 설정, false 시 월-일 순서로 설정됨\n",
        "             'infer_datetime_format = True' # 시간을 추정하여 조정함\n",
        "             'parase_dates = [\"date or time\"] ' , # 칼럼이름을 시간으로 지정\n",
        ")"
      ],
      "metadata": {
        "id": "6b5zkhYFQpOx"
      },
      "execution_count": null,
      "outputs": []
    },
    {
      "cell_type": "code",
      "source": [
        "pd.read_excel( '파일이름.xlsx' , # 엑셀의 파일 유형을 잘봐야함\n",
        "               'sheet_name = n', # 불러올 sheet 지정 가능\n",
        "               'index_col = n' , # 불러올 특정 col 지정 가능\n",
        "               'header = None'   # 헤더도 지정 가능\n",
        ")"
      ],
      "metadata": {
        "id": "0_NWBiyUT3EE"
      },
      "execution_count": null,
      "outputs": []
    },
    {
      "cell_type": "code",
      "source": [
        "# 다중 데이터셋 Load 방법 - 1. 이름&숫자로 구성된 파일에서 숫자만 다른 파일(중복 인덱스가 파일마다 존재함)\n",
        "from glob import glob\n",
        "glob(same_file_name*.csv)"
      ],
      "metadata": {
        "id": "TcZHdAyUSbOe"
      },
      "execution_count": null,
      "outputs": []
    },
    {
      "cell_type": "code",
      "source": [
        "# 파일 병합하며 가져오기\n",
        "pd.merge(pd.read_csv('파일 1이름.csv'), \n",
        "         pd.read_csv('파일 2이름.csv'), left_index=True, right_index=True)"
      ],
      "metadata": {
        "id": "Zl2I3foQT3cM"
      },
      "execution_count": null,
      "outputs": []
    },
    {
      "cell_type": "markdown",
      "source": [
        "## pandas sample data"
      ],
      "metadata": {
        "id": "K4Iel_Vs87nI"
      }
    },
    {
      "cell_type": "code",
      "source": [
        "df.sample( n = 5, # 기본 출력 - frac과 함께 사용 불가\n",
        "           frac = 0.5, # 출력 비율(0.5면 50% 출력)\n",
        "           replace = True, # 동일 행 샘플링 여부\n",
        "           weights = 'col_name', # 해당 열에 가중치를 부여하여 값이 더 큰 해당 열이 샘플링 가능성 증가\n",
        "           random_state = , # 난수 생성 시드\n",
        "           axis = , # 0이면 지정 n행 출력, 1이면 지정 n열 출력\n",
        "           ignore_index = False # 샘플링 후 데이터프레임의 재인덱스 여부\n",
        "          )"
      ],
      "metadata": {
        "id": "2xdC91l88-qp"
      },
      "execution_count": null,
      "outputs": []
    },
    {
      "cell_type": "markdown",
      "source": [
        "## pandas 데이터 수 보기 조정"
      ],
      "metadata": {
        "id": "E-bGHOj446Ar"
      }
    },
    {
      "cell_type": "code",
      "source": [
        "pd.set_option('display.max_columns', None)\n",
        "pd.set_option('display.max_rows', None)"
      ],
      "metadata": {
        "id": "-mUUU6cV4_EL"
      },
      "execution_count": null,
      "outputs": []
    },
    {
      "cell_type": "markdown",
      "source": [
        "## numpy >> np"
      ],
      "metadata": {
        "id": "0fwyZ-QFMFGX"
      }
    },
    {
      "cell_type": "code",
      "source": [
        "import numpy as np"
      ],
      "metadata": {
        "id": "E0vZ0YMpMHXc"
      },
      "execution_count": null,
      "outputs": []
    },
    {
      "cell_type": "markdown",
      "source": [
        "### 값 생성 - 난수, 0과 1"
      ],
      "metadata": {
        "id": "HgZMHOk3MtLD"
      }
    },
    {
      "cell_type": "code",
      "source": [
        "np.random.rand(랜덤값) # 랜덤값에 1개면 최대값 지정, 2개면 범위 지정\n",
        "np.random.shuffle(x)   # X를 랜덤으로 셔플\n",
        "\n",
        "np.ones(n)  # n만큼 1을 생성\n",
        "np.zeros(n) # n만큼 0을 생성"
      ],
      "metadata": {
        "id": "MkDr3eODMxU8"
      },
      "execution_count": null,
      "outputs": []
    },
    {
      "cell_type": "markdown",
      "source": [
        "### 반복 데이터 생성"
      ],
      "metadata": {
        "id": "uulU9b4uNmrn"
      }
    },
    {
      "cell_type": "code",
      "source": [
        "np.repeat('반복내용' , 반복횟수) # 반복횟수에는 len()을 사용할 수 있음\n",
        "np.array('반복내용' * 반복횟수) # 반복횟수에는 len()을 사용할 수 있음"
      ],
      "metadata": {
        "id": "PULVTDb3Np13"
      },
      "execution_count": null,
      "outputs": []
    },
    {
      "cell_type": "markdown",
      "source": [
        "### 소수점 자리 표시"
      ],
      "metadata": {
        "id": "jMCvN1_btlKa"
      }
    },
    {
      "cell_type": "code",
      "source": [
        "np.around( df or col , n ) # n자리만큼 소수점 표시\n",
        "df.round(n)"
      ],
      "metadata": {
        "id": "EPkLYvrhtoEO"
      },
      "execution_count": null,
      "outputs": []
    },
    {
      "cell_type": "markdown",
      "source": [
        "### np(리스트) 연산"
      ],
      "metadata": {
        "id": "3GLdeoqTD9tj"
      }
    },
    {
      "cell_type": "code",
      "source": [
        "np.mean(df, axis=0) # 평균, axis=0은 가로방향 연산\n",
        "np.std(df, axis=0)  # 표준편차"
      ],
      "metadata": {
        "id": "7Vi78Q75D_3V"
      },
      "execution_count": null,
      "outputs": []
    },
    {
      "cell_type": "markdown",
      "source": [
        "### np 합병"
      ],
      "metadata": {
        "id": "hq6uzlyZERGB"
      }
    },
    {
      "cell_type": "code",
      "source": [
        "np.column_stack( (x,y) ) # 열방향으로 x,y 순으로 합병, row_stack은 행방향\n",
        "np.concatenate( (x,y) )"
      ],
      "metadata": {
        "id": "4An1JB2vETvz"
      },
      "execution_count": null,
      "outputs": []
    },
    {
      "cell_type": "markdown",
      "source": [
        "## matplotlib >> plt"
      ],
      "metadata": {
        "id": "Ucbumw24MORd"
      }
    },
    {
      "cell_type": "code",
      "source": [
        "import matplotlib.pyplot as plt"
      ],
      "metadata": {
        "id": "abUKUV2BMRDP"
      },
      "execution_count": null,
      "outputs": []
    },
    {
      "cell_type": "markdown",
      "source": [
        "# Python의 일반적 Import 모듈"
      ],
      "metadata": {
        "id": "si7fdJiDFCU0"
      }
    },
    {
      "cell_type": "code",
      "source": [
        "import seaborn as sns\n",
        "import random as rd # 랜덤 함수 , x = rd.randrange(n)\n",
        "import scipy"
      ],
      "metadata": {
        "id": "OLiU-oA3FGRE"
      },
      "execution_count": null,
      "outputs": []
    },
    {
      "cell_type": "code",
      "source": [
        "from sklearn.datasets import make_classification # n_features만큼의 리스트를 n_samples/n_features만큼 제작\n",
        "# X는 난수형 Float, y는 0과 1로 n_samples만큼 데이터 생성\n",
        "X, y = make_classification(n_samples=10000, n_features=10, random_state=42) # 추가 작업은 DataFrame 등"
      ],
      "metadata": {
        "id": "oapJYnfB5pyR"
      },
      "execution_count": null,
      "outputs": []
    },
    {
      "cell_type": "markdown",
      "source": [
        "# Python의 인공지능 Import 모듈"
      ],
      "metadata": {
        "id": "pTfJLd2YKcW6"
      }
    },
    {
      "cell_type": "markdown",
      "source": [
        "## ㅇ"
      ],
      "metadata": {
        "id": "W2bBiriGK2Go"
      }
    }
  ]
}