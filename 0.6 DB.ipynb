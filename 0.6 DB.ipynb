{
  "nbformat": 4,
  "nbformat_minor": 0,
  "metadata": {
    "colab": {
      "provenance": [],
      "collapsed_sections": [],
      "authorship_tag": "ABX9TyNDJafNWYoObTfOA1ruQPCM",
      "include_colab_link": true
    },
    "kernelspec": {
      "name": "python3",
      "display_name": "Python 3"
    },
    "language_info": {
      "name": "python"
    }
  },
  "cells": [
    {
      "cell_type": "markdown",
      "metadata": {
        "id": "view-in-github",
        "colab_type": "text"
      },
      "source": [
        "<a href=\"https://colab.research.google.com/github/JMindpalace/Machine_Learning/blob/main/0.6%20DB.ipynb\" target=\"_parent\"><img src=\"https://colab.research.google.com/assets/colab-badge.svg\" alt=\"Open In Colab\"/></a>"
      ]
    },
    {
      "cell_type": "markdown",
      "source": [
        "# DB(Data Base)\n",
        "여러 사람과의 공유를 목적으로 체계화해 통합, 관리하는 데이터의 집합<br>\n",
        "데이터의 크기나 저장 위치 등의 제한성 없이 안정적이고 빠르게 데이터를 검색, 저장하는 것"
      ],
      "metadata": {
        "id": "uq8jV7XQLyg3"
      }
    },
    {
      "cell_type": "markdown",
      "source": [
        "## RDB(Relational DB, 관계형 데이터베이스)\n",
        "> mysql, postgresql, sqlite<br>\n",
        "구조화된 데이터가 하나의 테이블로 표현되고, 테이블 간의 상호작용을 관계로 정의<br>\n",
        "\n",
        "> 테이블(Entities), 필드(column), 레코드(tuple), 키(기본 primary, 외래 foreign)"
      ],
      "metadata": {
        "id": "-z41KlAMquNN"
      }
    },
    {
      "cell_type": "markdown",
      "source": [
        "### 테이블 간의 관계\n",
        "1. 1:1 관계(1:1이면, 2개를 합치는 것이 보편적)\n",
        "2. 1:N 관계(1개 테이블에서 1개 레코드와 다른 테이블의 여러 레코드, 역은 성립하지 않음)\n",
        "3. N:N 관계(서로 다른 테이블의 레코드끼리 다수의 관계, 조인 테이블로 각각 1:N관계로 관리)\n",
        "+ 테이블 자체 관계: self referencing(추천인, 상하관계 등)"
      ],
      "metadata": {
        "id": "bE9fvf-KRkre"
      }
    },
    {
      "cell_type": "markdown",
      "source": [
        "### 스키마(schema): 데이터가 구성되는 방식과 서로 다른 엔티티 간의 관계"
      ],
      "metadata": {
        "id": "vgX1pqRvOILC"
      }
    },
    {
      "cell_type": "markdown",
      "source": [
        "### SQL(Structrued Query Language) 쿼리문"
      ],
      "metadata": {
        "id": "r9HVnN-EMmXz"
      }
    },
    {
      "cell_type": "code",
      "source": [
        "# SQL 종류: 쿼리에 따라 기능이나 작업이 달라짐\n",
        "# DDL(Data Definition Language): 테이블 같은 오브젝트 정의에 사용 - CREATE, DROP 등\n",
        "# DML(Data Manipulation Language): 데이터 변경 언어 - INSERT, DELETE, UPDATE\n",
        "# DCL(Data Control Language): 접근 권한 문법 - GRANT, REVOKE\n",
        "# DQL(Data Query Language, DML의 일부): 정해진 스키마 내에서 쿼리 - SELECT\n",
        "# TCL(Transcation Control Language): DML을 거친 데이터의 변경사항 수정 - CMOMMIT, ROLLBACK"
      ],
      "metadata": {
        "id": "O-SkD63OPO-3"
      },
      "execution_count": null,
      "outputs": []
    },
    {
      "cell_type": "markdown",
      "source": [
        "\n",
        "\n",
        "---\n",
        "\n",
        "\n",
        "\n",
        "---\n",
        "\n"
      ],
      "metadata": {
        "id": "DkGg9JYzq7w1"
      }
    },
    {
      "cell_type": "markdown",
      "source": [
        "## NoSQL(Not Only SQL)\n",
        "> mongoDB, dynamoDB, couchDB<br>\n",
        "RDB만 사용하지 않는 공통점<br>\n",
        "DB마다 만든 방식, 저장하는 정보의 종류, 저장 방법 등 서로 다른 특성<br>\n",
        "사용 예시: 데이터 구조가 거의 없는 대용량 데이터 저장, 클라우드 활용, 빠른 서비스 구축과 데이터 구조를 자주 업데이트"
      ],
      "metadata": {
        "id": "xDs0_ZgbqxbI"
      }
    },
    {
      "cell_type": "code",
      "source": [
        "# 문서 전송/처리 형식 - XML, JSON, YMAL: minifier(1줄로 만듬), formatter(1줄을 가독성 있게 변경)\n",
        "'XML: tag<>형식, 스키마(xml xsd 검색 시 사용 가능)로 검증 가능'\n",
        "'JSON: 딕셔너리 형식, 좋은 가독성'\n",
        "'YMAL: 사람 가독성이 목적(json to ymal 변경 가능)'"
      ],
      "metadata": {
        "id": "vPXOhe00sZzH"
      },
      "execution_count": null,
      "outputs": []
    },
    {
      "cell_type": "code",
      "source": [
        "# MongoDB Atlas로 mongno db 생성, pymongo 연결 - 문서DB 예시"
      ],
      "metadata": {
        "id": "vq3Fq2_Pq-ln"
      },
      "execution_count": null,
      "outputs": []
    },
    {
      "cell_type": "code",
      "source": [
        "# 1. 키-값(Key-Value) DB\n",
        "# 2. 문서(Document) DB: 문서마다 식별자로 여러 페이지로 구성\n",
        "# 3. 와이드-컬럼(Wide-column) DB: 각 열별 키-값형식으로 저장\n",
        "# 4. 그래프(Graph) DB: 노드(데이터 엔티티 저장용)와 에지(엔티티 간의 관계 저장용)의 요소로 구성"
      ],
      "metadata": {
        "id": "vuP4-7Tcurd_"
      },
      "execution_count": null,
      "outputs": []
    }
  ]
}