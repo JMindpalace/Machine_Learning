{
  "nbformat": 4,
  "nbformat_minor": 0,
  "metadata": {
    "colab": {
      "provenance": [],
      "collapsed_sections": [],
      "authorship_tag": "ABX9TyPXlenqGCApVXm8/lKmkrUi",
      "include_colab_link": true
    },
    "kernelspec": {
      "name": "python3",
      "display_name": "Python 3"
    },
    "language_info": {
      "name": "python"
    }
  },
  "cells": [
    {
      "cell_type": "markdown",
      "metadata": {
        "id": "view-in-github",
        "colab_type": "text"
      },
      "source": [
        "<a href=\"https://colab.research.google.com/github/JMindpalace/Machine_Learning/blob/main/0.6%20DB.ipynb\" target=\"_parent\"><img src=\"https://colab.research.google.com/assets/colab-badge.svg\" alt=\"Open In Colab\"/></a>"
      ]
    },
    {
      "cell_type": "markdown",
      "source": [
        "# RDB(관계형 데이터베이스)"
      ],
      "metadata": {
        "id": "-z41KlAMquNN"
      }
    },
    {
      "cell_type": "code",
      "source": [
        "'하나의 공통된 특성 아래 db 특성에 따라 분류'"
      ],
      "metadata": {
        "id": "PUzUAjOox4tX"
      },
      "execution_count": null,
      "outputs": []
    },
    {
      "cell_type": "markdown",
      "source": [
        "\n",
        "\n",
        "---\n",
        "\n",
        "\n",
        "\n",
        "---\n",
        "\n"
      ],
      "metadata": {
        "id": "DkGg9JYzq7w1"
      }
    },
    {
      "cell_type": "markdown",
      "source": [
        "# NoSQL(Not Only SQL)\n",
        "RDB만 사용하지 않는 공통점<br>\n",
        "DB마다 만든 방식, 저장하는 정보의 종류, 저장 방법 등 서로 다른 특성<br>\n",
        "사용 예시: 데이터 구조가 거의 없는 대용량 데이터 저장, 클라우드 활용, 빠른 서비스 구축과 데이터 구조를 자주 업데이트"
      ],
      "metadata": {
        "id": "xDs0_ZgbqxbI"
      }
    },
    {
      "cell_type": "code",
      "source": [
        "# 문서 전송/처리 형식 - XML, JSON, YMAL: minifier(1줄로 만듬), formatter(1줄을 가독성 있게 변경)\n",
        "'XML: tag<>형식, 스키마(xml xsd 검색 시 사용 가능)로 검증 가능'\n",
        "'JSON: 딕셔너리 형식, 좋은 가독성'\n",
        "'YMAL: 사람 가독성이 목적(json to ymal 변경 가능)'"
      ],
      "metadata": {
        "id": "vPXOhe00sZzH"
      },
      "execution_count": null,
      "outputs": []
    },
    {
      "cell_type": "code",
      "source": [
        "# MongoDB Atlas로 mongno db 생성, pymongo 연결 - 문서DB 예시"
      ],
      "metadata": {
        "id": "vq3Fq2_Pq-ln"
      },
      "execution_count": null,
      "outputs": []
    },
    {
      "cell_type": "code",
      "source": [
        "# 1. 키-값(Key-Value) DB\n",
        "# 2. 문서(Document) DB: 문서마다 식별자로 여러 페이지로 구성\n",
        "# 3. 와이드-컬럼(Wide-column) DB: 각 열별 키-값형식으로 저장\n",
        "# 4. 그래프(Graph) DB: 노드(데이터 엔티티 저장용)와 에지(엔티티 간의 관계 저장용)의 요소로 구성"
      ],
      "metadata": {
        "id": "vuP4-7Tcurd_"
      },
      "execution_count": 1,
      "outputs": []
    }
  ]
}