{
  "nbformat": 4,
  "nbformat_minor": 0,
  "metadata": {
    "colab": {
      "provenance": [],
      "collapsed_sections": [],
      "authorship_tag": "ABX9TyMsGlwtEyKF3Gl6OrQXCPAS",
      "include_colab_link": true
    },
    "kernelspec": {
      "name": "python3",
      "display_name": "Python 3"
    },
    "language_info": {
      "name": "python"
    }
  },
  "cells": [
    {
      "cell_type": "markdown",
      "metadata": {
        "id": "view-in-github",
        "colab_type": "text"
      },
      "source": [
        "<a href=\"https://colab.research.google.com/github/JMindpalace/Machine_Learning/blob/main/0.6%20DB.ipynb\" target=\"_parent\"><img src=\"https://colab.research.google.com/assets/colab-badge.svg\" alt=\"Open In Colab\"/></a>"
      ]
    },
    {
      "cell_type": "markdown",
      "source": [
        "# DB(Data Base)\n",
        "여러 사람과의 공유를 목적으로 체계화해 통합, 관리하는 데이터의 집합<br>\n",
        "데이터의 크기나 저장 위치 등의 제한성 없이 안정적이고 빠르게 데이터를 검색, 저장하는 것"
      ],
      "metadata": {
        "id": "uq8jV7XQLyg3"
      }
    },
    {
      "cell_type": "markdown",
      "source": [
        "## RDB(Relational DB, 관계형 데이터베이스)\n",
        "> mysql, postgresql, sqlite<br>\n",
        "구조화된 데이터가 하나의 테이블로 표현되고, 테이블 간의 상호작용을 관계로 정의<br>\n",
        "\n",
        "> 테이블(Entities), 필드(column), 레코드(tuple), 키(기본 primary, 외래 foreign)"
      ],
      "metadata": {
        "id": "-z41KlAMquNN"
      }
    },
    {
      "cell_type": "markdown",
      "source": [
        "### 트랜잭션, ACID\n",
        "> DB의 상태를 변화시키는 작업의 모음(기본 단위), 작업 묶음 중 1개라도 실패하면 전부 실패<br>\n",
        "\n",
        "ACID\n",
        "1. 원자성(Atomicity): 전부 성공 혹은 실패\n",
        "2. 일관성(Consistency): DB의 기본 제약(규칙)에 영향을 받는다\n",
        "3. 고립성(Isolation): 트랜잭션은 독립성이 필수\n",
        "4. 지속성(Durability): 기록은 영구적"
      ],
      "metadata": {
        "id": "4nA5pByDGQF6"
      }
    },
    {
      "cell_type": "markdown",
      "source": [
        "### 스키마(schema): 데이터가 구성되는 방식과 서로 다른 엔티티(테이블) 간의 관계\n",
        "1. 1:1 관계(1:1이면, 2개를 합치는 것이 보편적)\n",
        "2. 1:N 관계(1개 테이블에서 1개 레코드와 다른 테이블의 여러 레코드, 역은 성립하지 않음, N쪽에 1의 고유키를 넣어 관계 정리)\n",
        "3. N:N 관계(서로 다른 테이블의 레코드끼리 다수의 관계, 조인 테이블로 새로운 1:N관계를 외래키로 관리)\n",
        "+ 테이블 자체 관계: self referencing(추천인, 상하관계 등)"
      ],
      "metadata": {
        "id": "bE9fvf-KRkre"
      }
    },
    {
      "cell_type": "markdown",
      "source": [
        "### SQL(Structrued Query Language) 쿼리문"
      ],
      "metadata": {
        "id": "r9HVnN-EMmXz"
      }
    },
    {
      "cell_type": "code",
      "source": [
        "# SQL 종류: 쿼리에 따라 기능이나 작업이 달라짐\n",
        "# DDL(Data Definition Language): 테이블 같은 오브젝트 정의에 사용 - CREATE, DROP 등\n",
        "# DML(Data Manipulation Language): 데이터 변경 언어 - INSERT, DELETE, UPDATE\n",
        "# DCL(Data Control Language): 접근 권한 문법 - GRANT, REVOKE\n",
        "# DQL(Data Query Language, DML의 일부): 정해진 스키마 내에서 쿼리 - SELECT\n",
        "# TCL(Transcation Control Language): DML을 거친 데이터의 변경사항 수정 - CMOMMIT, ROLLBACK"
      ],
      "metadata": {
        "id": "O-SkD63OPO-3"
      },
      "execution_count": null,
      "outputs": []
    },
    {
      "cell_type": "code",
      "source": [
        "# SQL 명령어\n",
        "SELECT '특성' # 데이터셋에 포함될 특성\n",
        "FROM Table_name # 결과를 도출할 테이블\n",
        "JOIN 테이블1 ON 테이블1특성 = 테이블2특성 # Inner join, JOIN앞에 (LEFT OUTER, RIGHT OUTER)\n",
        "WHERE 특성 = '조건' AND 특성 LIKE \"%비슷한 값 필터%\" OR 특성 IN ('일치 데이터 필터') # 필터(>= <= > < <> =) 역할\n",
        "      특성 IS NOT NULL # NOT추가 시 제외\n",
        "GROUP BY 특성 # 데이터를 묶어서 조회\n",
        "HAVING AVG(X) > n # Groupby로 조회된 결과의 필터\n",
        "ORDER BY 특성, 정렬기준2 ASC # 데이터 정렬(기본 오름차순, 특성 뒤에 DESC추가 시 내림차순)\n",
        "LIMIT n # 데이터 결과 갯수 지정\n",
        "\n",
        "Wildcards # *(전부 선택)\n",
        "SELECT DISTINCT count(특성) AS # DISTINCT 추가 시 유니크 값만 선택, count로 갯수, AS는 새 이름\n",
        "COUNT() , SUM(), AVG(), MAX(), MIN() # 집계 함수"
      ],
      "metadata": {
        "id": "_LCKpoReFM-R"
      },
      "execution_count": null,
      "outputs": []
    },
    {
      "cell_type": "code",
      "source": [
        "# SQL 명령어 실행 순서\n",
        "FROM\n",
        "WHERE\n",
        "GROUP BY - HAVING\n",
        "SELECT\n",
        "ORDER BY"
      ],
      "metadata": {
        "id": "gLicMkw6SQ7F"
      },
      "execution_count": null,
      "outputs": []
    },
    {
      "cell_type": "code",
      "source": [
        "# SQL IF문: CASE\n",
        "SELECT CASE\n",
        "            WHEN 조건 1 THEN ''\n",
        "            WHEN 조건 2 THEN ''\n",
        "            ELSE 모든 조건 해당 없음\n",
        "        END"
      ],
      "metadata": {
        "id": "SBcTDZqYSmb6"
      },
      "execution_count": null,
      "outputs": []
    },
    {
      "cell_type": "code",
      "source": [
        "# 새 가상환경을 만들고 Bash에서 생성\n",
        "import sqlite3\n",
        "sqlite3.connect('sample_bin.db') # DB 생성\n",
        "\n",
        "# VS\n",
        "CREATE TABLE name(\n",
        "    field_1 varchar(n) primary key,\n",
        "    field_2 INTEGER\n",
        ");\n",
        "\n",
        "INSERT INTO name VALUES ('field_1_var', 'field_2_var');\n",
        "\n",
        "COMMIT # 메모리에 저장된 결과가 테이블에 반영\n",
        "ROLLBACK # 트랜잭션 수행 내용 모두 취소"
      ],
      "metadata": {
        "id": "aKDRMgJ8M6LZ"
      },
      "execution_count": null,
      "outputs": []
    },
    {
      "cell_type": "code",
      "source": [
        "# DB 관련\n",
        "SQL CREATE DB\n",
        "SQL DROP DB\n",
        "SQL CREATE TABLE\n",
        "SQL DROP TABLE\n",
        "SQL ALTER TABLE\n",
        "SQL Not Null\n",
        "SQL UNIQUE\n",
        "SQL PRIMARY KEY\n",
        "SQL FOREIGN KEY\n",
        "SQL DEFAULT\n",
        "SQL AUTO INCREMENT\n",
        "SQL DATES"
      ],
      "metadata": {
        "id": "zk6G0iiWFrWo"
      },
      "execution_count": null,
      "outputs": []
    },
    {
      "cell_type": "markdown",
      "source": [
        "\n",
        "\n",
        "---\n",
        "\n",
        "\n",
        "\n",
        "---\n",
        "\n"
      ],
      "metadata": {
        "id": "DkGg9JYzq7w1"
      }
    },
    {
      "cell_type": "markdown",
      "source": [
        "## NoSQL(Not Only SQL)\n",
        "> mongoDB, dynamoDB, couchDB<br>\n",
        "RDB만 사용하지 않는 공통점<br>\n",
        "DB마다 만든 방식, 저장하는 정보의 종류, 저장 방법 등 서로 다른 특성<br>\n",
        "사용 예시: 데이터 구조가 거의 없는 대용량 데이터 저장, 클라우드 활용, 빠른 서비스 구축과 데이터 구조를 자주 업데이트"
      ],
      "metadata": {
        "id": "xDs0_ZgbqxbI"
      }
    },
    {
      "cell_type": "code",
      "source": [
        "# 문서 전송/처리 형식 - XML, JSON, YMAL: minifier(1줄로 만듬), formatter(1줄을 가독성 있게 변경)\n",
        "'XML: tag<>형식, 스키마(xml xsd 검색 시 사용 가능)로 검증 가능'\n",
        "'JSON: 딕셔너리 형식, 좋은 가독성'\n",
        "'YMAL: 사람 가독성이 목적(json to ymal 변경 가능)'"
      ],
      "metadata": {
        "id": "vPXOhe00sZzH"
      },
      "execution_count": null,
      "outputs": []
    },
    {
      "cell_type": "code",
      "source": [
        "# MongoDB Atlas로 mongno db 생성, pymongo 연결 - 문서DB 예시"
      ],
      "metadata": {
        "id": "vq3Fq2_Pq-ln"
      },
      "execution_count": null,
      "outputs": []
    },
    {
      "cell_type": "code",
      "source": [
        "# 1. 키-값(Key-Value) DB\n",
        "# 2. 문서(Document) DB: 문서마다 식별자로 여러 페이지로 구성\n",
        "# 3. 와이드-컬럼(Wide-column) DB: 각 열별 키-값형식으로 저장\n",
        "# 4. 그래프(Graph) DB: 노드(데이터 엔티티 저장용)와 에지(엔티티 간의 관계 저장용)의 요소로 구성"
      ],
      "metadata": {
        "id": "vuP4-7Tcurd_"
      },
      "execution_count": null,
      "outputs": []
    }
  ]
}