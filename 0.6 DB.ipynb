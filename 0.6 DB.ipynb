{
  "nbformat": 4,
  "nbformat_minor": 0,
  "metadata": {
    "colab": {
      "provenance": [],
      "collapsed_sections": [],
      "authorship_tag": "ABX9TyMR/ZOfDcbiVnTn7EfCMpp6",
      "include_colab_link": true
    },
    "kernelspec": {
      "name": "python3",
      "display_name": "Python 3"
    },
    "language_info": {
      "name": "python"
    }
  },
  "cells": [
    {
      "cell_type": "markdown",
      "metadata": {
        "id": "view-in-github",
        "colab_type": "text"
      },
      "source": [
        "<a href=\"https://colab.research.google.com/github/JMindpalace/Machine_Learning/blob/main/0.6%20DB.ipynb\" target=\"_parent\"><img src=\"https://colab.research.google.com/assets/colab-badge.svg\" alt=\"Open In Colab\"/></a>"
      ]
    },
    {
      "cell_type": "markdown",
      "source": [
        "파이썬으로 웹상의 데이터 수집"
      ],
      "metadata": {
        "id": "4UCHD70Wjp5t"
      }
    },
    {
      "cell_type": "markdown",
      "source": [
        "# 데이터 자료 수집(Collecting Data-set)"
      ],
      "metadata": {
        "id": "fvv2p1fSGCGc"
      }
    },
    {
      "cell_type": "markdown",
      "source": [
        "## 자료 수집의 예시\n",
        "- DB, Files(csv, XML, JSON, Excel-xlsx), web-crwaling, survey, <br> IoT sensor data, python pakage(beautifulsoup, elenium, pymysql, pymongo) etc\n",
        "- 그 외에 데이터를 이해하기 위한 도메인 지식"
      ],
      "metadata": {
        "id": "z6SLKOFwGFgg"
      }
    },
    {
      "cell_type": "markdown",
      "source": [
        "## 크롤링"
      ],
      "metadata": {
        "id": "OXjAyNvlaiKx"
      }
    },
    {
      "cell_type": "code",
      "source": [
        "# 웹 - HTML, CSS, DOM"
      ],
      "metadata": {
        "id": "zypcJ82TdojM"
      },
      "execution_count": null,
      "outputs": []
    },
    {
      "cell_type": "markdown",
      "source": [
        "## 스크레이핑"
      ],
      "metadata": {
        "id": "DAo0sC4jamB_"
      }
    },
    {
      "cell_type": "code",
      "source": [
        "# https://realpython.com/beautiful-soup-web-scraper-python/"
      ],
      "metadata": {
        "id": "QM8iArfyLKir"
      },
      "execution_count": null,
      "outputs": []
    },
    {
      "cell_type": "markdown",
      "source": [
        "## 동적 vs 정적"
      ],
      "metadata": {
        "id": "vSeR0WrCAAcL"
      }
    },
    {
      "cell_type": "code",
      "source": [
        "# pip install requests : 파이썬에서 HTTP로 보내는 표준 요청 메소드\n",
        "import requests\n",
        "requests.get('https://사이트') # <Response [200]>이면 정상 연결\n",
        "\n",
        "resp.text # 응답 내용 확인"
      ],
      "metadata": {
        "id": "nJxnZ40XdrEA"
      },
      "execution_count": null,
      "outputs": []
    },
    {
      "cell_type": "code",
      "source": [
        "# 응답에 대한 에러 확인\n",
        "from requests.exceptions import HTTPError\n",
        "\n",
        "try:\n",
        "    resp = requests.get(url)\n",
        "    resp.raise_for_status()\n",
        "except HTTPError as Err:\n",
        "  print('HTTP 에러 발생')\n",
        "except Exception as Err:\n",
        "  print('다른 에러 발생')\n",
        "else:\n",
        "  print('성공')"
      ],
      "metadata": {
        "id": "RhilpPhu1lMg"
      },
      "execution_count": null,
      "outputs": []
    },
    {
      "cell_type": "code",
      "source": [
        "# pip install beautifulsoup4 : 받은 응답 내용을 파싱하고 정보 획득\n",
        "from bs4 import BeatuifulSoup\n",
        "\n",
        "soup = BeatuifulSoup(resp.content, 'html.parser') # 문자열과 파서를 전달\n",
        "\n",
        "# 요소 찾기\n",
        "soup.find() .find_all() # 조건에 일치하는 첫번때 결과 반환\n",
        "  # 파라미터\n",
        "  'tag' , # 태그 추가로 상세 검색\n",
        "\n",
        "  id = ''\n",
        "  class_ = '' # class에 언더바(_)로 class 구별\n",
        "\n",
        "  string = ''\n",
        "  string=lambda text: 'raining' in text.lower() # 대소문자 구분없이 찾기\n",
        "\n",
        "# 정보 얻기\n",
        "  find_bs4 = soup.find('tag', class_ = '' )\n",
        "  find_bs4.text # text가 없다면 HTML 형식으로 반환, text면 HTML의 내용만 반환"
      ],
      "metadata": {
        "id": "xiOfq_750xDF"
      },
      "execution_count": null,
      "outputs": []
    },
    {
      "cell_type": "markdown",
      "source": [
        "## HTML, CSS"
      ],
      "metadata": {
        "id": "9981ApZ3fi-n"
      }
    },
    {
      "cell_type": "code",
      "source": [
        "# HyperText Markup Language - <태그>를 통해 다양한 요소를 합쳐 웹페이지를 구성함\n",
        "\n",
        "# Cascading Style Sheets - 웹 페이지의 표현을 알려주는 스타일리시트 언어\n",
        "  # Selector: 요소 선택(Type:CSS타입, Class, Id) , CSS요소는 상위 요소의 스타일 상속 받음\n",
        "  # Class >> <p class=\"banana fruit orange\">  --  .bananan { color:'yellow'; } # 다중 부여 가능\n",
        "  # Id    >> <p id=\"pink\">  --   #pink { color:'pink'; } # 특정요소만 지정하기에 여러 개 부여는 가능하나 제한함\n",
        "\n",
        "# DOM(Document Object Model) - HTML 문서 구조 이해(F12 후 console 창에서 진행)\n",
        "  # document.메소드('검색내용') - document는 해당 페이지의 모든 HTML을 담고 있음\n",
        "    # getElementsbyTagName : 태그 이름으로 문서 요소들을 리턴\n",
        "    # getElementById : id가 일치하는 요소 리턴\n",
        "    # getElementsByClassName: 클래스 일치 요소들을 리턴\n",
        "    # querySelector(All): 일치 요소(들)을 리턴"
      ],
      "metadata": {
        "id": "UrCd-XzxflAB"
      },
      "execution_count": null,
      "outputs": []
    },
    {
      "cell_type": "markdown",
      "source": [
        "\n",
        "\n",
        "---\n",
        "\n",
        "\n",
        "\n",
        "---\n",
        "\n"
      ],
      "metadata": {
        "id": "qD4u_Ldoh88R"
      }
    },
    {
      "cell_type": "markdown",
      "source": [
        "파이썬과 SQL을 관계형 DB에 적용<br>\n",
        "비관계형(NoSQL) DB에 데이터 적재"
      ],
      "metadata": {
        "id": "qfNGb_4Hjl7N"
      }
    },
    {
      "cell_type": "markdown",
      "source": [
        "# DB(Data Base)\n",
        "여러 사람과의 공유를 목적으로 체계화해 통합, 관리하는 데이터의 집합<br>\n",
        "데이터의 크기나 저장 위치 등의 제한성 없이 안정적이고 빠르게 데이터를 검색, 저장하는 것<br>\n",
        "전자적으로 저장되고 사용되는 관련있는 데이터들의 조직화된 집합"
      ],
      "metadata": {
        "id": "uq8jV7XQLyg3"
      }
    },
    {
      "cell_type": "code",
      "source": [
        "# ??? DB 옵티마이저의 종류와 특징\n",
        "# ??? DB 인덱스"
      ],
      "metadata": {
        "id": "MiISfSCHg1AC"
      },
      "execution_count": null,
      "outputs": []
    },
    {
      "cell_type": "code",
      "source": [
        "# ?? 함수 종속\n",
        "\n",
        "# 정규화 - 제1(1NF), 제2, 제3 , 제4와 5는 거의 보기 힘듬\n",
        "# 정규화 목표 - 중복 데이터 제거, 데이터 종속성(테이블에 관련 데이터만 저장)\n",
        "# 1NF - 동일 테이블 내의 중복 열 제거, 데이터별 테이블의 키로 행 식별\n",
        "# 2NF - 1NF 충족, 데이터 하위집합(테이블 여러 행에 적용)을 제거하고 별도 테이블화, 외래키로 관계 생성\n",
        "# 3NF - 1&2NF 충족, 기본키에 의존하지 않는 열 제거 + BCNF(3.5NF): 모든 결정자는 후보키여야 합니다.\n",
        "# 4NF - 1&2&3NF 충족, 다중 값 종속성이 없는 경우"
      ],
      "metadata": {
        "id": "MdVsz4Cmy6_8"
      },
      "execution_count": null,
      "outputs": []
    },
    {
      "cell_type": "code",
      "source": [
        "https://www.hackerrank.com/domains/sql # SQL 문제"
      ],
      "metadata": {
        "id": "FJnFcP-ZzGeh"
      },
      "execution_count": null,
      "outputs": []
    },
    {
      "cell_type": "markdown",
      "source": [
        "# Data models(`): DB 구조를 기술하는데 사용될 수 있는 개념들의 집합\n",
        "- conceptual(high-level)`: 추상화 수준이 높고, 일반 사용자도 이해할 수 있는 개념들로 이뤄진 모델(entity-relationship model)\n",
        "- logical(representational)`: 특정 DBMS나 저장소에 종속되지 않는 수준에서 쉽고 디테일하게 DB를 구조화하는 모델(Relatinal`, object`, object-relational)\n",
        "- physical(low-level)`: 컴퓨터에 데이터가 어떻게 파일 형태로 저장되는지 기술할 수단 제공(data format, orderings, access path etc)"
      ],
      "metadata": {
        "id": "tKvRXtVwdTxr"
      }
    },
    {
      "cell_type": "markdown",
      "source": [
        "## RDB(Relational DB, 관계형 데이터베이스)\n",
        "> mysql, postgresql, sqlite<br>\n",
        "구조화된 데이터가 하나의 테이블로 표현되고, 테이블 간의 상호작용을 관계로 정의<br>\n",
        "\n",
        "> 테이블(Entities): 사전에 정의된 행과 열, 구조화된 데이터\n",
        "\n",
        "> 필드(column): 테이블의 열(엔티티의 특성을 설명함)\n",
        "\n",
        "> 레코드(tuple): 테이블의 한 행에 저장된 정보\n",
        "\n",
        "> 키(기본 primary, 외래 foreign): 레코드를 구분할 수 있는 고유값<br>\n",
        "추가적으로 슈퍼 키, 후보 키, 대체 키가 있음"
      ],
      "metadata": {
        "id": "-z41KlAMquNN"
      }
    },
    {
      "cell_type": "markdown",
      "source": [
        "### 트랜잭션, ACID\n",
        "> DB의 상태를 변화시키는 작업의 모음(DML의 기본 단위), 작업 묶음 중 1개라도 실패하면 전부 실패<br>\n",
        "> commit, rollback, autocommit으로 관리\n",
        "\n",
        "ACID: DB의 안정성을 보장하는 표준 속성\n",
        "1. 원자성(Atomicity): 전부 성공 혹은 실패\n",
        "2. 일관성(Consistency): DB의 기본 제약(규칙)에 영향을 받는다\n",
        "3. 고립성(Isolation): 트랜잭션의 독립성이 필수\n",
        "4. 지속성(Durability): 오류가 발생해도 영구적 기록이 필수"
      ],
      "metadata": {
        "id": "4nA5pByDGQF6"
      }
    },
    {
      "cell_type": "markdown",
      "source": [
        "데이터 모델링 설계 입장\n",
        "1. 사용자: 외부 스키마\n",
        "2. 설계자: 개념 스키마\n",
        "3. 개발자: 내부 스키마"
      ],
      "metadata": {
        "id": "ZSSiIWAK6qWm"
      }
    },
    {
      "cell_type": "markdown",
      "source": [
        "### 스키마(schema): 데이터가 구성되는 방식과 서로 다른 엔티티(고유 정보의 단위) 간의 관계\n",
        "DB설계 때 데이터 모델을 바탕으로 DB의 구조를 기술한 것\n",
        "\n",
        "> 키값: 한 테이블의 열에 여러 개의 값으로 테이블 연결은 불가능\n",
        "1. 1:1 관계(1:1이면, 2개를 합치는 것이 보편적)\n",
        "2. 1:N 관계(1개 테이블에서 1개 레코드와 다른 테이블의 여러 레코드, 역은 성립하지 않음, N쪽에 1의 고유키를 넣어 관계 정리)\n",
        "3. N:N 관계(서로 다른 테이블의 레코드끼리 다수의 관계, 조인 테이블로 새로운 1:N관계를 외래키로 관리)\n",
        "+ 테이블 자체 관계: self referencing(추천인, 상하관계 등)"
      ],
      "metadata": {
        "id": "bE9fvf-KRkre"
      }
    },
    {
      "cell_type": "code",
      "source": [
        "# 스키마 작성 - https://www.lucidchart.com/pages/"
      ],
      "metadata": {
        "id": "kS8CeSXkhrti"
      },
      "execution_count": null,
      "outputs": []
    },
    {
      "cell_type": "code",
      "source": [
        "# 추가 - 3층 스키마(Three-schema architecture), 각 레벨을 독립시켜 어느 레벨의 변화가 다른 레벨에 영향을 주지 않기 위함\n",
        "# DB 시스템을 구축하는 아키텍쳐 중의 하나, User application으로부터 물리적인 DB를 분리시키는 목적\n",
        "- External schemas(level): user views로 유저가 필요하는 데이터만 표현\n",
        "- Conceptual schemas(level): 전체 db에 대한 구조를 logical`로 기술\n",
        "  (entities, data types, relationships, user operations, constraints), 물리적 저장 구조는 숨김\n",
        "- internal schemas(level): physical`로 물리적 데이터 저장을 표현"
      ],
      "metadata": {
        "id": "lgfKp2h7e3Nc"
      },
      "execution_count": null,
      "outputs": []
    },
    {
      "cell_type": "markdown",
      "source": [
        "### DBMS(Management System): 사용자에게 DB를 정의하고 만들고 관리하는 기능을 제공하는 소프트웨어 시스템\n",
        "\n",
        "### 오라클 DB\n",
        "> 스스로 최적의 실행계획을 세움, 높은 성능과 신뢰성\n",
        "\n",
        "### TIBERO DB\n",
        "\n",
        "### MySQL DB\n",
        "\n",
        "### PostgreSQL\n",
        "\n",
        "### SQL Server(MS)\n",
        "\n",
        "> metadata: DB를 정의하거나 기술하는 data(데이터 유형, 구조, 제약 조건, 보안, 저장, 인덱스, 사용자 그룹 등)"
      ],
      "metadata": {
        "id": "waxy77w6kVzp"
      }
    },
    {
      "cell_type": "markdown",
      "source": [
        "### SQL(Structrued Query Language) 쿼리문"
      ],
      "metadata": {
        "id": "r9HVnN-EMmXz"
      }
    },
    {
      "cell_type": "code",
      "source": [
        "# SQL 종류: 쿼리에 따라 기능이나 작업이 달라짐\n",
        "# DDL(Data Definition Language): 테이블 같은 오브젝트 정의에 사용 - CREATE, DROP 등\n",
        "  # conceptual schema를 정의하는 언어(internal schema까지 정의 가능)\n",
        "\n",
        "# DML(Data Manipulation Language): 데이터 변경 언어 - INSERT, DELETE, UPDATE\n",
        "  # DB의 데이터를 활용하기 위한 직접적인 언어: Data 추가, 삭제, 수정, 검색 등\n",
        "\n",
        "# DCL(Data Control Language): 접근 권한 문법 - GRANT, REVOKE\n",
        "# DQL(Data Query Language, DML의 일부): 정해진 스키마 내에서 쿼리 - SELECT\n",
        "# TCL(Transcation Control Language): DML을 거친 데이터의 변경사항 수정 - CMOMMIT, ROLLBACK\n",
        "\n",
        "# SDL(Storage definition Language): internal schema를 정의하는 언어(요즘은 파라미터 설정으로 대체됨)\n",
        "# VDL(View definition language): external schemas를 정의하는 언어(요즘은 DDL이 VDL역할까지 수행)"
      ],
      "metadata": {
        "id": "O-SkD63OPO-3"
      },
      "execution_count": null,
      "outputs": []
    },
    {
      "cell_type": "code",
      "source": [
        "# SQL 명령어과 실행 순서\n",
        "5. SELECT DISTINCT 특성1~n(,로 연결), AS 약어 # 데이터셋에 포함될 특성\n",
        "# DISTINCT 추가 시 유니크 값만 선택, count(DISTINCT 특성)으로 유일한 값들의 개수 세기\n",
        "# AS(Aliases)는 새 이름 혹은 원본 이름 뒤에 1칸 띄우고 사용해도 같음\n",
        "\n",
        "1. FROM Table_name # 결과를 도출할 특정 테이블\n",
        "\n",
        "JOIN 테이블2 ON 테이블1특성키 = 테이블2특성키 # FROM과 다른 테이블, 기본 Inner join\n",
        "# JOIN 시각화 및 SQL : https://sql-joins.leopard.in.ua/ , outer JOIN은 맨 앞에 +(LEFT, RIGHT, FULL)OUTER\n",
        "\n",
        "2. WHERE 특성 = '조건' AND 특성 LIKE \"%비슷한 값 필터%\" OR 특성 IN ('일치 데이터 필터') # 그룹화 전 레코드 필터\n",
        "# 필터(>= <= > < <> =) 역할, 문자열 필터링에서 LIKE와 \\% 혹은 *를 사용\n",
        "# WHERE 특성 'IS NULL' OR 'IS NOT NULL' # 결측치 혹은 결측치 아닌 것 찾기\n",
        "\n",
        "3. GROUP BY 특성 # 데이터를 묶어서 조회\n",
        "4. HAVING AVG(X) > n # Groupby로 조회된(그룹화된) 결과의 필터\n",
        "\n",
        "6. ORDER BY 특성, 정렬기준2 ASC # 데이터 정렬(기본 오름차순, 특성 뒤에 DESC추가 시 내림차순)\n",
        "\n",
        "LIMIT n OFFSET n # 데이터 결과 갯수 지정, OFFSET으로 출력 시작 지정\n",
        "\n",
        "Wildcards # *(전부 선택)\n",
        "COUNT() , SUM(), AVG(), MAX(), MIN() # 집계 함수\n",
        "SELECT 특성1, 특성2 FROM 테이블1 UNION ALL SELECT 특성1, 특성2 FROM 테이블2 # 세로로 합치기, ALL 제외 시 중복값 제거"
      ],
      "metadata": {
        "id": "_LCKpoReFM-R"
      },
      "execution_count": null,
      "outputs": []
    },
    {
      "cell_type": "code",
      "source": [
        "# SQL Subquery: 쿼리문 내의 다른 쿼리문 포함\n",
        "SELECT '특성' = (서브쿼리 - 결과를 개별값이나 리스트로 반환, 칼럼으로 활용)\n",
        "FROM 특성 = (서브쿼리로 조회된 결과를 하나의 테이블이나 조회 대상으로 지정)\n",
        "WHERE 특성 IN (서브쿼리에 특정 값 조회)"
      ],
      "metadata": {
        "id": "pwT9AqF0L6xS"
      },
      "execution_count": null,
      "outputs": []
    },
    {
      "cell_type": "code",
      "source": [
        "# SQL IF문: CASE(다중 테이블 쿼리)\n",
        "SELECT CASE\n",
        "            WHEN 조건 1 THEN ''\n",
        "            WHEN 조건 2 THEN ''\n",
        "            ELSE 모든 조건 해당 없음\n",
        "        END"
      ],
      "metadata": {
        "id": "SBcTDZqYSmb6"
      },
      "execution_count": null,
      "outputs": []
    },
    {
      "cell_type": "code",
      "source": [
        "# python에서의 DB 관련 SQL문\n",
        "CREATE DB ~ DROP DB\n",
        "DROP TABLE\n",
        "ALTER TABLE\n",
        "UNIQUE\n",
        "DEFAULT\n",
        "AUTO INCREMENT"
      ],
      "metadata": {
        "id": "zk6G0iiWFrWo"
      },
      "execution_count": null,
      "outputs": []
    },
    {
      "cell_type": "code",
      "source": [
        "import sqlite3\n",
        "sqlite3.connect('sample_bin.db') # DB 생성\n",
        "\n",
        "conn = mysql.connector.connect(host, database, user, password)\n",
        "conn.autocommit = False # 트랜잭션 자동 커밋 오프\n",
        "\n",
        "INSERT INTO name VALUES ('field_1_var', 'field_2_var'); # 값 추가\n",
        "\n",
        "conn.execute # 메모리에 SQL문을 반영\n",
        "\n",
        "# 트랜젝션을 통제(관리)하는 명령어\n",
        "conn.commit() # 메모리(버퍼, 임시저장소)에 저장된 결과가 db에 반영 = 확정 신호\n",
        "conn.rollback() # if문으로 에러 발생 시 트랜잭션 수행 내용 모두 취소"
      ],
      "metadata": {
        "id": "aKDRMgJ8M6LZ"
      },
      "execution_count": null,
      "outputs": []
    },
    {
      "cell_type": "code",
      "source": [
        "python_table_name = \"\"\" CREATE TABLE 'TABLE_NAME'(\n",
        "    column_name1 condition,\n",
        "    column_name2 condition,\n",
        ");\"\"\"\n",
        "# table condition: NOT NULL, PRIMARY KEY, DataType( INTERGER, VARCHAR(32), DATE )\n",
        "# FOREIGN KEY(in table) REFERENCES other_table_name(other_table_pk)"
      ],
      "metadata": {
        "id": "LCQvPcLtCDF5"
      },
      "execution_count": null,
      "outputs": []
    },
    {
      "cell_type": "code",
      "source": [
        "# SQL 연습\n",
        "# 1. https://www.w3schools.com/SQl/sql_exercises.asp\n",
        "# 2. https://sqlbolt.com/\n",
        "# 3. https://sqlzoo.net/wiki/SQL_Tutorial\n",
        "# 4. 로그인 필요 - https://www.codecademy.com/learn/learn-sql"
      ],
      "metadata": {
        "id": "_ysHVMSxiMNY"
      },
      "execution_count": null,
      "outputs": []
    },
    {
      "cell_type": "markdown",
      "source": [
        "\n",
        "\n",
        "---\n",
        "\n",
        "\n",
        "\n",
        "---\n",
        "\n"
      ],
      "metadata": {
        "id": "DkGg9JYzq7w1"
      }
    },
    {
      "cell_type": "markdown",
      "source": [
        "## NoSQL(Not Only SQL)\n",
        "> mongoDB, dynamoDB, couchDB<br>\n",
        "RDB만 사용하지 않는 점과 구조가 고정되어 있지 않다는 공통점<br>\n",
        "DB마다 만든 방식, 저장하는 정보의 종류, 저장 방법 등 서로 다른 특성<br>\n",
        "사용 예시: 데이터 구조가 거의 없는 대용량 데이터 저장, 클라우드 활용, 빠른 서비스 구축과 데이터 구조를 자주 업데이트"
      ],
      "metadata": {
        "id": "xDs0_ZgbqxbI"
      }
    },
    {
      "cell_type": "code",
      "source": [
        "# 문서 전송/처리 형식 - XML, JSON, YMAL: minifier(1줄로 만듬), formatter(1줄을 가독성 있게 변경)\n",
        "'XML: tag<>형식, 스키마(xml xsd 검색 시 사용 가능)로 검증 가능'\n",
        "'JSON: 딕셔너리 형식, 좋은 가독성'\n",
        "'YMAL: 사람 가독성이 목적(json to ymal 변경 가능)'"
      ],
      "metadata": {
        "id": "vPXOhe00sZzH"
      },
      "execution_count": null,
      "outputs": []
    },
    {
      "cell_type": "code",
      "source": [
        "# MongoDB Atlas로 mongno db 생성, pymongo 연결 - 문서DB 예시"
      ],
      "metadata": {
        "id": "vq3Fq2_Pq-ln"
      },
      "execution_count": null,
      "outputs": []
    },
    {
      "cell_type": "code",
      "source": [
        "# 1. 키-값(Key-Value) DB\n",
        "# 2. 문서(Document) DB: 문서마다 식별자로 여러 페이지로 구성\n",
        "# 3. 와이드-컬럼(Wide-column) DB: 각 열별 키-값형식으로 저장\n",
        "# 4. 그래프(Graph) DB: 노드(데이터 엔티티 저장용)와 에지(엔티티 간의 관계 저장용)의 요소로 구성"
      ],
      "metadata": {
        "id": "vuP4-7Tcurd_"
      },
      "execution_count": null,
      "outputs": []
    }
  ]
}