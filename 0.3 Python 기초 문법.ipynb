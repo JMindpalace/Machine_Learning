{
  "nbformat": 4,
  "nbformat_minor": 0,
  "metadata": {
    "colab": {
      "provenance": [],
      "authorship_tag": "ABX9TyMZMqMM6wD1ZTQ2ho40kZ5A",
      "include_colab_link": true
    },
    "kernelspec": {
      "name": "python3",
      "display_name": "Python 3"
    },
    "language_info": {
      "name": "python"
    }
  },
  "cells": [
    {
      "cell_type": "markdown",
      "metadata": {
        "id": "view-in-github",
        "colab_type": "text"
      },
      "source": [
        "<a href=\"https://colab.research.google.com/github/JMindpalace/Machine_Learning/blob/main/0.3%20Python%20%EA%B8%B0%EC%B4%88%20%EB%AC%B8%EB%B2%95.ipynb\" target=\"_parent\"><img src=\"https://colab.research.google.com/assets/colab-badge.svg\" alt=\"Open In Colab\"/></a>"
      ]
    },
    {
      "cell_type": "markdown",
      "source": [
        "# < Python 기초 문법 >"
      ],
      "metadata": {
        "id": "geY7SXdeQv73"
      }
    },
    {
      "cell_type": "markdown",
      "source": [
        "라이브러리/패키지 > 모듈 > 함수/클래스\n",
        "\n",
        "```\n",
        "import 다른모듈(.py)\n",
        "\n",
        "다른모듈.함수 # 참조 가능\n",
        "```\n",
        "\n"
      ],
      "metadata": {
        "id": "ruj6LfILtFoP"
      }
    },
    {
      "cell_type": "markdown",
      "source": [
        "입력과 출력, 주석\n",
        "```\n",
        "# print는 ( , 컴마로 구분 )\n",
        "print( f '출력 형식 지정할 내용 { 변수: , .3f } ' )\n",
        "```\n",
        "\n",
        "```\n",
        "# input은 정수 입력 시 int(input() )\n",
        "변수 = input( '입력받을 내용' )\n",
        "```\n",
        "\n",
        "```\n",
        "주석은 2가지\n",
        "1. # 으로 1줄 처리\n",
        "2. \"\"\" \"\"\" 으로 여러줄 처리\n",
        "```\n"
      ],
      "metadata": {
        "id": "FASqLCO41tJK"
      }
    },
    {
      "cell_type": "markdown",
      "source": [
        "복사\n",
        "\n",
        "```\n",
        "복사 변수 = 원본 변수.copy() # 원본의 주소값을 복사함\n",
        "복사 변수 = 원본 변수.deepcopy() # 원본의 값만 복사함\n",
        "```\n",
        "\n"
      ],
      "metadata": {
        "id": "nng3qUmDnfau"
      }
    },
    {
      "cell_type": "markdown",
      "source": [
        "## 타입 구분(컬렉션 자료형)"
      ],
      "metadata": {
        "id": "LklL0WYCVoYY"
      }
    },
    {
      "cell_type": "markdown",
      "source": [
        "[공식문서](https://docs.python.org/ko/3/tutorial/introduction.html#lists)"
      ],
      "metadata": {
        "id": "B8aRBE0-kVeT"
      }
    },
    {
      "cell_type": "markdown",
      "source": [
        "### 문자열( 'char' or \"str\" ), 배열(array)\n",
        "배열은 동일 자료형일때만 연산이 가능하고, 혼합 자료형일 때는 String 배열이됨"
      ],
      "metadata": {
        "id": "U71qolod0jwd"
      }
    },
    {
      "cell_type": "markdown",
      "source": [
        "### Tuple = ()\n",
        "튜플은 초기화 이후 값 변경 불가(메소드 없음)로 처리속도가 빠름"
      ],
      "metadata": {
        "id": "tv3W2Dsz0p_X"
      }
    },
    {
      "cell_type": "code",
      "source": [
        "변수, 변수, 변수, --- , 변수 = 패킹된 튜플[앞의 변수 갯수와 색인의 수는 동일해야함]"
      ],
      "metadata": {
        "id": "Q3h0yOAsfmLs"
      },
      "execution_count": null,
      "outputs": []
    },
    {
      "cell_type": "markdown",
      "source": [
        "### Set = { }\n",
        "데이터의 중복을 허용하지 않고, 순서가 없는 데이터 집합<br>\n",
        "Set의 문자열은 문자 1개씩으로 분리되어 저장됨\n",
        "\n",
        "```\n",
        "변수 = set() # 딕셔너리와 비슷한 형태로 set형은 초기화가 필요함\n",
        "\n",
        "```"
      ],
      "metadata": {
        "id": "M69ad1yP0m9G"
      }
    },
    {
      "cell_type": "code",
      "source": [
        "Set 값 확인\n",
        "  변수 이름 in Set # not in도 사용 가능\n",
        "\n",
        "Set 문자 추가\n",
        "  set_변수.add( '추가 내용' )\n",
        "  '추가내용'.join( 삽입 문자열 ) # 문자열 사이에 특정 문자 넣기\n",
        "\n",
        "Set 값 제거\n",
        "  set_변수.clear() # 초기화\n",
        "  set_변수.pop() # 값을 가져오며 제거\n",
        "  set_변수.remove(내용) # 중복이 있어도 가장 앞에 있는 1개의 내용만 제거, 없는 변수 선택 시 에러\n",
        "  set_변수.discard(내용) # 제거 중 없는 변수 에러 무시"
      ],
      "metadata": {
        "id": "BNqRbk4oeTL0"
      },
      "execution_count": null,
      "outputs": []
    },
    {
      "cell_type": "markdown",
      "source": [
        "### Dict = { 키1:값1 , 키2:값2 , --- }\n",
        "키 값이 색인의 역활을 함"
      ],
      "metadata": {
        "id": "3nT8L_Vy0re5"
      }
    },
    {
      "cell_type": "code",
      "source": [
        "딕셔녀리 값 확인 # 변수.items()\n",
        "  list(딕셔너리_변수.keys()) # 키 확인\n",
        "  list(딕셔너리_변수.values()) # 값 확인\n",
        "  키 이름 in 딕셔너리 # not in도 사용 가능\n",
        "  \n",
        "딕셔너리 값 변경: 변수[키] = 변경 내용\n",
        "\n",
        "딕셔너리 값 제거\n",
        "  딕셔너리_변수.clear() # 초기화\n",
        "  del 딕셔너리_변수[키] # 특정 값 제거\n",
        "\n",
        "딕셔너리 정렬 # 기본 오름차순, (reverse=True) 혹은 딕셔너리_변수.reverse()로 역순정렬\n",
        "  딕셔너리_변수.sorted( '복사&정렬 딕셔너리' ) # 딕셔너리.value() 로 값 정렬 가능"
      ],
      "metadata": {
        "id": "3n61QN10UlBy"
      },
      "execution_count": null,
      "outputs": []
    },
    {
      "cell_type": "markdown",
      "source": [
        "### List = []\n",
        "연속적 순서를 가진 자료형, 여러 자료형을 가질 수 있어 연산은 불가능"
      ],
      "metadata": {
        "id": "cOwFCjLH0uqQ"
      }
    },
    {
      "cell_type": "code",
      "source": [
        "리스트 접근 = 변수[리스트 색인][리스트 내의 리스트 원소 접근 시 확장 색인]\n",
        "\n",
        "리스트 합치기 = 리스트_변수1 + 리스트_변수2 # 기존 리스트의 값은 보존됨\n",
        "리스트 요소개수 = 리스트_변수.count( '찾을 요소' )\n",
        "리스트 요소검색 = 리스트_변수.index( '찾을 요소' ) # 없다면 Error 발생함\n",
        "\n",
        "리스트 값 복사\n",
        "  리스트_변수 * n # 같은 내용 반복\n",
        "  new_리스트_변수 = 리스트_변수.copy()\n",
        "\n",
        "리스트 값 추가\n",
        "  리스트_변수.append( '마지막에 추가될 내용' )\n",
        "  리스트_변수.extend( '마지막에 추가될 내용' ) # iterable(숫자) 자료형만 추가 가능\n",
        "  리스트_변수.insert( '위치' , '추가될 내용' )\n",
        "\n",
        "리스트 값 변경\n",
        "  변수[색인] = 변경 내용\n",
        "\n",
        "리스트 값 제거\n",
        "  리스트_변수.clear() # 초기화\n",
        "  del 리스트_변수[시작:끝] # 시작과 끝의 색인 미지정 시 초기화\n",
        "  리스트_변수.pop(색인) # 값을 가져오며 제거\n",
        "  리스트_변수.remove(내용) # 중복이 있어도 가장 앞에 있는 1개의 내용만 제거\n",
        "\n",
        "리스트 분리\n",
        "  리스트_변수[ <시작>:<끝> ] # 색인은 생략이 가능하며, 기존 리스트의 내용 삭제는 없고, 값만 반환함\n",
        "  리스트_변수.split('분리 기준')[분리 후 출력할 색인]\n",
        "\n",
        "리스트 정렬 # 기본 오름차순, (reverse=True) 혹은 리스트_변수.reverse()로 역순정렬\n",
        "  리스트_변수.sort() # 기존 리스트를 정렬\n",
        "  리스트_변수.sorted('복사&정렬 리스트') # 새 리스트에 복사하고 정렬함"
      ],
      "metadata": {
        "id": "yOuk2Y1sRJPF"
      },
      "execution_count": null,
      "outputs": []
    },
    {
      "cell_type": "markdown",
      "source": [
        "## 에러 제어문"
      ],
      "metadata": {
        "id": "ET3CnOjryAeY"
      }
    },
    {
      "cell_type": "code",
      "source": [
        "try:\n",
        "  print\n",
        "except:\n",
        "  print\n",
        "else:\n",
        "  print( '이 else는 except문이 실행되지 않았을 때 else문이 실행됨' )\n",
        "finally:\n",
        "  print( '오류와 무관하게 실행시킬 코드 구문' )"
      ],
      "metadata": {
        "id": "caDn9Lu7x_c-"
      },
      "execution_count": null,
      "outputs": []
    },
    {
      "cell_type": "code",
      "source": [
        "# 사용자 정의 예외 처리\n",
        "\n",
        "raise Exception( '문자열은 생략 가능' ) # 예외상황을 명시적으로 처리\n",
        "\n",
        "assert a == b"
      ],
      "metadata": {
        "id": "Ujb97nBWyydE"
      },
      "execution_count": null,
      "outputs": []
    },
    {
      "cell_type": "markdown",
      "source": [
        "## 반복문"
      ],
      "metadata": {
        "id": "FOmkjil9RaBT"
      }
    },
    {
      "cell_type": "code",
      "source": [
        "i = 0 # while문은 별도의 탈출을 지정해야함\n",
        "while (조건문) :\n",
        "  continue\n",
        "  break"
      ],
      "metadata": {
        "id": "3t0wuyxxMJ2a"
      },
      "execution_count": null,
      "outputs": []
    },
    {
      "cell_type": "code",
      "source": [
        "for for문변수 in ' [list] / range(시작, 마지막, 증가폭) / range(len()) / enumerate(값과 인덱스 반환) ':\n",
        "\n",
        "# Comprehension\n",
        "변수 = [ 반복내용 for i in range() ]\n",
        "\n",
        "for i in range() :\n",
        "  print\n",
        "  # if문을 for문 내 사용 시 else는 for과 동일 들여쓰기로 사용함\n",
        "else:\n",
        "  print( 'if문 없이 else구문 사용' )"
      ],
      "metadata": {
        "id": "iw4eB31wMJ48"
      },
      "execution_count": null,
      "outputs": []
    },
    {
      "cell_type": "markdown",
      "source": [
        "## 조건문"
      ],
      "metadata": {
        "id": "HLmxQIqbRa-4"
      }
    },
    {
      "cell_type": "code",
      "source": [
        "if (조건문) :\n",
        "  if True 실행문\n",
        "elif (조건문) :\n",
        "  elif True 실행문\n",
        "else :\n",
        "  else 실행문"
      ],
      "metadata": {
        "id": "zy_dstQFrIIa"
      },
      "execution_count": null,
      "outputs": []
    },
    {
      "cell_type": "code",
      "source": [
        "# Comprehension\n",
        "변수 = [ if-true if else else-content for i in range() ]"
      ],
      "metadata": {
        "id": "4EbzRFB2MsfU"
      },
      "execution_count": null,
      "outputs": []
    },
    {
      "cell_type": "markdown",
      "source": [
        "## Python 함수"
      ],
      "metadata": {
        "id": "rC8X4ZLfQ2qG"
      }
    },
    {
      "cell_type": "code",
      "source": [
        "# Mutable 변수(객체 생성 이후 상태가 변경될 수 있음)와 Immutable 변수(상태 변경 불가)\n",
        "# 디스크립터와 제너레이터\n",
        "# 추상화\n",
        "# 단위 테스트와 TDD\n",
        "# 디자인 패턴"
      ],
      "metadata": {
        "id": "qcwX0WHsrAvO"
      },
      "execution_count": null,
      "outputs": []
    },
    {
      "cell_type": "code",
      "source": [
        "λ(람다) 함수 # 람다는 elif 사용 불가\n",
        "정의 = ( lambda var1, var2 : var1+var2 )\n",
        "호출 = 정의( var1_parm , var2_parm )\n",
        "\n",
        "map = map(lambda x : x+1 if x/3==1 else x+2 , a ) # 리스트의 요소를 각각 처리\n",
        "filter = filter( lambda x : x if x>5 , a) # 반환값이 True인 요소만 가져옴"
      ],
      "metadata": {
        "id": "YbYkyo2Ap_nE"
      },
      "execution_count": null,
      "outputs": []
    },
    {
      "cell_type": "code",
      "source": [
        "# 함수 내 값을 밖으로 전달은 Global 변수로 가능\n",
        "\n",
        "# 함수 파라미터의 경우 ( 파라미터:str )로 파라미터의 형식을 지정가능함\n",
        "\n",
        "def fun_name('전달 파라미터 Parameter'): # 3. 기본 인수: 파라미터 기본값 설정( 파라미터, 파라미터2='aa')\n",
        "  print\n",
        "  return 반환값2"
      ],
      "metadata": {
        "id": "WekR9DCEgaOt"
      },
      "execution_count": null,
      "outputs": []
    },
    {
      "cell_type": "code",
      "source": [
        "fun_name('전달 인자 Argument') # int, str은 값 / list, dict은 참조값\n",
        "# 1. 필수 인수: 함수에서 제공한 위치와 수를 지켜야함\n",
        "# 2. 키워드 인수: 필요한 파라미터와 값을 일일히 매칭함( a='b' , c='d')"
      ],
      "metadata": {
        "id": "3l6COfo9gaS1"
      },
      "execution_count": null,
      "outputs": []
    },
    {
      "cell_type": "markdown",
      "source": [
        "## Python 클래스"
      ],
      "metadata": {
        "id": "sHlwze9GRIv5"
      }
    },
    {
      "cell_type": "code",
      "source": [
        "class class_name:\n",
        "  def __init__(self): # 클래스의 기본 실행\n",
        "    print()\n",
        "  \n",
        "  @property # 해당 메소드를 클래스 특성처럼 a.abcd() --> a.abcd로 가능\n",
        "  def abcd(self): # self로 인스턴스도 사용가능케함\n",
        "    print()\n",
        "  \n",
        "  @property_name.setter # property 실행 전 진행가능\n",
        "  def new_abcd(self, new_abcd):"
      ],
      "metadata": {
        "id": "uAnw40POTWwa"
      },
      "execution_count": null,
      "outputs": []
    },
    {
      "cell_type": "code",
      "source": [
        "a = class_name() # init은 자동실행, a는 class 내의 self에 해당함\n",
        "a.abcd() # class의 함수, 변수 실행"
      ],
      "metadata": {
        "id": "XoW5B3nZUFj8"
      },
      "execution_count": null,
      "outputs": []
    },
    {
      "cell_type": "code",
      "source": [
        "class new_class_상속(상속할_class_name):\n",
        "    def __init__(self):\n",
        "      super().__init__() # 이 부분이 없다면, 상속할 class의 init은 사용못함, 상속 구문 사용\n",
        "      print # 상속 구문에서 추가할 내용"
      ],
      "metadata": {
        "id": "iVR6mmK7U9DS"
      },
      "execution_count": null,
      "outputs": []
    },
    {
      "cell_type": "markdown",
      "source": [
        "### Python 데코레이터"
      ],
      "metadata": {
        "id": "n0UnHoJ9RMgZ"
      }
    },
    {
      "cell_type": "code",
      "source": [
        "def one_deco(func): # func은 실행할 함수\n",
        "    def same_content(*args, **wargs): # 정의된 파라미터 사용 시 인자 값 처리\n",
        "      print() # 데코레이터 모두에서 사용될 내용\n",
        "      func() # 데코레이터 내용 실행후 전달 받은 @ 함수 실행\n",
        "      return\n",
        "\n",
        "@one_deco\n",
        "def i(파라미터):\n",
        "  print()\n",
        "\n",
        "@one_deco\n",
        "def a():\n",
        "  print()\n",
        "\n",
        "@one_deco\n",
        "def o(파라미터):\n",
        "  print()"
      ],
      "metadata": {
        "id": "p7cxx8EXp-bp"
      },
      "execution_count": null,
      "outputs": []
    },
    {
      "cell_type": "markdown",
      "source": [
        "## Debugging: 버그 찾기"
      ],
      "metadata": {
        "id": "q0uHq1rLEPlF"
      }
    },
    {
      "cell_type": "code",
      "source": [
        "import pdb\n",
        "pdb.set_trace() # pdp쉘에서 pause 상태에서 값 확인, 단계 검토 등 진행\n",
        "# c로 다음 중단점으로 이동, l로 현재 진행포인트 확인, exit으로 탈출\n",
        "# s는 다음 문장으로 이동(함수 내부도 진행), n은 다음 문장으로 이동(함수 값만 받음)\n",
        "\n",
        "breakpoint() # 파이썬 3.7 이상은 비슷한 함수 지원"
      ],
      "metadata": {
        "id": "FAektYCQEUAO"
      },
      "execution_count": null,
      "outputs": []
    }
  ]
}