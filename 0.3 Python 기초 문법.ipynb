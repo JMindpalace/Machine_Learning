{
  "nbformat": 4,
  "nbformat_minor": 0,
  "metadata": {
    "colab": {
      "provenance": [],
      "authorship_tag": "ABX9TyPLPVzbJaCUkH9sxAVeWnug",
      "include_colab_link": true
    },
    "kernelspec": {
      "name": "python3",
      "display_name": "Python 3"
    },
    "language_info": {
      "name": "python"
    }
  },
  "cells": [
    {
      "cell_type": "markdown",
      "metadata": {
        "id": "view-in-github",
        "colab_type": "text"
      },
      "source": [
        "<a href=\"https://colab.research.google.com/github/JMindpalace/Machine_Learning/blob/main/0.3%20Python%20%EA%B8%B0%EC%B4%88%20%EB%AC%B8%EB%B2%95.ipynb\" target=\"_parent\"><img src=\"https://colab.research.google.com/assets/colab-badge.svg\" alt=\"Open In Colab\"/></a>"
      ]
    },
    {
      "cell_type": "markdown",
      "source": [
        "< Python 기초 문법 >"
      ],
      "metadata": {
        "id": "geY7SXdeQv73"
      }
    },
    {
      "cell_type": "markdown",
      "source": [
        "## 타입 구분"
      ],
      "metadata": {
        "id": "LklL0WYCVoYY"
      }
    },
    {
      "cell_type": "markdown",
      "source": [
        "## 반복문"
      ],
      "metadata": {
        "id": "FOmkjil9RaBT"
      }
    },
    {
      "cell_type": "markdown",
      "source": [
        "## 조건문"
      ],
      "metadata": {
        "id": "HLmxQIqbRa-4"
      }
    },
    {
      "cell_type": "code",
      "source": [
        "Pythonic"
      ],
      "metadata": {
        "id": "zy_dstQFrIIa"
      },
      "execution_count": null,
      "outputs": []
    },
    {
      "cell_type": "markdown",
      "source": [
        "## Python 함수"
      ],
      "metadata": {
        "id": "rC8X4ZLfQ2qG"
      }
    },
    {
      "cell_type": "code",
      "source": [
        "# Mutable 변수(객체 생성 이후 상태가 변경될 수 있음)와 Immutable 변수(상태 변경 불가)\n",
        "# 디스크립터와 제너레이터\n",
        "# 추상화\n",
        "# 단위 테스트와 TDD\n",
        "# 디자인 패턴"
      ],
      "metadata": {
        "id": "qcwX0WHsrAvO"
      },
      "execution_count": null,
      "outputs": []
    },
    {
      "cell_type": "code",
      "source": [
        "def fun_name('전달 파라미터 Parameter'): # 3. 기본 인수: 파라미터 기본값 설정( 파라미터, 파라미터2='aa')\n",
        "  print\n",
        "  return "
      ],
      "metadata": {
        "id": "WekR9DCEgaOt"
      },
      "execution_count": null,
      "outputs": []
    },
    {
      "cell_type": "code",
      "source": [
        "fun_name('전달 인자 Argument') # int, str은 값 / list, dict은 참조값\n",
        "# 1. 필수 인수: 함수에서 제공한 위치와 수를 지켜야함\n",
        "# 2. 키워드 인수: 필요한 파라미터와 값을 일일히 매칭함( a='b' , c='d')"
      ],
      "metadata": {
        "id": "3l6COfo9gaS1"
      },
      "execution_count": null,
      "outputs": []
    },
    {
      "cell_type": "markdown",
      "source": [
        "## Python 클래스"
      ],
      "metadata": {
        "id": "sHlwze9GRIv5"
      }
    },
    {
      "cell_type": "code",
      "source": [
        "class class_name:\n",
        "  def __init__(self): # 클래스의 기본 실행\n",
        "    print()\n",
        "  \n",
        "  @property # 해당 메소드를 클래스 특성처럼 a.abcd() --> a.abcd로 가능\n",
        "  def abcd(self): # self로 인스턴스도 사용가능케함\n",
        "    print()\n",
        "  \n",
        "  @property_name.setter # property 실행 전 진행가능\n",
        "  def new_abcd(self, new_abcd):"
      ],
      "metadata": {
        "id": "uAnw40POTWwa"
      },
      "execution_count": null,
      "outputs": []
    },
    {
      "cell_type": "code",
      "source": [
        "a = class_name() # init은 자동실행, a는 class 내의 self에 해당함\n",
        "a.abcd() # class의 함수, 변수 실행"
      ],
      "metadata": {
        "id": "XoW5B3nZUFj8"
      },
      "execution_count": null,
      "outputs": []
    },
    {
      "cell_type": "code",
      "source": [
        "class new_class_상속(상속할_class_name):\n",
        "    def __init__(self):\n",
        "      super().__init__() # 이 부분이 없다면, 상속할 class의 init은 사용못함, 상속 구문 사용\n",
        "      print # 상속 구문에서 추가할 내용"
      ],
      "metadata": {
        "id": "iVR6mmK7U9DS"
      },
      "execution_count": null,
      "outputs": []
    },
    {
      "cell_type": "markdown",
      "source": [
        "## Python 데코레이터"
      ],
      "metadata": {
        "id": "n0UnHoJ9RMgZ"
      }
    },
    {
      "cell_type": "code",
      "source": [
        "def one_deco(func): # func은 실행할 함수\n",
        "    def same_content(*args, **wargs): # 정의된 파라미터 사용 시 인자 값 처리\n",
        "      print() # 데코레이터 모두에서 사용될 내용\n",
        "      func() # 데코레이터 내용 실행후 전달 받은 @ 함수 실행\n",
        "      return\n",
        "\n",
        "@one_deco\n",
        "def i(파라미터):\n",
        "  print()\n",
        "\n",
        "@one_deco\n",
        "def a():\n",
        "  print()\n",
        "\n",
        "@one_deco\n",
        "def o(파라미터):\n",
        "  print()"
      ],
      "metadata": {
        "id": "p7cxx8EXp-bp"
      },
      "execution_count": null,
      "outputs": []
    },
    {
      "cell_type": "markdown",
      "source": [
        "## Debugging: 버그 찾기"
      ],
      "metadata": {
        "id": "q0uHq1rLEPlF"
      }
    },
    {
      "cell_type": "code",
      "source": [
        "import pdb\n",
        "pdb.set_trace() # pdp쉘에서 pause 상태에서 값 확인, 단계 검토 등 진행\n",
        "# c로 다음 중단점으로 이동, l로 현재 진행포인트 확인, exit으로 탈출\n",
        "# s는 다음 문장으로 이동(함수 내부도 진행), n은 다음 문장으로 이동(함수 값만 받음)\n",
        "\n",
        "breakpoint() # 파이썬 3.7 이상은 비슷한 함수 지원"
      ],
      "metadata": {
        "id": "FAektYCQEUAO"
      },
      "execution_count": null,
      "outputs": []
    }
  ]
}