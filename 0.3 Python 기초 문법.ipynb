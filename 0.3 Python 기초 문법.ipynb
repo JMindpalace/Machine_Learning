{
  "nbformat": 4,
  "nbformat_minor": 0,
  "metadata": {
    "colab": {
      "provenance": [],
      "authorship_tag": "ABX9TyOt00VhIbwRmTPEwLIRQQPQ",
      "include_colab_link": true
    },
    "kernelspec": {
      "name": "python3",
      "display_name": "Python 3"
    },
    "language_info": {
      "name": "python"
    }
  },
  "cells": [
    {
      "cell_type": "markdown",
      "metadata": {
        "id": "view-in-github",
        "colab_type": "text"
      },
      "source": [
        "<a href=\"https://colab.research.google.com/github/JMindpalace/Machine_Learning/blob/main/0.3%20Python%20%EA%B8%B0%EC%B4%88%20%EB%AC%B8%EB%B2%95.ipynb\" target=\"_parent\"><img src=\"https://colab.research.google.com/assets/colab-badge.svg\" alt=\"Open In Colab\"/></a>"
      ]
    },
    {
      "cell_type": "markdown",
      "source": [
        "# < Python 기초 문법 >"
      ],
      "metadata": {
        "id": "geY7SXdeQv73"
      }
    },
    {
      "cell_type": "markdown",
      "source": [
        "라이브러리/패키지 > 모듈 > 함수/클래스\n",
        "\n",
        "```\n",
        "import 다른모듈(.py)\n",
        "\n",
        "다른모듈.함수 # 참조 가능\n",
        "```\n",
        "\n"
      ],
      "metadata": {
        "id": "ruj6LfILtFoP"
      }
    },
    {
      "cell_type": "markdown",
      "source": [
        "입력과 출력, 주석\n",
        "```\n",
        "# print는 ( , 컴마로 구분 )\n",
        "print( f '출력 형식 지정할 내용 { 변수: , .3f } ' )\n",
        "```\n",
        "\n",
        "```\n",
        "# input은 정수 입력 시 int(input() )\n",
        "변수 = input( '입력받을 내용' )\n",
        "```\n",
        "\n",
        "```\n",
        "주석은 2가지\n",
        "1. # 으로 1줄 처리\n",
        "2. \"\"\" \"\"\" 으로 여러줄 처리\n",
        "```\n"
      ],
      "metadata": {
        "id": "FASqLCO41tJK"
      }
    },
    {
      "cell_type": "markdown",
      "source": [
        "복사\n",
        "\n",
        "```\n",
        "복사 변수 = 원본 변수.copy() # 원본의 주소값을 복사함 # 주소값은 id() == id()로 확인\n",
        "복사 변수 = 원본 변수.deepcopy() # 원본의 값만 복사함\n",
        "```\n",
        "\n"
      ],
      "metadata": {
        "id": "nng3qUmDnfau"
      }
    },
    {
      "cell_type": "code",
      "source": [
        "# 내장함수 확인\n",
        "dir(__builtin__)"
      ],
      "metadata": {
        "id": "rZyKnlK4V8v_"
      },
      "execution_count": null,
      "outputs": []
    },
    {
      "cell_type": "markdown",
      "source": [
        "## 타입 구분(컬렉션 자료형)"
      ],
      "metadata": {
        "id": "LklL0WYCVoYY"
      }
    },
    {
      "cell_type": "markdown",
      "source": [
        "[공식문서](https://docs.python.org/ko/3/tutorial/introduction.html#lists)"
      ],
      "metadata": {
        "id": "B8aRBE0-kVeT"
      }
    },
    {
      "cell_type": "markdown",
      "source": [
        "### 문자열( 'char' or \"str\" ), 배열(array)\n",
        "배열은 동일 자료형일때만 연산이 가능하고, 혼합 자료형일 때는 String 배열이됨"
      ],
      "metadata": {
        "id": "U71qolod0jwd"
      }
    },
    {
      "cell_type": "markdown",
      "source": [
        "파이썬은 리스트와 튜플을 통해 배열을 구현함\n",
        "\n",
        "리스트의 서로 다른 자료형과 인덱스로 구현 가능함"
      ],
      "metadata": {
        "id": "fVNrAPHrML6t"
      }
    },
    {
      "cell_type": "markdown",
      "source": [
        "### Tuple = ()\n",
        "튜플은 초기화 이후 값 변경 불가(메소드 없음)로 처리속도가 빠름"
      ],
      "metadata": {
        "id": "tv3W2Dsz0p_X"
      }
    },
    {
      "cell_type": "code",
      "source": [
        "변수, 변수, 변수, --- , 변수 = 패킹된 튜플[앞의 변수 갯수와 색인의 수는 동일해야함]"
      ],
      "metadata": {
        "id": "Q3h0yOAsfmLs"
      },
      "execution_count": null,
      "outputs": []
    },
    {
      "cell_type": "markdown",
      "source": [
        "### Set = { }\n",
        "데이터의 중복을 허용하지 않고, 순서가 없는 데이터 집합<br>\n",
        "Set의 문자열은 문자 1개씩으로 분리되어 저장됨\n",
        "\n",
        "```\n",
        "변수 = set() # 딕셔너리와 비슷한 형태로 set형은 초기화가 필요함\n",
        "\n",
        "```"
      ],
      "metadata": {
        "id": "M69ad1yP0m9G"
      }
    },
    {
      "cell_type": "code",
      "source": [
        "Set 값 확인\n",
        "  변수 이름 in Set # not in도 사용 가능\n",
        "\n",
        "Set 문자 추가\n",
        "  set_변수.add( '추가 내용' )\n",
        "  '추가내용'.join( 삽입 문자열 ) # 문자열 사이에 특정 문자 넣기\n",
        "\n",
        "Set 값 제거\n",
        "  set_변수.clear() # 초기화\n",
        "  set_변수.pop() # 값을 가져오며 제거\n",
        "  set_변수.remove(내용) # 중복이 있어도 가장 앞에 있는 1개의 내용만 제거, 없는 변수 선택 시 에러\n",
        "  set_변수.discard(내용) # 제거 중 없는 변수 에러 무시"
      ],
      "metadata": {
        "id": "BNqRbk4oeTL0"
      },
      "execution_count": null,
      "outputs": []
    },
    {
      "cell_type": "markdown",
      "source": [
        "### Dict = { 키1:값1 , 키2:값2 , --- }\n",
        "키 값이 색인의 역활을 함"
      ],
      "metadata": {
        "id": "3nT8L_Vy0re5"
      }
    },
    {
      "cell_type": "code",
      "source": [
        "딕셔녀리 값 확인 # 변수.items()\n",
        "  list(딕셔너리_변수.keys()) # 키 확인\n",
        "  list(딕셔너리_변수.values()) # 값 확인\n",
        "  키 이름 in 딕셔너리 # not in도 사용 가능\n",
        "  \n",
        "딕셔너리 값 변경: 변수[키] = 변경 내용\n",
        "\n",
        "딕셔너리 값 제거\n",
        "  딕셔너리_변수.clear() # 초기화\n",
        "  del 딕셔너리_변수[키] # 특정 값 제거\n",
        "\n",
        "딕셔너리 정렬 # 기본 오름차순, (reverse=True) 혹은 딕셔너리_변수.reverse()로 역순정렬\n",
        "  딕셔너리_변수.sorted( '복사&정렬 딕셔너리' ) # 딕셔너리.value() 로 값 정렬 가능"
      ],
      "metadata": {
        "id": "3n61QN10UlBy"
      },
      "execution_count": null,
      "outputs": []
    },
    {
      "cell_type": "markdown",
      "source": [
        "### List = []\n",
        "연속적 순서를 가진 자료형, 여러 자료형을 가질 수 있어 연산은 불가능"
      ],
      "metadata": {
        "id": "cOwFCjLH0uqQ"
      }
    },
    {
      "cell_type": "code",
      "source": [
        "리스트 접근 = 변수[리스트 색인][리스트 내의 리스트 원소 접근 시 확장 색인]\n",
        "\n",
        "리스트 합치기 = 리스트_변수1 + 리스트_변수2 # 기존 리스트의 값은 보존됨\n",
        "리스트 요소개수 = 리스트_변수.count( '찾을 요소' )\n",
        "리스트 요소검색 = 리스트_변수.index( '찾을 요소' ) # 없다면 Error 발생함\n",
        "\n",
        "리스트 값 복사\n",
        "  리스트_변수 * n # 같은 내용 반복\n",
        "  new_리스트_변수 = 리스트_변수.copy()\n",
        "\n",
        "리스트 값 추가\n",
        "  리스트_변수.append( '마지막에 추가될 내용' )\n",
        "  리스트_변수.extend( '마지막에 추가될 내용' ) # iterable(숫자) 자료형만 추가 가능\n",
        "  리스트_변수.insert( '위치' , '추가될 내용' )\n",
        "\n",
        "리스트 값 변경\n",
        "  변수[색인] = 변경 내용\n",
        "\n",
        "리스트 값 제거\n",
        "  리스트_변수.clear() # 초기화\n",
        "  del 리스트_변수[시작:끝] # 시작과 끝의 색인 미지정 시 초기화\n",
        "  리스트_변수.pop(색인) # 값을 가져오며 제거\n",
        "  리스트_변수.remove(내용) # 중복이 있어도 가장 앞에 있는 1개의 내용만 제거\n",
        "\n",
        "리스트 분리\n",
        "  리스트_변수[ <시작>:<끝> ] # 색인은 생략이 가능하며, 기존 리스트의 내용 삭제는 없고, 값만 반환함\n",
        "  리스트_변수.split('분리 기준')[분리 후 출력할 색인]\n",
        "\n",
        "리스트 정렬 # 기본 오름차순, (reverse=True) 혹은 리스트_변수.reverse()로 역순정렬\n",
        "  리스트_변수.sort() # 기존 리스트를 정렬\n",
        "  리스트_변수.sorted('복사&정렬 리스트') # 새 리스트에 복사하고 정렬함"
      ],
      "metadata": {
        "id": "yOuk2Y1sRJPF"
      },
      "execution_count": null,
      "outputs": []
    },
    {
      "cell_type": "markdown",
      "source": [
        "## 에러 제어문"
      ],
      "metadata": {
        "id": "ET3CnOjryAeY"
      }
    },
    {
      "cell_type": "code",
      "source": [
        "try:\n",
        "  print\n",
        "except:\n",
        "  print\n",
        "else:\n",
        "  print( '이 else는 except문이 실행되지 않았을 때 else문이 실행됨' )\n",
        "finally:\n",
        "  print( '오류와 무관하게 실행시킬 코드 구문' )"
      ],
      "metadata": {
        "id": "caDn9Lu7x_c-"
      },
      "execution_count": null,
      "outputs": []
    },
    {
      "cell_type": "code",
      "source": [
        "# 사용자 정의 예외 처리\n",
        "\n",
        "raise Exception( '문자열은 생략 가능' ) # 예외상황을 명시적으로 처리\n",
        "\n",
        "assert a == b"
      ],
      "metadata": {
        "id": "Ujb97nBWyydE"
      },
      "execution_count": null,
      "outputs": []
    },
    {
      "cell_type": "markdown",
      "source": [
        "## 반복문"
      ],
      "metadata": {
        "id": "FOmkjil9RaBT"
      }
    },
    {
      "cell_type": "code",
      "source": [
        "i = 0 # while문은 별도의 탈출을 지정해야함\n",
        "while (조건문) :\n",
        "  continue\n",
        "  break"
      ],
      "metadata": {
        "id": "3t0wuyxxMJ2a"
      },
      "execution_count": null,
      "outputs": []
    },
    {
      "cell_type": "code",
      "source": [
        "for for문변수 in ' [list] / range(시작, 마지막, 증가폭) / range(len()) / enumerate(값과 인덱스 반환) ':\n",
        "\n",
        "# Comprehension\n",
        "변수 = [ 반복내용 for i in range() ]\n",
        "\n",
        "for i in range() :\n",
        "  print\n",
        "  # if문을 for문 내 사용 시 else는 for과 동일 들여쓰기로 사용함\n",
        "else:\n",
        "  print( 'if문 없이 else구문 사용' )"
      ],
      "metadata": {
        "id": "iw4eB31wMJ48"
      },
      "execution_count": null,
      "outputs": []
    },
    {
      "cell_type": "markdown",
      "source": [
        "## 조건문"
      ],
      "metadata": {
        "id": "HLmxQIqbRa-4"
      }
    },
    {
      "cell_type": "code",
      "source": [
        "if (조건문) :\n",
        "  if True 실행문\n",
        "elif (조건문) :\n",
        "  elif True 실행문\n",
        "else :\n",
        "  else 실행문"
      ],
      "metadata": {
        "id": "zy_dstQFrIIa"
      },
      "execution_count": null,
      "outputs": []
    },
    {
      "cell_type": "code",
      "source": [
        "# Comprehension\n",
        "변수 = [ if-true if else else-content for i in range() ]"
      ],
      "metadata": {
        "id": "4EbzRFB2MsfU"
      },
      "execution_count": null,
      "outputs": []
    },
    {
      "cell_type": "markdown",
      "source": [
        "## Python 함수"
      ],
      "metadata": {
        "id": "rC8X4ZLfQ2qG"
      }
    },
    {
      "cell_type": "code",
      "source": [
        "# Mutable 변수(객체 생성 이후 상태가 변경될 수 있음)와 Immutable 변수(상태 변경 불가)\n",
        "# 디스크립터와 제너레이터\n",
        "# 추상화\n",
        "# 단위 테스트와 TDD\n",
        "# 디자인 패턴"
      ],
      "metadata": {
        "id": "qcwX0WHsrAvO"
      },
      "execution_count": null,
      "outputs": []
    },
    {
      "cell_type": "code",
      "source": [
        "λ(람다) 함수 # 람다는 elif 사용 불가\n",
        "정의 = ( lambda var1, var2 : var1+var2 )\n",
        "호출 = 정의( var1_parm , var2_parm )\n",
        "\n",
        "map = map(lambda x : x+1 if x/3==1 else x+2 , a ) # 리스트의 요소를 각각 처리\n",
        "filter = filter( lambda x : x if x>5 , a) # 반환값이 True인 요소만 가져옴"
      ],
      "metadata": {
        "id": "YbYkyo2Ap_nE"
      },
      "execution_count": null,
      "outputs": []
    },
    {
      "cell_type": "code",
      "source": [
        "# 함수 내 값을 밖으로 전달은 Global 변수로 가능\n",
        "\n",
        "# 함수 파라미터의 경우 ( 파라미터:str )로 파라미터의 형식을 지정가능함\n",
        "# 함수 파라미터는 ( 파라미터1=값, 파라미터2 )의 형식으로 디폴트 값 지정이 가능함\n",
        "\n",
        "def fun_name('전달 파라미터 Parameter'): # 3. 기본 인수: 파라미터 기본값 설정( 파라미터, 파라미터2='aa')\n",
        "  print\n",
        "  return 반환값2"
      ],
      "metadata": {
        "id": "WekR9DCEgaOt"
      },
      "execution_count": null,
      "outputs": []
    },
    {
      "cell_type": "code",
      "source": [
        "fun_name('전달 인자 Argument') # int, str은 값 / list, dict은 참조값\n",
        "# fun_name( 전달 파라미터1 = 값 , 전달 파라미터2 )의 형식으로 이름과 값을 같이 전달 가능함\n",
        "# 1. 필수 인수: 함수에서 제공한 위치와 수를 지켜야함\n",
        "# 2. 키워드 인수: 필요한 파라미터와 값을 일일히 매칭함( a='b' , c='d')"
      ],
      "metadata": {
        "id": "3l6COfo9gaS1"
      },
      "execution_count": null,
      "outputs": []
    },
    {
      "cell_type": "markdown",
      "source": [
        "## Python 클래스"
      ],
      "metadata": {
        "id": "sHlwze9GRIv5"
      }
    },
    {
      "cell_type": "markdown",
      "source": [
        "![image.png](data:image/png;base64,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)"
      ],
      "metadata": {
        "id": "2hgWSIzJZ-Fl"
      }
    },
    {
      "cell_type": "code",
      "source": [
        "class class_name:\n",
        "  def __init__(self): # 클래스의 기본 실행\n",
        "    print()\n",
        "  \n",
        "  @property # 해당 메소드를 클래스 특성처럼 a.abcd() --> a.abcd로 가능\n",
        "  def abcd(self): # self로 인스턴스도 사용가능케함\n",
        "    print()\n",
        "  \n",
        "  @property_name.setter # property 실행 전 진행가능\n",
        "  def new_abcd(self, new_abcd):"
      ],
      "metadata": {
        "id": "uAnw40POTWwa"
      },
      "execution_count": null,
      "outputs": []
    },
    {
      "cell_type": "code",
      "source": [
        "a = class_name() # init은 자동실행, a는 class 내의 self에 해당함\n",
        "a.abcd() # class의 함수, 변수 실행"
      ],
      "metadata": {
        "id": "XoW5B3nZUFj8"
      },
      "execution_count": null,
      "outputs": []
    },
    {
      "cell_type": "code",
      "source": [
        "class new_class_상속(상속할_class_name):\n",
        "    def __init__(self):\n",
        "      super().__init__() # 이 부분이 없다면, 상속할 class의 init은 사용못함, 상속 구문 사용\n",
        "      print # 상속 구문에서 추가할 내용"
      ],
      "metadata": {
        "id": "iVR6mmK7U9DS"
      },
      "execution_count": null,
      "outputs": []
    },
    {
      "cell_type": "markdown",
      "source": [
        "### Python 데코레이터"
      ],
      "metadata": {
        "id": "n0UnHoJ9RMgZ"
      }
    },
    {
      "cell_type": "code",
      "source": [
        "def one_deco(func): # func은 실행할 함수\n",
        "    def same_content(*args, **wargs): # 정의된 파라미터 사용 시 인자 값 처리\n",
        "      print() # 데코레이터 모두에서 사용될 내용\n",
        "      func() # 데코레이터 내용 실행후 전달 받은 @ 함수 실행\n",
        "      return\n",
        "\n",
        "@one_deco\n",
        "def i(파라미터):\n",
        "  print()\n",
        "\n",
        "@one_deco\n",
        "def a():\n",
        "  print()\n",
        "\n",
        "@one_deco\n",
        "def o(파라미터):\n",
        "  print()"
      ],
      "metadata": {
        "id": "p7cxx8EXp-bp"
      },
      "execution_count": null,
      "outputs": []
    },
    {
      "cell_type": "markdown",
      "source": [
        "## Debugging: 버그 찾기"
      ],
      "metadata": {
        "id": "q0uHq1rLEPlF"
      }
    },
    {
      "cell_type": "code",
      "source": [
        "import pdb\n",
        "pdb.set_trace() # pdp쉘에서 pause 상태에서 값 확인, 단계 검토 등 진행\n",
        "# c로 다음 중단점으로 이동, l로 현재 진행포인트 확인, exit으로 탈출\n",
        "# s는 다음 문장으로 이동(함수 내부도 진행), n은 다음 문장으로 이동(함수 값만 받음)\n",
        "\n",
        "breakpoint() # 파이썬 3.7 이상은 비슷한 함수 지원"
      ],
      "metadata": {
        "id": "FAektYCQEUAO"
      },
      "execution_count": null,
      "outputs": []
    }
  ]
}