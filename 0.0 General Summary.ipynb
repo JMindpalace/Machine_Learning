{
  "nbformat": 4,
  "nbformat_minor": 0,
  "metadata": {
    "colab": {
      "provenance": [],
      "authorship_tag": "ABX9TyNBmIaLHq9Tgf14BZNiWa+l",
      "include_colab_link": true
    },
    "kernelspec": {
      "name": "python3",
      "display_name": "Python 3"
    },
    "language_info": {
      "name": "python"
    }
  },
  "cells": [
    {
      "cell_type": "markdown",
      "metadata": {
        "id": "view-in-github",
        "colab_type": "text"
      },
      "source": [
        "<a href=\"https://colab.research.google.com/github/JMindpalace/Machine_Learning/blob/main/0.0%20General%20Summary.ipynb\" target=\"_parent\"><img src=\"https://colab.research.google.com/assets/colab-badge.svg\" alt=\"Open In Colab\"/></a>"
      ]
    },
    {
      "cell_type": "markdown",
      "source": [
        "< 해당 페이지의 목표는 **데이터셋을 입력하면,** 필요한 부분만 가동을하여 **빠른 모델링**까지를 목표로 하는 페이지입니다. >"
      ],
      "metadata": {
        "id": "JM11esXYL2Y4"
      }
    },
    {
      "cell_type": "markdown",
      "source": [
        "# Data Load"
      ],
      "metadata": {
        "id": "NTzd-h4-NGGK"
      }
    },
    {
      "cell_type": "code",
      "source": [
        "import pandas as pd"
      ],
      "metadata": {
        "id": "AoU-UqzTV8Z9"
      },
      "execution_count": 3,
      "outputs": []
    },
    {
      "cell_type": "code",
      "source": [
        "file_name = ''"
      ],
      "metadata": {
        "id": "XnmVgfLx2xbd"
      },
      "execution_count": 11,
      "outputs": []
    },
    {
      "cell_type": "code",
      "source": [
        "file_name += '.csv' # cvs file\n",
        "df = pd.read_csv(file_name)"
      ],
      "metadata": {
        "id": "-YYaNcxj3XvO"
      },
      "execution_count": 12,
      "outputs": []
    },
    {
      "cell_type": "code",
      "source": [
        "file_name += '.xlsx' # excel file\n",
        "df = pd.read_excel(file_name)"
      ],
      "metadata": {
        "id": "oBYJ99V53avZ"
      },
      "execution_count": null,
      "outputs": []
    },
    {
      "cell_type": "code",
      "source": [
        "# df = df.T\n",
        "# df.columns = df.iloc[0 , :]; df = df[1:] # df[df.columns[1:]]\n",
        "\n",
        "print( df.shape ,'\\n')  # df.columns, df[col_name].value_counts()\n",
        "print( df.info() ,'\\n') # df.dtype, df.select_dtype('int').head(5)\n",
        "print( df.describe() ,'\\n')\n",
        "\n",
        "df.head(5)"
      ],
      "metadata": {
        "id": "szR0BpKCL2lE"
      },
      "execution_count": null,
      "outputs": []
    },
    {
      "cell_type": "markdown",
      "source": [
        "\n",
        "\n",
        "---\n",
        "\n",
        "\n",
        "\n",
        "---\n",
        "\n"
      ],
      "metadata": {
        "id": "Il-5HxG_NDGz"
      }
    },
    {
      "cell_type": "markdown",
      "source": [
        "# Feature Explain\n",
        "\n",
        "> columns 혹은 head 등으로 열 값을 획득했다면, <br>\n",
        "> df.dtypes등과 함께 Feature가 의미하는바와 설명을 첨부해야합니다."
      ],
      "metadata": {
        "id": "ym12vSqgNDuH"
      }
    },
    {
      "cell_type": "markdown",
      "source": [
        "ex.)\n",
        "- Age(int) - 나이(세)\n",
        "- sex(object) - 성별\n",
        "- height(float) - 키(cm)"
      ],
      "metadata": {
        "id": "WAWJXRhqNmhW"
      }
    },
    {
      "cell_type": "markdown",
      "source": [
        "\n",
        "\n",
        "---\n",
        "\n",
        "\n",
        "\n",
        "---\n",
        "\n"
      ],
      "metadata": {
        "id": "C3Eif5JLNlK-"
      }
    },
    {
      "cell_type": "markdown",
      "source": [],
      "metadata": {
        "id": "GMFIX0sCN95r"
      }
    }
  ]
}