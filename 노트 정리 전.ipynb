{
  "nbformat": 4,
  "nbformat_minor": 0,
  "metadata": {
    "colab": {
      "provenance": [],
      "authorship_tag": "ABX9TyMkvMGCIe0F6XoZZVmFg0KT",
      "include_colab_link": true
    },
    "kernelspec": {
      "name": "python3",
      "display_name": "Python 3"
    },
    "language_info": {
      "name": "python"
    }
  },
  "cells": [
    {
      "cell_type": "markdown",
      "metadata": {
        "id": "view-in-github",
        "colab_type": "text"
      },
      "source": [
        "<a href=\"https://colab.research.google.com/github/JMindpalace/Machine_Learning/blob/main/%EB%85%B8%ED%8A%B8%20%EC%A0%95%EB%A6%AC%20%EC%A0%84.ipynb\" target=\"_parent\"><img src=\"https://colab.research.google.com/assets/colab-badge.svg\" alt=\"Open In Colab\"/></a>"
      ]
    },
    {
      "cell_type": "markdown",
      "source": [
        "3회 학습\n",
        "\n",
        "1. 개인적인 공부\n",
        "2. 영상강의\n",
        "3. 11시 30분 공부\n",
        "\n",
        "처음 보는 함수\n",
        "1. 검색 : 한국어로 된 내용으로 해석을 중점 위주\n",
        "2. 참고할 공식 문서들에서 파라미터 확인\n",
        "(활용 파라미터의 증가는 코드의 단순화가 가능함)\n",
        "\n",
        "\n",
        "1일 즐겨찾기\n",
        "- 출결사이트\n",
        "- 질문\n",
        "- 깃헙\n",
        "- 토론 사이트\n",
        "- 결석 처리 등\n",
        "\n",
        "\n",
        "Daily chelenge\n",
        "\n",
        "1. 유튜브 영상\n",
        "2. 깃헙 q&a\n",
        "\n",
        "\n",
        "코딩 연습할 수 있는 사이트는 백준/프로그래머스/LeetCode 등이 있고, if문을 처음 접한다면 디스코드에서 추천드렸던 점프투파이썬의 if문 페이지도 참고해 보세요. https://wikidocs.net/20"
      ],
      "metadata": {
        "id": "ptIDpE5b4y6K"
      }
    },
    {
      "cell_type": "markdown",
      "source": [
        "0. 결측치채우기 \n",
        "\n",
        "1. 중요 특성 그래프 렉쳐노트를 보고\n",
        "    중요 특성 10개만 선택\n",
        "\n",
        "2. 하이퍼-파라미터 시행\n",
        "\n",
        "파라미터: 모델이 찾아주는 옵션\n",
        "하이퍼-파라미터: 사람이 찾아내는 옵션\n",
        "\n",
        "최적화: 비용함수 최소화(학습 데이터)\n",
        "일반화: 예측성(테스트 데이터)\n",
        "\n",
        "verbose = n # 실행과정의 디테일함\n",
        "\n",
        "f1은 결과 값에 대한 평가 # 평가 구분\n",
        "roc/auc 평가는 모델 예측에 대한 평가\n",
        "\n",
        "predict_proba의 경우\n",
        "0에 속할 확률, 1에 속할 확률로 2개의 확률 반환"
      ],
      "metadata": {
        "id": "3pav_GCq4pQW"
      }
    },
    {
      "cell_type": "markdown",
      "source": [
        "class_weight를 진행 후 sampling 시도\n",
        "\n",
        "left squede: 사람의 나이 -> 지수를 진행 후 \n",
        "reight-skewed를 진행(선형모델만전처리)\n",
        "\n",
        "PDP의 상관관계가 높은 피쳐는\n",
        "2개라면 heat-map\n",
        "3개 이상이라면 전처리 or heat-map&ice도 추가\n",
        "(혹은 해석의 중점을 추가하기, 단순 drop은 어려움)\n",
        "\n",
        "피쳐-엔지니어링 일반적 방법\n",
        "날짜 - 연/월로 변경 등\n",
        "도메인 지식의 차\n",
        "기준 - 차이로 일괄 정리\n",
        "\n",
        "협업 필터링"
      ],
      "metadata": {
        "id": "0gwHjwGc4r1n"
      }
    },
    {
      "cell_type": "markdown",
      "source": [
        "잔차(residual)와 편향(bias)의 차이점\n",
        "선형회귀모델 > 잔차: 실제값 - 모델의 예측값\n",
        "  과(소)적합    > 편향: 모델의 예측값과 실제 값의 차이\n",
        "두 단어가 의미하는바는 다르지만\n",
        "수식으로는 'y-y^'인데 차이점이 있는가?\n",
        "\n",
        "잔차는 단일 차이의 개념\n",
        "=>? RSS로 ∑ 하는 이유가 그것\n",
        "\n",
        "편향은 범위 차이의 개념\n",
        "\n",
        "\n",
        "Q.  파이프라인의 FIT은 transform의 역활을 하는가\n",
        "pipe_dt.fit(X_train, y_train) 인데\n",
        "늘린 방식에는 transform이 있음\n",
        "fit_transform이 없는 변환에서 에러남"
      ],
      "metadata": {
        "id": "LkoQvTGj42Et"
      }
    },
    {
      "cell_type": "markdown",
      "source": [
        "과소적합 해결법\n",
        "\n",
        "3wayholdout의 과적합\n",
        "train에서 이상치 학습\n",
        "검증에서 이상치가 없음\n",
        "=> 과적합이 해결되는가\n",
        "\n",
        "파이썬 특강\n",
        "\n",
        "ols.fit 데이터프레임 x, 리스트 y\n",
        "파이썬 outlier iqr\n",
        "\n",
        "\n",
        "파이프라인과 함수의 차이\n",
        "변수 정의 여부\n",
        "\n",
        "카디널리티 - 많은 범주를 가진 카테고리 특성\n",
        "\n",
        "랜덤포레스트 - 부스트트래핑 시\n",
        "중복 선택은 분기가 어떻게 되나\n",
        "1. 생략(중복 합산)\n",
        "2. 하위에 새로 만들어짐\n",
        "\n",
        "roc-auc는\n",
        "불균형 문제를 무시하고\n",
        "0(false)을 맞추어서 점수를 높일수있다\n",
        "fpr = fp / n(negative가 높은데, fp는 천천히 변함)\n",
        "tpr = tp / t(true가 작은데, tp는 조금만 맞춰도 값이 크게 변함)\n",
        "fpr, tpr의 문제가 합쳐져서 높은 점수를 줄 수 있음\n",
        "\n",
        "파이프라인에 오버/언더 샘플링을 할 시\n",
        "검증셋을 분리하면\n",
        "1 2 3 4 5 -> 2번을 파이프라인 진행 시\n",
        "검증셋은 2번에 대한 predict를 시행함\n",
        "SMOTE 함수는 train set에만 작동"
      ],
      "metadata": {
        "id": "vB6dVb1n44aP"
      }
    }
  ]
}