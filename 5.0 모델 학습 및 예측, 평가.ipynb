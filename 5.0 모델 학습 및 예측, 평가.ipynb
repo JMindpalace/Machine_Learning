{
  "nbformat": 4,
  "nbformat_minor": 0,
  "metadata": {
    "colab": {
      "provenance": [],
      "authorship_tag": "ABX9TyMcl8L9MYS2fa+yL7as8kcp",
      "include_colab_link": true
    },
    "kernelspec": {
      "name": "python3",
      "display_name": "Python 3"
    },
    "language_info": {
      "name": "python"
    }
  },
  "cells": [
    {
      "cell_type": "markdown",
      "metadata": {
        "id": "view-in-github",
        "colab_type": "text"
      },
      "source": [
        "<a href=\"https://colab.research.google.com/github/JMindpalace/Machine_Learning/blob/main/5.0%20%EB%AA%A8%EB%8D%B8%20%ED%95%99%EC%8A%B5%20%EB%B0%8F%20%EC%98%88%EC%B8%A1%2C%20%ED%8F%89%EA%B0%80.ipynb\" target=\"_parent\"><img src=\"https://colab.research.google.com/assets/colab-badge.svg\" alt=\"Open In Colab\"/></a>"
      ]
    },
    {
      "cell_type": "markdown",
      "source": [
        "< 해당 페이지는 **머신러닝 - 모델의 설명과 학습, 예측과 평가**를 중점으로 다룬 페이지입니다.>\n",
        "\n",
        "> 크게 지도, 비지도, 강화 학습으로 분류되었으며<br>\n",
        "> 지도학습은 회귀와 분류로 중분류가 되어있고<br>\n",
        "\n",
        "> 주로 사용되는 모듈은 Sk-learn(머신러닝)과 keras(딥러닝)입니다.<br>\n",
        "> 딥러닝에는 tensorflow, pytorch도 가능합니다."
      ],
      "metadata": {
        "id": "2xZqK6C_on-B"
      }
    },
    {
      "cell_type": "markdown",
      "source": [
        "# 모델 구분"
      ],
      "metadata": {
        "id": "28s8NKzLpb1F"
      }
    },
    {
      "cell_type": "code",
      "source": [
        "import"
      ],
      "metadata": {
        "id": "LU8IzEl6s07Z"
      },
      "execution_count": null,
      "outputs": []
    },
    {
      "cell_type": "markdown",
      "source": [
        "## 지도-학습"
      ],
      "metadata": {
        "id": "BE3xv_Bcpenk"
      }
    },
    {
      "cell_type": "markdown",
      "source": [
        "### 회귀"
      ],
      "metadata": {
        "id": "CnrDjpvTwemv"
      }
    },
    {
      "cell_type": "markdown",
      "source": [
        "### 분류"
      ],
      "metadata": {
        "id": "uFVSTBbRwfmL"
      }
    },
    {
      "cell_type": "markdown",
      "source": [
        "#### 결정트리(Tree Based Model)"
      ],
      "metadata": {
        "id": "5pcVsHrKwre3"
      }
    },
    {
      "cell_type": "code",
      "source": [],
      "metadata": {
        "id": "Zc6J9ZdkwnlZ"
      },
      "execution_count": null,
      "outputs": []
    },
    {
      "cell_type": "markdown",
      "source": [
        "\n",
        "\n",
        "---\n",
        "\n",
        "\n",
        "\n",
        "---\n",
        "\n"
      ],
      "metadata": {
        "id": "6fFkKfybpkFn"
      }
    },
    {
      "cell_type": "markdown",
      "source": [
        "## 비지도-학습"
      ],
      "metadata": {
        "id": "kmPY9KyppgHd"
      }
    },
    {
      "cell_type": "markdown",
      "source": [
        "\n",
        "\n",
        "---\n",
        "\n",
        "\n",
        "\n",
        "---\n",
        "\n"
      ],
      "metadata": {
        "id": "bUxF_9JhplDG"
      }
    },
    {
      "cell_type": "markdown",
      "source": [
        "## 강화-학습"
      ],
      "metadata": {
        "id": "0umkmRhVpib2"
      }
    }
  ]
}