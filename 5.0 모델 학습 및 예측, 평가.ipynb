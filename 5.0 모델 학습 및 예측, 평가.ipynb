{
  "nbformat": 4,
  "nbformat_minor": 0,
  "metadata": {
    "colab": {
      "provenance": [],
      "authorship_tag": "ABX9TyOnMjbPE4NJyVO/rWd2FJ2M",
      "include_colab_link": true
    },
    "kernelspec": {
      "name": "python3",
      "display_name": "Python 3"
    },
    "language_info": {
      "name": "python"
    }
  },
  "cells": [
    {
      "cell_type": "markdown",
      "metadata": {
        "id": "view-in-github",
        "colab_type": "text"
      },
      "source": [
        "<a href=\"https://colab.research.google.com/github/JMindpalace/Machine_Learning/blob/main/5.0%20%EB%AA%A8%EB%8D%B8%20%ED%95%99%EC%8A%B5%20%EB%B0%8F%20%EC%98%88%EC%B8%A1%2C%20%ED%8F%89%EA%B0%80.ipynb\" target=\"_parent\"><img src=\"https://colab.research.google.com/assets/colab-badge.svg\" alt=\"Open In Colab\"/></a>"
      ]
    },
    {
      "cell_type": "markdown",
      "source": [
        "< 해당 페이지는 **머신러닝 - 모델의 설명과 학습, 예측과 평가**를 중점으로 다룬 페이지입니다.>\n",
        "\n",
        "> 크게 지도, 비지도, 강화 학습으로 분류되었으며<br>\n",
        "> 지도학습은 회귀와 분류로 중분류가 되어있고<br>\n",
        "\n",
        "> 주로 사용되는 모듈은 Sk-learn(머신러닝)과 keras(딥러닝)입니다.<br>\n",
        "> 딥러닝에는 tensorflow, pytorch도 가능합니다.\n",
        "\n",
        "> 기대 결과값: 일반화(Generalization, 테스트에 잘 적응하는 능력)가 잘되는 모델 선택<br>\n",
        "> 또한 모델의 과정을 이해하여 Black-box 문제도 해결"
      ],
      "metadata": {
        "id": "2xZqK6C_on-B"
      }
    },
    {
      "cell_type": "markdown",
      "source": [
        "# Machine Learing(ML)"
      ],
      "metadata": {
        "id": "oKVEyL6KktN1"
      }
    },
    {
      "cell_type": "markdown",
      "source": [
        "## ML 방향성\n",
        "> 데이터로부터 유용한 예측을 하는 모델(특성과 타겟의 수학적 관계)의 학습 과정<br>\n",
        "> 기존 데이터 패턴(규칙)을 학습 후 새로운 데이터로 예측"
      ],
      "metadata": {
        "id": "UAycJLvMkxY8"
      }
    },
    {
      "cell_type": "markdown",
      "source": [
        "ML의 연습 프로세스\n",
        "1. 문제에 적합한 모델 선택 후 속성이나 하이퍼파라미터 확인\n",
        "2. 데이터를 fit()으로 모델 학습\n",
        "3. predict()로 새로운 데이터 예측\n",
        "\n",
        "> https://jakevdp.github.io/PythonDataScienceHandbook/05.02-introducing-scikit-learn.html#Basics-of-the-API"
      ],
      "metadata": {
        "id": "EIibsU-cJGu2"
      }
    },
    {
      "cell_type": "markdown",
      "source": [
        "# 모델 구분 및 주의사항, 파이프라인"
      ],
      "metadata": {
        "id": "28s8NKzLpb1F"
      }
    },
    {
      "cell_type": "code",
      "source": [
        "from sklearn.linear_model import LinearRegression # 선형회귀모델\n",
        "from sklearn.preprocessing import PolynomialFeatures # 선형회귀 - 다항선형모델\n",
        "from sklearn.metrics import mean_squared_error, mean_absolute_error, r2_score # 모델 성능 평가"
      ],
      "metadata": {
        "id": "LU8IzEl6s07Z"
      },
      "execution_count": null,
      "outputs": []
    },
    {
      "cell_type": "code",
      "source": [
        "Train.fit_transform # 데이터 학습 - 훈련, 검증(Val) 데이터는 fit와 transform까지 가능함\n",
        "Test.transform      # 데이터 변환 - 테스트 데이터의 경우 무조건 transform만 시행함\n",
        "\n",
        "fit Attributes( 끝에 _가 붙은 메소드)"
      ],
      "metadata": {
        "id": "m6xpB9wx8uh2"
      },
      "execution_count": null,
      "outputs": []
    },
    {
      "cell_type": "code",
      "source": [
        "# Pipeline(파이프라인) - 모델 계산을 위해 여러 번의 fit을 파이프라인으로 압축함\n",
        "make_pipeline(PolynomialFeatures(degree),\n",
        "              StandardScaler(),\n",
        "              LinearRegression(**kwargs))\n",
        "pipe = make_pipeline()\n",
        "pipe.fit(x,y)\n",
        "\n",
        "pipe.named_steps['linearregression'].coef_"
      ],
      "metadata": {
        "id": "MTvrI6stAdT1"
      },
      "execution_count": null,
      "outputs": []
    },
    {
      "cell_type": "markdown",
      "source": [
        "## 지도(Supervised)-학습: 답(Target)이 있는 데이터로 모델을 훈련하여 규칙 도출\n",
        "> Column 구분: 모델 학습은 Feature, label은 Target"
      ],
      "metadata": {
        "id": "BE3xv_Bcpenk"
      }
    },
    {
      "cell_type": "markdown",
      "source": [
        "### 회귀(Regression)모델: 연속적인 타겟(트렌드, 경향 등) 예측\n",
        "> 특성(X, 독립변수)과 타겟(Y, 종속변수)의 선형적 관계(회귀계수로 표현, X에 따른 Y의 변화)<BR>\n",
        "\n",
        "EX.) 예측\n",
        "1. 수명(Estimating Life Expectancy)\n",
        "2. 인구(Population Growth Prediction)\n",
        "3. 시장(Market Forecasting)\n",
        "4. 광고 인기(Advertising Popularity Prediction)\n",
        "5. 일기 예보(Weather Forecasting)"
      ],
      "metadata": {
        "id": "CnrDjpvTwemv"
      }
    },
    {
      "cell_type": "code",
      "source": [
        "X, y = df.columns.drop('target'), df['target_data'] # int형"
      ],
      "metadata": {
        "id": "7S27yu5qMlhd"
      },
      "execution_count": null,
      "outputs": []
    },
    {
      "cell_type": "code",
      "source": [
        "# 0. 기준 모델 - 예측 모델을 판단(하한선)기준 (시계열회귀 이전 타임스탬프의 값)\n",
        "predict = y_train[target].mean() # 회귀는 평균값 - 예측모델과 보간/외삽 비교에 사용\n",
        "base = predict * len(y_train)    # 기준모델 - 모델 성능 평가의 기준\n",
        "# 기준모델 평가는 ( y_train, base )"
      ],
      "metadata": {
        "id": "1MY0i9OnjxaI"
      },
      "execution_count": null,
      "outputs": []
    },
    {
      "cell_type": "markdown",
      "source": [
        "최고의 회귀 예측모델 = 실제값(y) - 예측값(αx+β) = 잔차(Residual)가 0<br>\n",
        "(오차(Error)는 모집단의 실제값과 예측값의 차이)\n",
        "\n",
        "최적의 회귀 예측모델 = OLS(Ordinary Least Square)<br>\n",
        "RSS(R sum of Squares, 잔차 제곱들의 합, 비용함수)이 최소가 되는 α, β를 가진 직선"
      ],
      "metadata": {
        "id": "a_-UK_ecELJe"
      }
    },
    {
      "cell_type": "markdown",
      "source": [
        "![image.png](data:image/png;base64,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)"
      ],
      "metadata": {
        "id": "pviVnwSdFZin"
      }
    },
    {
      "cell_type": "code",
      "source": [
        "# 회귀선\n",
        "sns.regplot( x = df[feature] , y = df[target] )"
      ],
      "metadata": {
        "id": "9ZpVsC3YHhy2"
      },
      "execution_count": null,
      "outputs": []
    },
    {
      "cell_type": "markdown",
      "source": [
        "지난 데이터 분석에서 분리한 특성과 타겟 데이터를 사용함\n",
        "1. 특성 행렬: 2차원 = [ n_samples, n_features ] (Numpy 행렬, Pandas 데이터프레임)\n",
        "   > X = df[feature]\n",
        "2. 타겟 행렬: 1차원 = n_target (Numpy 배열, Pandas 시리즈)\n",
        "   > y = df[target]"
      ],
      "metadata": {
        "id": "YteRehloITqY"
      }
    },
    {
      "cell_type": "code",
      "source": [
        "from sklearn.linear_model import LinearRegression\n",
        "# 1. 예측 모델\n",
        "# 단순 선형(Simple Linear Regression, y = ax+b ): X값은 df['1_feature']\n",
        "simple_ols = LinearRegression()\n",
        "simple_ols.fit(X,y)\n",
        "\n",
        "# 다중 선형(Multiple, y = a1x1 + a2x2 + b): X값은 2개 이상 - df[ '1_feature' , '2_feature' ]\n",
        "multiple_ols = LinearRegression()\n",
        "multiple_ols.fit(X, y)\n",
        "\n",
        "\n",
        "# 다항 선형 회귀(Polynomial, a1x1 + a2x1**2 + b): 2차항(degree로 최고차항 조정) 이상의 식\n",
        "from sklearn.preprocessing import PolynomialFeatures # 독립&타겟 변수 사이에 비선형 관계 학습 가능\n",
        "from sklearn.pipeline import make_pipeline\n",
        "\n",
        "def PolynomialRegression(degree=2, **kwargs):\n",
        "    return make_pipeline(PolynomialFeatures(degree), LinearRegression(**kwargs))\n",
        "\n",
        "poly_ols = PolynomialRegression(degree=2)\n",
        "poly_ols.fit(X, y)"
      ],
      "metadata": {
        "id": "SyDeIaf_j8cX"
      },
      "execution_count": null,
      "outputs": []
    },
    {
      "cell_type": "code",
      "source": [
        "# 2. 예측 모델의 예측값: 보간(Interploate, 학습구간 내) 과 외삽(Extrapolate, 학습구간 외)\n",
        "# 여기서 계산된 예측값을 모델 성능 평가에 y_pred로 넘겨 점수를 반환 받는다\n",
        "simp_predict = simple_ols.predict([[예측값]])[0]               # 단순 scatter - x=예측값, y=simp_predict\n",
        "mult_predict = multiple_ols.predict([[ 예측값x, 예측값y ]])[0] # 다중 선형 - 예측값을 변수로는 df[feature]\n",
        "poly_predict = poly_ols.predict([[ 예측값x, 예측값y ]])[0]     # 다항 선형"
      ],
      "metadata": {
        "id": "82l-0qKQkBdq"
      },
      "execution_count": null,
      "outputs": []
    },
    {
      "cell_type": "code",
      "source": [
        "# 3. 회귀 모델 성능 평가 지표\n",
        "from sklearn.metrics import mean_squared_error, mean_absolute_error, r2_score\n",
        "def eval_models( y_pred, y_real = y ) : \n",
        "  mse = mean_squared_error( 모델의 예측값 , y ) # MSE(Mean Squared Error): (실제값-예측값)제곱오차의 평균\n",
        "  np.sqrt(mse)                                  # RMSE(Root MSE)\n",
        "  mean_absolute_error( 모델의 예측값 , y )      # MAE(Mean Absolute Error): |실제값-예측값|절대오차의 평균\n",
        "  r2_score( 모델의 예측값 , y )                 # R-Squared(Coefficient of determination): 1일수록 높은 설명력\n",
        "\n",
        "RMSLE(Root Mean Squared Log Error)\n",
        "\n",
        "# 빠른 R2 점수 출력\n",
        "from sklearn.model_selection import cross_val_score\n",
        "print_score(model, X_fit&transform_train, y_train, x_fit_test, y_test )"
      ],
      "metadata": {
        "id": "dr402s9TkNj1"
      },
      "execution_count": null,
      "outputs": []
    },
    {
      "cell_type": "code",
      "source": [
        "# 4. 모델 해석(추론) - coef(상관계수, 상관계수 1증가마다 타겟의 증가량)와 intercept(절편- 해석 없음)\n",
        "# 선형모델 반환값 - https://scikit-learn.org/stable/modules/generated/sklearn.linear_model.LinearRegression.html\n",
        "simple_ols.coef_   / simple_ols.intercept_   # coef 출력 순서는 입력한 Feature의 순서에 따라 반환됨\n",
        "multiple_ols.coef_ / multiple_ols.intercept_\n",
        "poly_ols.coef_     / poly_ols.intercept_"
      ],
      "metadata": {
        "id": "87i9rNGIkQ5z"
      },
      "execution_count": null,
      "outputs": []
    },
    {
      "cell_type": "markdown",
      "source": [
        "\n",
        "\n",
        "---\n",
        "\n",
        "\n",
        "\n",
        "---\n",
        "\n"
      ],
      "metadata": {
        "id": "2e_cGhKallYK"
      }
    },
    {
      "cell_type": "markdown",
      "source": [
        "### 분류(Classification)모델: 카테고리/클래스 예측\n",
        "> 이진(Binary) / 다중(Multi-class) 분류 등 특정 범주에 속할 확률 예측<BR>\n",
        "\n",
        "EX.)\n",
        "1. 고객 관리(Customer Retention)\n",
        "2. 진단(Diagnostics)\n",
        "3. 이미지 분류(Image Classification)\n",
        "4. 사기 탐지(Identity Fraud Detection)"
      ],
      "metadata": {
        "id": "uFVSTBbRwfmL"
      }
    },
    {
      "cell_type": "code",
      "source": [
        "# 필수: 분류문제는 타겟의 범주 비율을 우선 확인\n",
        "y = df['target']; y.value_counts(normalize=True);\n",
        "%matplotlib inline; sns.countplot(x=y);"
      ],
      "metadata": {
        "id": "PL-xUiyq7JcI"
      },
      "execution_count": null,
      "outputs": []
    },
    {
      "cell_type": "markdown",
      "source": [
        "#### 로지스틱회귀(Logistic Regression)\n",
        "> sklearn에서는 L2 패널티가 자동 적용되어 표준화 필수"
      ],
      "metadata": {
        "id": "e8uzKHONGzTX"
      }
    },
    {
      "cell_type": "code",
      "source": [
        "# 0. 기준모델 - 분류는 타겟의 최빈 클래스\n",
        "base = y_train.mode()[0]\n",
        "base_pred = [base] * len(y_train)"
      ],
      "metadata": {
        "id": "TPM5HD4J-sfg"
      },
      "execution_count": null,
      "outputs": []
    },
    {
      "cell_type": "code",
      "source": [
        "# 1. 예측모델 - 로지스틱회귀sigmoid+선형회귀): 0~1사이의 값\n",
        "from sklearn.linear_model import LogisticRegression\n",
        "\n",
        "lr = LogisticRegression(class_weight='balanced') ) # 파라미터는 클래스별 가중치 적용\n",
        "lr.fit(X, y)\n",
        "\n",
        "lr.coef_ # 로지스틱 회귀계수 - 양수일수록 1, 음수일수록 0일 확률이 각각 높아짐, 영향력은 절댓값\n",
        "lr.feature_names_in_"
      ],
      "metadata": {
        "id": "gK73zNef-ysk"
      },
      "execution_count": null,
      "outputs": []
    },
    {
      "cell_type": "code",
      "source": [
        "# 2. 예측 모델의 예측값\n",
        "pred = lr.predict( X )\n",
        "pred = lr.predict_proba( x )[:,1]"
      ],
      "metadata": {
        "id": "yScfygw2-175"
      },
      "execution_count": null,
      "outputs": []
    },
    {
      "cell_type": "code",
      "source": [
        "# 3. 모델 성능 평가 - 레이블을 올바르게 학습했는지 정밀도로 검증\n",
        "# 정확도(Accuracy) = 올바른 예측/전체 예측\n",
        "from sklearn.metrics import accuracy_score\n",
        "accuracy_score( y_train, predict )\n",
        "\n",
        "# 정밀도(Precision) = 올바른 Positive 예측 / 예측 Positive(T+F) - 재현율과 반비례 관계\n",
        "# 재현율(Recall) = 올바른 Positive 예측 / 실제 Positive\n",
        "# F1 score = (2*정밀도) / (정밀도+재현율)\n",
        "\n",
        "# Confusion Matrix(혼동&오차행렬): 예측값과 실제 결과를 표시한 테이블\n"
      ],
      "metadata": {
        "id": "HHZxmmSg-4o6"
      },
      "execution_count": null,
      "outputs": []
    },
    {
      "cell_type": "code",
      "source": [
        "# 4. 예측(모델이 예측하는 확률)값을 평가하는 지표\n",
        "# ROC(Receiver Operating Characteristic): 임계값의 TPR, FPR의 비율\n",
        "# TPR = TP/P = TP/TP+FN = 1-FNR , 임계값이 1이면 TPR&FPR 모두 0\n",
        "# FPR = FP/N = FP/FP+TN = 1-TNR , 임계값이 0이면 TPR&FPR 모두 1\n",
        "\n",
        "# AUC(Area Under the Curve): ROC 곡선 아래면적, 1일수록 좋은 모델"
      ],
      "metadata": {
        "id": "z94HBFQ9CHPG"
      },
      "execution_count": null,
      "outputs": []
    },
    {
      "cell_type": "markdown",
      "source": [
        "### 회귀&분류 공통 모델\n",
        "> 결정트리(Tree Based Model)<br>\n",
        "> 타겟: (분류는 최빈값, 회귀는 평균)의 예측값"
      ],
      "metadata": {
        "id": "5pcVsHrKwre3"
      }
    },
    {
      "cell_type": "code",
      "source": [
        "# 결정트리(Decision Tree): 비용함수(분류는 불순도 / 회귀는 MSE)에 따라 분기\n",
        "\n",
        "# Imformation Gain(엔트로피)\n",
        "\n",
        "# Gini Impurity(지니불순도)\n",
        "\n",
        "# 모델 해석은 시각화와 특성중요도"
      ],
      "metadata": {
        "id": "Zc6J9ZdkwnlZ"
      },
      "execution_count": null,
      "outputs": []
    },
    {
      "cell_type": "code",
      "source": [
        "# 앙상블 중 Bagging: Boot-strapped(OOB, 추출안된 샘플) > 분기(일부 랜덤 특성 선택) > 앞의 2과정 반복(독립&병렬적)\n",
        "# 랜덤-포레스트(Random-Forest): 분류는 다수결, 회귀는 평균의 전체 결과를 집계(Var를 줄여 과적합 해결)"
      ],
      "metadata": {
        "id": "kcAEt8r3Hfjc"
      },
      "execution_count": null,
      "outputs": []
    },
    {
      "cell_type": "code",
      "source": [
        "# 앙상블 중 Boosting: 이전 모델의 오류를 보완하며 순차적 모델 학습(Bias를 줄여 과소적합 해결)\n",
        "# AdaBoost: 분류문제에 적합, 이상치에 민감, 샘플링 후 잘못 분류된 관측치에 가중치를 부여하여 다음 샘플링에 반영\n",
        "\n",
        "# Gradient Boosting: 회귀&분류 모두 적합, 잔차를 학습하여 잔차를 줄이는 방식"
      ],
      "metadata": {
        "id": "K5r3SCkCHlbB"
      },
      "execution_count": null,
      "outputs": []
    },
    {
      "cell_type": "markdown",
      "source": [
        "\n",
        "\n",
        "---\n",
        "\n",
        "\n",
        "\n",
        "---\n",
        "\n"
      ],
      "metadata": {
        "id": "6fFkKfybpkFn"
      }
    },
    {
      "cell_type": "markdown",
      "source": [
        "## 비지도(Un-supervised)-학습: 답이 없는 데이터로 구조나 패턴 탐색\n",
        "> 특징/패턴 도출 등(지도학습의 전처리에도 사용 가능)\n",
        "> https://en.wikipedia.org/wiki/Unsupervised_learning#:~:text=Unsupervised%20learning%20is%20a%20type,generate%20imaginative%20content%20from%20it."
      ],
      "metadata": {
        "id": "kmPY9KyppgHd"
      }
    },
    {
      "cell_type": "markdown",
      "source": [
        "### Clustering(클러스터링): 비슷한 성질의 데이터끼리 그룹화<BR>\n",
        "\n",
        "EX.) \n",
        "1. 타겟 마케팅(Target Marketing)\n",
        "2. 고객 세분화(Customer Segmentation)\n",
        "3. 추천 시스템(Recommender Systems)"
      ],
      "metadata": {
        "id": "3zvayxWd_glT"
      }
    },
    {
      "cell_type": "code",
      "source": [
        "# 중요 포인트 1. 그룹의 수"
      ],
      "metadata": {
        "id": "zw38eEpH_np9"
      },
      "execution_count": null,
      "outputs": []
    },
    {
      "cell_type": "code",
      "source": [
        "# 중요 포인트 2. 유사도의 정의"
      ],
      "metadata": {
        "id": "D1s_2WnJ_6gt"
      },
      "execution_count": null,
      "outputs": []
    },
    {
      "cell_type": "code",
      "source": [
        "# Elbow method : 최적의 클러스터 개수 찾기"
      ],
      "metadata": {
        "id": "XkdMpMJ8ACAP"
      },
      "execution_count": null,
      "outputs": []
    },
    {
      "cell_type": "markdown",
      "source": [
        "### 차원 축소(Dimensionality Reduction): 고차원 데이터셋의 차원 감소\n",
        "> 차원의 저주(The Curse of Dimensionality) 해소<br>\n",
        "> (복잡한 시각화, 시간적 비효율성, 과적합 해소)<br>\n",
        "> 단, 정보손실은 최소화하면서 중요한 변수만 선택\n",
        "\n",
        "EX.) \n",
        "1. 특징 도출(Feature Elicitation)\n",
        "2. 의미 압축(Meaningful Compression)\n",
        "3. 빅데이터 시각화(BigData Visualization)\n",
        "4. 구조 분석(Structure Discovery)\n",
        "\n"
      ],
      "metadata": {
        "id": "Rg2uR1eCm7ly"
      }
    },
    {
      "cell_type": "markdown",
      "source": [
        "#### Feature Selection\n",
        "> 덜 중요한 Feature 제거하여 선택된 소수 Feature의 직접 고려한 연관성으로 쉬운 해석"
      ],
      "metadata": {
        "id": "aFsHtiaPrRNN"
      }
    },
    {
      "cell_type": "markdown",
      "source": [
        "#### Feature Extraction\n",
        "> 기존 Feature의 상관관계를 고려하여 선형결합으로 조합, 어려운 해석"
      ],
      "metadata": {
        "id": "N0VqpvpMrSbL"
      }
    },
    {
      "cell_type": "markdown",
      "source": [
        "##### PCA: 기존 데이터를 최대한 보존(넓은 분산)하는 새로운 축(PC)에 사영(Linear Projection)하는 저차원 변환 기법\n",
        "> PC의 단위벡터는 데이터 공분산행렬의 Eigen-Vector<br>\n",
        "> Eigen-Vector에 사영한 분산이 Eigen-Value / 값은 기존 데이터 ⊥ Eigen-Vector"
      ],
      "metadata": {
        "id": "etITWUY-vMu-"
      }
    },
    {
      "cell_type": "code",
      "source": [
        "# PCA 1. 데이터 표준화(전처리 StandardScaler 참고)\n",
        "# PCA 2. 공분산행렬 구하기 - matrix = np.cov(data.T)\n",
        "# PCA 3. 공분산행렬 Eigen-Stuff 구하기 - values, vectors = np.linalg.eig( matrix )\n",
        "# PCA 4. Eigen-Vector에 사영하기\n",
        "np.matmul( matrix, vectors ) # 행 단위는 np.dot( matrix[n행] , vectors[: , n행] )\n",
        "\n",
        "# PCA로 변환된 데이터 중 원하는 차원 선택으로 차원 축소 시행"
      ],
      "metadata": {
        "id": "e5zOphi7uqQM"
      },
      "execution_count": null,
      "outputs": []
    },
    {
      "cell_type": "code",
      "source": [
        "# Sklean PCA\n",
        "from sklearn.preprocessing import StandardScaler\n",
        "from sklearn.decomposition import PCA\n",
        "\n",
        "scale = StandardScaler() # 1. 표준화\n",
        "Z = scale.fit_transform( X )\n",
        "\n",
        "pca = PCA() # 2~3. PCA\n",
        "pca.fit(Z)\n",
        "pca.components_ # Eigen-vectors\n",
        "pca.explained_variance_ # Eigen-values\n",
        "\n",
        "pca.tarnsform(Z) # 4. PCA"
      ],
      "metadata": {
        "id": "thcjUSTj1_IR"
      },
      "execution_count": null,
      "outputs": []
    },
    {
      "cell_type": "code",
      "source": [
        "# PCA Plot - Explained Variance(Eigen-Value) or Explained Variance Ratio로 주성분의 중요도 표시\n",
        "def pca_plot(pca):\n",
        "  val = pca.explained_variance_ratio_ # 분산 비율\n",
        "  num_components = len( val ) # 분산 길이\n",
        "  ind = np.arange(num_components) # [0 ~ 분산 길이] 분산 수\n",
        "\n",
        "  ax, cumvals = plt.subplot(), np.cumsum(vals) # 그래프, 누적 합\n",
        "  ax.bar(ind, val ) # X = 분산 수 , Y = 분산 비율\n",
        "  ax.plot(ind, cumvals ) # X = 분산 수 , Y = 누적 분산\n",
        "\n",
        "  for i in range(num_components):\n",
        "    ax.anootate(r\"%s\" % (( str(val[i]*100)[:3])), # 분산 값 3자리 문자열 형식\n",
        "                (ind[i] , val[i]) # 분산 위치\n",
        "                va = 'bottom', ha = 'center', fontsize = 13)\n",
        "\n",
        "pca_plot(pca)"
      ],
      "metadata": {
        "id": "oxowgmCJ20D-"
      },
      "execution_count": null,
      "outputs": []
    },
    {
      "cell_type": "markdown",
      "source": [
        "### 연관 규칙 학습(Association Rule Learning): If-Then 형식으로 찾아가는 rule-based 방식\n",
        "> 데이터셋간의 Item 간(Feature-Feature)의 관계"
      ],
      "metadata": {
        "id": "fGezHGJlqgDq"
      }
    },
    {
      "cell_type": "markdown",
      "source": [
        "\n",
        "\n",
        "---\n",
        "\n",
        "\n",
        "\n",
        "---\n",
        "\n"
      ],
      "metadata": {
        "id": "bUxF_9JhplDG"
      }
    },
    {
      "cell_type": "markdown",
      "source": [
        "## 강화(Reinforcment)-학습: 보상/패널티 중 많은 보상을 획득할 전략으로 예측<BR>\n",
        "> https://en.wikipedia.org/wiki/Reinforcement_learning\n",
        "\n",
        "EX.) \n",
        "1. 실시간 결정(RealTime Decisions)\n",
        "2. 로봇 탐색(Robot Navigation)\n",
        "3. 학습 과제(Learning Tasks)\n",
        "4. 기술 습득(Skill Acquisition)\n",
        "5. 게임 AI(Game AI)"
      ],
      "metadata": {
        "id": "0umkmRhVpib2"
      }
    },
    {
      "cell_type": "markdown",
      "source": [
        "\n",
        "\n",
        "---\n",
        "\n",
        "\n",
        "\n",
        "---\n",
        "\n"
      ],
      "metadata": {
        "id": "M_6TaLIJor54"
      }
    },
    {
      "cell_type": "markdown",
      "source": [
        "## 준지도(Semi-supervised)-학습<BR>\n",
        "\n",
        "EX.) \n",
        "1. 고객 세분화(Customer Segmentation)\n",
        "2. 타겟 마케팅(Targeted Marketing)\n",
        "3. 사이트 분류(Website Classificatioin)\n",
        "4. 얼굴 인식(Face Recognition)\n",
        "5. 음성 분석(Speech Analysis)\n"
      ],
      "metadata": {
        "id": "_4wkr8FIorSx"
      }
    },
    {
      "cell_type": "markdown",
      "source": [
        "\n",
        "\n",
        "---\n",
        "\n",
        "\n",
        "\n",
        "---\n",
        "\n"
      ],
      "metadata": {
        "id": "FtqpLVk4ptEf"
      }
    },
    {
      "cell_type": "markdown",
      "source": [
        "## 이상감지(Anomaly Detection)<BR>\n",
        "\n",
        "EX.) \n",
        "1. 사이버 침입(Cyber Intrusion)\n",
        "2. 신용카드 사기(CreditCard Fraud)"
      ],
      "metadata": {
        "id": "vI1hUBqBoyRk"
      }
    }
  ]
}