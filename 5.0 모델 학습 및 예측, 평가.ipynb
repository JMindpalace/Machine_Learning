{
  "nbformat": 4,
  "nbformat_minor": 0,
  "metadata": {
    "colab": {
      "provenance": [],
      "authorship_tag": "ABX9TyNm9c5CTvq76Jizq2rKYqdm",
      "include_colab_link": true
    },
    "kernelspec": {
      "name": "python3",
      "display_name": "Python 3"
    },
    "language_info": {
      "name": "python"
    }
  },
  "cells": [
    {
      "cell_type": "markdown",
      "metadata": {
        "id": "view-in-github",
        "colab_type": "text"
      },
      "source": [
        "<a href=\"https://colab.research.google.com/github/JMindpalace/Machine_Learning/blob/main/5.0%20%EB%AA%A8%EB%8D%B8%20%ED%95%99%EC%8A%B5%20%EB%B0%8F%20%EC%98%88%EC%B8%A1%2C%20%ED%8F%89%EA%B0%80.ipynb\" target=\"_parent\"><img src=\"https://colab.research.google.com/assets/colab-badge.svg\" alt=\"Open In Colab\"/></a>"
      ]
    },
    {
      "cell_type": "markdown",
      "source": [
        "< 해당 페이지는 **머신러닝 - 모델의 설명과 학습, 예측과 평가**를 중점으로 다룬 페이지입니다.>\n",
        "\n",
        "> 크게 지도, 비지도, 강화 학습으로 분류되었으며<br>\n",
        "> 지도학습은 회귀와 분류로 중분류가 되어있고<br>\n",
        "\n",
        "> 주로 사용되는 모듈은 Sk-learn(머신러닝)과 keras(딥러닝)입니다.<br>\n",
        "> 딥러닝에는 tensorflow, pytorch도 가능합니다.\n",
        "\n",
        "> 기대 결과값: 일반화(Generalization, 테스트에 잘 적응하는 능력)가 잘되는 모델 선택"
      ],
      "metadata": {
        "id": "2xZqK6C_on-B"
      }
    },
    {
      "cell_type": "markdown",
      "source": [
        "# 모델 구분 및 주의사항"
      ],
      "metadata": {
        "id": "28s8NKzLpb1F"
      }
    },
    {
      "cell_type": "code",
      "source": [
        "from sklearn.linear_model import LinearRegression # 선형회귀모델\n",
        "from sklearn.preprocessing import PolynomialFeatures # 선형회귀 - 다항선형모델\n",
        "from sklearn.metrics import mean_squared_error, mean_absolute_error, r2_score # 모델 성능 평가"
      ],
      "metadata": {
        "id": "LU8IzEl6s07Z"
      },
      "execution_count": null,
      "outputs": []
    },
    {
      "cell_type": "code",
      "source": [
        "Train.fit_transform # 데이터 학습 - 훈련, 검증(Val) 데이터는 fit와 transform까지 가능함\n",
        "Test.transform      # 데이터 변환 - 테스트 데이터의 경우 무조건 transform만 시행함\n",
        "\n",
        "fit Attributes( 끝에 _가 붙은 메소드)"
      ],
      "metadata": {
        "id": "m6xpB9wx8uh2"
      },
      "execution_count": null,
      "outputs": []
    },
    {
      "cell_type": "markdown",
      "source": [
        "## 지도(Supervised)-학습: 답(Target)을 아는 모델을 훈련하여 규칙 도출"
      ],
      "metadata": {
        "id": "BE3xv_Bcpenk"
      }
    },
    {
      "cell_type": "markdown",
      "source": [
        "### 회귀(Regression)모델: 계속적인 타겟(트렌드, 경향 등)"
      ],
      "metadata": {
        "id": "CnrDjpvTwemv"
      }
    },
    {
      "cell_type": "code",
      "source": [
        "X, y = df.columns.drop('target'), df['target_data'] # int형"
      ],
      "metadata": {
        "id": "7S27yu5qMlhd"
      },
      "execution_count": null,
      "outputs": []
    },
    {
      "cell_type": "code",
      "source": [
        "# 0. 기준 모델 - 예측 모델을 판단(하한선)기준\n",
        "predict = df[target].mean() # 평균값 - 예측모델과 보간/외삽 비교에 사용\n",
        "base = predict * len(df)    # 기준모델 - 모델 성능 평가의 기준"
      ],
      "metadata": {
        "id": "1MY0i9OnjxaI"
      },
      "execution_count": null,
      "outputs": []
    },
    {
      "cell_type": "code",
      "source": [
        "from sklearn.linear_model import LinearRegression\n",
        "# 1. 예측 모델 - 선형(Linear) 회귀 모델(비용함수 RSS의 잔차를 최소로하는 OLS)\n",
        "# 단순 선형: X값은 df['1_feature']\n",
        "simple_ols = LinearRegression\n",
        "simple_ols.fit(X,y)\n",
        "\n",
        "# 다중 선형: X값은 2개 이상 - df[ '1_feature' , '2_feature' ]\n",
        "multiple_ols = LinearRegression()\n",
        "multiple_ols.fit(X, y)\n",
        "\n",
        "# 다항 선형: 2차항 이상의 식\n",
        "from sklearn.preprocessing import PolynomialFeatures\n",
        "from sklearn.pipeline import make_pipeline\n",
        "\n",
        "def PolynomialRegression(degree=2, **kwargs):\n",
        "    return make_pipeline(PolynomialFeatures(degree), LinearRegression(**kwargs))\n",
        "\n",
        "poly_ols = PolynomialRegression(degree=2)\n",
        "poly_ols.fit(X, y)"
      ],
      "metadata": {
        "id": "SyDeIaf_j8cX"
      },
      "execution_count": null,
      "outputs": []
    },
    {
      "cell_type": "code",
      "source": [
        "# 2. 예측 모델의 예측값: 보간(Interploate, 학습구간 내) 과 외삽(Extrapolate, 학습구간 외)\n",
        "simp_predict = simple_ols.predict([[예측값]])[0]               # 단순 선형\n",
        "mult_predict = multiple_ols.predict([[ 예측값x, 예측값y ]])[0] # 다중 선형\n",
        "poly_predict = poly_ols.predict([[ 예측값x, 예측값y ]])[0]     # 다항 선형"
      ],
      "metadata": {
        "id": "82l-0qKQkBdq"
      },
      "execution_count": null,
      "outputs": []
    },
    {
      "cell_type": "code",
      "source": [
        "# 3. 모델 성능 평가\n",
        "from sklearn.metrics import mean_squared_error, mean_absolute_error, r2_score\n",
        "mse = mean_squared_error( 예측모델의 예측값 , y ) # MSE(Mean Squared Error): (실제값-예측값)제곱\n",
        "np.sqrt(mse)                                      # RMSE(Root MSE)\n",
        "mean_absolute_error( 예측모델의 예측값 , y )      # MAE(Mean Absolute Error): |실제값-예측값|\n",
        "r2_score( 예측모델의 예측값 , y )                 # R-Squared(Coefficient of determination): 1일수록 높은 설명력"
      ],
      "metadata": {
        "id": "dr402s9TkNj1"
      },
      "execution_count": null,
      "outputs": []
    },
    {
      "cell_type": "code",
      "source": [
        "# 4. 모델 추론 - coef(상관계수, 상관계수 1증가마다 타겟의 증가량)와 intercept(절편- 해석 없음)\n",
        "simple_ols.coef_   / simple_ols.intercept_\n",
        "multiple_ols.coef_ / multiple_ols.intercept_\n",
        "poly_ols.coef_     / poly_ols.intercept_"
      ],
      "metadata": {
        "id": "87i9rNGIkQ5z"
      },
      "execution_count": null,
      "outputs": []
    },
    {
      "cell_type": "markdown",
      "source": [
        "\n",
        "\n",
        "---\n",
        "\n",
        "\n",
        "\n",
        "---\n",
        "\n"
      ],
      "metadata": {
        "id": "2e_cGhKallYK"
      }
    },
    {
      "cell_type": "markdown",
      "source": [
        "### 분류"
      ],
      "metadata": {
        "id": "uFVSTBbRwfmL"
      }
    },
    {
      "cell_type": "markdown",
      "source": [
        "#### 결정트리(Tree Based Model)"
      ],
      "metadata": {
        "id": "5pcVsHrKwre3"
      }
    },
    {
      "cell_type": "code",
      "source": [],
      "metadata": {
        "id": "Zc6J9ZdkwnlZ"
      },
      "execution_count": null,
      "outputs": []
    },
    {
      "cell_type": "markdown",
      "source": [
        "\n",
        "\n",
        "---\n",
        "\n",
        "\n",
        "\n",
        "---\n",
        "\n"
      ],
      "metadata": {
        "id": "6fFkKfybpkFn"
      }
    },
    {
      "cell_type": "markdown",
      "source": [
        "## 비지도-학습"
      ],
      "metadata": {
        "id": "kmPY9KyppgHd"
      }
    },
    {
      "cell_type": "markdown",
      "source": [
        "\n",
        "\n",
        "---\n",
        "\n",
        "\n",
        "\n",
        "---\n",
        "\n"
      ],
      "metadata": {
        "id": "bUxF_9JhplDG"
      }
    },
    {
      "cell_type": "markdown",
      "source": [
        "## 강화(Reinforcment)-학습: 보상/패널티로 많은 보상을 획득할 전략으로 예측"
      ],
      "metadata": {
        "id": "0umkmRhVpib2"
      }
    }
  ]
}