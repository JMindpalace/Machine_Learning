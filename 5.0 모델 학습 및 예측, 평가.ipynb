{
  "nbformat": 4,
  "nbformat_minor": 0,
  "metadata": {
    "colab": {
      "provenance": [],
      "authorship_tag": "ABX9TyMOLsR/c7YIe80kZs9mgoJx",
      "include_colab_link": true
    },
    "kernelspec": {
      "name": "python3",
      "display_name": "Python 3"
    },
    "language_info": {
      "name": "python"
    }
  },
  "cells": [
    {
      "cell_type": "markdown",
      "metadata": {
        "id": "view-in-github",
        "colab_type": "text"
      },
      "source": [
        "<a href=\"https://colab.research.google.com/github/JMindpalace/Machine_Learning/blob/main/5.0%20%EB%AA%A8%EB%8D%B8%20%ED%95%99%EC%8A%B5%20%EB%B0%8F%20%EC%98%88%EC%B8%A1%2C%20%ED%8F%89%EA%B0%80.ipynb\" target=\"_parent\"><img src=\"https://colab.research.google.com/assets/colab-badge.svg\" alt=\"Open In Colab\"/></a>"
      ]
    },
    {
      "cell_type": "markdown",
      "source": [
        "모델 개발 및 학습 <br>\n",
        "sklearn, keras 을 사용해 모델을 만듭니다. 파이썬에서 머신러닝을 할 때는 sklearn 을\n",
        "사용하면 수많은 알고리즘을 일관된 문법으로 사용할 수 있습니다. 또 keras는 딥러닝 개발\n",
        "할 때 모델에 집중할 수 있도록 해줍니다. 물론 딥러닝을 위해 tensorflow, pytorch 등을\n",
        "사용할 수 도 있습니다. 그리고 학습된 모델이 어떤 것을 학습하였는 지 확인해봅니다\n",
        "<br>\n",
        "\n",
        "모델 예측 및 평가<br>\n",
        "Train set 을 가지고 모델을 학습시킨 후, Test set 을 가지고 prediction 합니다.\n",
        "그리고 예측 성능이 원하는 수준인지 판단합니다.\n",
        "풀려는 문제에 따라 모델을 평가하는 방식도 달라집니다"
      ],
      "metadata": {
        "id": "J7BUpml1HehW"
      }
    }
  ]
}