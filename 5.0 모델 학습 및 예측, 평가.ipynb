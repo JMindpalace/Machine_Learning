{
  "nbformat": 4,
  "nbformat_minor": 0,
  "metadata": {
    "colab": {
      "provenance": [],
      "authorship_tag": "ABX9TyOjnhlLO0F0+bOTR/KYUdF6",
      "include_colab_link": true
    },
    "kernelspec": {
      "name": "python3",
      "display_name": "Python 3"
    },
    "language_info": {
      "name": "python"
    }
  },
  "cells": [
    {
      "cell_type": "markdown",
      "metadata": {
        "id": "view-in-github",
        "colab_type": "text"
      },
      "source": [
        "<a href=\"https://colab.research.google.com/github/JMindpalace/Machine_Learning/blob/main/5.0%20%EB%AA%A8%EB%8D%B8%20%ED%95%99%EC%8A%B5%20%EB%B0%8F%20%EC%98%88%EC%B8%A1%2C%20%ED%8F%89%EA%B0%80.ipynb\" target=\"_parent\"><img src=\"https://colab.research.google.com/assets/colab-badge.svg\" alt=\"Open In Colab\"/></a>"
      ]
    },
    {
      "cell_type": "markdown",
      "source": [
        "< 해당 페이지는 **머신러닝 - 모델의 설명과 학습, 예측과 평가**를 중점으로 다룬 페이지입니다.>\n",
        "\n",
        "> 크게 지도, 비지도, 강화 학습으로 분류되었으며<br>\n",
        "> 지도학습은 회귀와 분류로 중분류가 되어있고<br>\n",
        "\n",
        "> 주로 사용되는 모듈은 Sk-learn(머신러닝)과 keras(딥러닝)입니다.<br>\n",
        "> 딥러닝에는 tensorflow, pytorch도 가능합니다.\n",
        "\n",
        "> 기대 결과값: 일반화(Generalization, 테스트에 잘 적응하는 능력)가 잘되는 모델 선택<br>\n",
        "> 또한 모델의 과정을 이해하여 Black-box 문제도 해결"
      ],
      "metadata": {
        "id": "2xZqK6C_on-B"
      }
    },
    {
      "cell_type": "markdown",
      "source": [
        "# 모델 구분 및 주의사항, 파이프라인"
      ],
      "metadata": {
        "id": "28s8NKzLpb1F"
      }
    },
    {
      "cell_type": "code",
      "source": [
        "from sklearn.linear_model import LinearRegression # 선형회귀모델\n",
        "from sklearn.preprocessing import PolynomialFeatures # 선형회귀 - 다항선형모델\n",
        "from sklearn.metrics import mean_squared_error, mean_absolute_error, r2_score # 모델 성능 평가"
      ],
      "metadata": {
        "id": "LU8IzEl6s07Z"
      },
      "execution_count": null,
      "outputs": []
    },
    {
      "cell_type": "code",
      "source": [
        "Train.fit_transform # 데이터 학습 - 훈련, 검증(Val) 데이터는 fit와 transform까지 가능함\n",
        "Test.transform      # 데이터 변환 - 테스트 데이터의 경우 무조건 transform만 시행함\n",
        "\n",
        "fit Attributes( 끝에 _가 붙은 메소드)"
      ],
      "metadata": {
        "id": "m6xpB9wx8uh2"
      },
      "execution_count": null,
      "outputs": []
    },
    {
      "cell_type": "code",
      "source": [
        "# Pipeline(파이프라인) - 모델 계산을 위해 여러 번의 fit을 파이프라인으로 압축함\n",
        "make_pipeline(PolynomialFeatures(degree),\n",
        "              StandardScaler(),\n",
        "              LinearRegression(**kwargs))\n",
        "pipe = make_pipeline()\n",
        "pipe.fit(x,y)\n",
        "\n",
        "pipe.named_steps['linearregression'].coef_"
      ],
      "metadata": {
        "id": "MTvrI6stAdT1"
      },
      "execution_count": null,
      "outputs": []
    },
    {
      "cell_type": "markdown",
      "source": [
        "## 지도(Supervised)-학습: 답(Target)을 아는 모델을 훈련하여 규칙 도출"
      ],
      "metadata": {
        "id": "BE3xv_Bcpenk"
      }
    },
    {
      "cell_type": "markdown",
      "source": [
        "### 회귀(Regression)모델: 계속적인 타겟(트렌드, 경향 등)\n",
        "> 특성과 타겟의 선형적 관계(회귀계수로 표현)에서 최소 비용함수 찾기"
      ],
      "metadata": {
        "id": "CnrDjpvTwemv"
      }
    },
    {
      "cell_type": "code",
      "source": [
        "X, y = df.columns.drop('target'), df['target_data'] # int형"
      ],
      "metadata": {
        "id": "7S27yu5qMlhd"
      },
      "execution_count": null,
      "outputs": []
    },
    {
      "cell_type": "code",
      "source": [
        "# 0. 기준 모델 - 예측 모델을 판단(하한선)기준\n",
        "predict = df[target].mean() # 평균값 - 예측모델과 보간/외삽 비교에 사용\n",
        "base = predict * len(df)    # 기준모델 - 모델 성능 평가의 기준"
      ],
      "metadata": {
        "id": "1MY0i9OnjxaI"
      },
      "execution_count": null,
      "outputs": []
    },
    {
      "cell_type": "code",
      "source": [
        "from sklearn.linear_model import LinearRegression\n",
        "# 1. 예측 모델 - 선형(Linear) 회귀 모델(비용함수 RSS의 잔차를 최소로하는 OLS)\n",
        "# 단순 선형: X값은 df['1_feature']\n",
        "simple_ols = LinearRegression()\n",
        "simple_ols.fit(X,y)\n",
        "\n",
        "# 다중 선형: X값은 2개 이상 - df[ '1_feature' , '2_feature' ]\n",
        "multiple_ols = LinearRegression()\n",
        "multiple_ols.fit(X, y)\n",
        "\n",
        "# 다항 선형 회귀: 2차항(degree로 최고차항 조정) 이상의 식 - 독립&타겟 변수 사이에 비선형 관계 학습 가능\n",
        "from sklearn.preprocessing import PolynomialFeatures\n",
        "from sklearn.pipeline import make_pipeline\n",
        "\n",
        "def PolynomialRegression(degree=2, **kwargs):\n",
        "    return make_pipeline(PolynomialFeatures(degree), LinearRegression(**kwargs))\n",
        "\n",
        "poly_ols = PolynomialRegression(degree=2)\n",
        "poly_ols.fit(X, y)"
      ],
      "metadata": {
        "id": "SyDeIaf_j8cX"
      },
      "execution_count": null,
      "outputs": []
    },
    {
      "cell_type": "code",
      "source": [
        "# 2. 예측 모델의 예측값: 보간(Interploate, 학습구간 내) 과 외삽(Extrapolate, 학습구간 외)\n",
        "simp_predict = simple_ols.predict([[예측값]])[0]               # 단순 선형\n",
        "mult_predict = multiple_ols.predict([[ 예측값x, 예측값y ]])[0] # 다중 선형\n",
        "poly_predict = poly_ols.predict([[ 예측값x, 예측값y ]])[0]     # 다항 선형"
      ],
      "metadata": {
        "id": "82l-0qKQkBdq"
      },
      "execution_count": null,
      "outputs": []
    },
    {
      "cell_type": "code",
      "source": [
        "# 3. 모델 성능 평가\n",
        "from sklearn.metrics import mean_squared_error, mean_absolute_error, r2_score\n",
        "mse = mean_squared_error( 예측모델의 예측값 , y ) # MSE(Mean Squared Error): (실제값-예측값)제곱\n",
        "np.sqrt(mse)                                      # RMSE(Root MSE)\n",
        "mean_absolute_error( 예측모델의 예측값 , y )      # MAE(Mean Absolute Error): |실제값-예측값|\n",
        "r2_score( 예측모델의 예측값 , y )                 # R-Squared(Coefficient of determination): 1일수록 높은 설명력"
      ],
      "metadata": {
        "id": "dr402s9TkNj1"
      },
      "execution_count": null,
      "outputs": []
    },
    {
      "cell_type": "code",
      "source": [
        "# 4. 모델 추론 - coef(상관계수, 상관계수 1증가마다 타겟의 증가량)와 intercept(절편- 해석 없음)\n",
        "simple_ols.coef_   / simple_ols.intercept_\n",
        "multiple_ols.coef_ / multiple_ols.intercept_\n",
        "poly_ols.coef_     / poly_ols.intercept_"
      ],
      "metadata": {
        "id": "87i9rNGIkQ5z"
      },
      "execution_count": null,
      "outputs": []
    },
    {
      "cell_type": "markdown",
      "source": [
        "\n",
        "\n",
        "---\n",
        "\n",
        "\n",
        "\n",
        "---\n",
        "\n"
      ],
      "metadata": {
        "id": "2e_cGhKallYK"
      }
    },
    {
      "cell_type": "markdown",
      "source": [
        "### 분류(Classification)모델: 카테고리/클래스\n",
        "> 이진(Binary) / 다중(Multi-class) 분류 등 특정 범주에 속할 확률 예측"
      ],
      "metadata": {
        "id": "uFVSTBbRwfmL"
      }
    },
    {
      "cell_type": "markdown",
      "source": [
        "#### 로지스틱회귀(Logistic Regression)"
      ],
      "metadata": {
        "id": "e8uzKHONGzTX"
      }
    },
    {
      "cell_type": "code",
      "source": [
        "# 0. 기준모델 - 분류면 타겟의 최빈 클래스 / 시계열이면 타임스탬프의 값"
      ],
      "metadata": {
        "id": "TPM5HD4J-sfg"
      },
      "execution_count": null,
      "outputs": []
    },
    {
      "cell_type": "code",
      "source": [
        "# 1. 예측모델 - 로지스틱회귀sigmoid+선형회귀): 0~1사이의 값"
      ],
      "metadata": {
        "id": "gK73zNef-ysk"
      },
      "execution_count": null,
      "outputs": []
    },
    {
      "cell_type": "code",
      "source": [
        "# 2. 예측 모델의 예측값"
      ],
      "metadata": {
        "id": "yScfygw2-175"
      },
      "execution_count": null,
      "outputs": []
    },
    {
      "cell_type": "code",
      "source": [
        "# 3. 모델 성능 평가 - 레이블을 올바르게 학습했는지 정밀도로 검증\n",
        "\n",
        "# 정확도(Accuracy) = 올바른 예측/전체 예측\n",
        "# 정밀도(Precision) = 올바른 Positive 예측 / 예측 Positive(T+F) - 재현율과 반비례 관계\n",
        "# 재현율(Recall) = 올바른 Positive 예측 / 실제 Positive\n",
        "# F1 score = (2*정밀도) / (정밀도+재현율)\n",
        "\n",
        "# Confusion Matrix(혼동&오차행렬): 예측값과 실제 결과를 표시한 테이블"
      ],
      "metadata": {
        "id": "HHZxmmSg-4o6"
      },
      "execution_count": null,
      "outputs": []
    },
    {
      "cell_type": "code",
      "source": [
        "# 4. 예측(모델이 예측하는 확률)값을 평가하는 지표\n",
        "# ROC(Receiver Operating Characteristic): 임계값의 TPR, FPR의 비율\n",
        "# TPR = TP/P = TP/TP+FN = 1-FNR , 임계값이 1이면 TPR&FPR 모두 0\n",
        "# FPR = FP/N = FP/FP+TN = 1-TNR , 임계값이 0이면 TPR&FPR 모두 1\n",
        "\n",
        "# AUC(Area Under the Curve): ROC 곡선 아래면적, 1일수록 좋은 모델"
      ],
      "metadata": {
        "id": "z94HBFQ9CHPG"
      },
      "execution_count": null,
      "outputs": []
    },
    {
      "cell_type": "markdown",
      "source": [
        "### 회귀&분류 공통 모델\n",
        "> 결정트리(Tree Based Model)<br>\n",
        "> 타겟: (분류는 최빈값, 회귀는 평균)의 예측값"
      ],
      "metadata": {
        "id": "5pcVsHrKwre3"
      }
    },
    {
      "cell_type": "code",
      "source": [
        "# 결정트리(Decision Tree): 비용함수(분류는 불순도 / 회귀는 MSE)에 따라 분기\n",
        "\n",
        "# Imformation Gain(엔트로피)\n",
        "\n",
        "# Gini Impurity(지니불순도)\n",
        "\n",
        "# 모델 해석은 시각화와 특성중요도"
      ],
      "metadata": {
        "id": "Zc6J9ZdkwnlZ"
      },
      "execution_count": null,
      "outputs": []
    },
    {
      "cell_type": "code",
      "source": [
        "# 앙상블 중 Bagging: Boot-strapped(OOB, 추출안된 샘플) > 분기(일부 랜덤 특성 선택) > 앞의 2과정 반복(독립&병렬적)\n",
        "# 랜덤-포레스트(Random-Forest): 분류는 다수결, 회귀는 평균의 전체 결과를 집계(Var를 줄여 과적합 해결)"
      ],
      "metadata": {
        "id": "kcAEt8r3Hfjc"
      },
      "execution_count": null,
      "outputs": []
    },
    {
      "cell_type": "code",
      "source": [
        "# 앙상블 중 Boosting: 이전 모델의 오류를 보완하며 순차적 모델 학습(Bias를 줄여 과소적합 해결)\n",
        "# AdaBoost: 분류문제에 적합, 이상치에 민감, 샘플링 후 잘못 분류된 관측치에 가중치를 부여하여 다음 샘플링에 반영\n",
        "\n",
        "# Gradient Boosting: 회귀&분류 모두 적합, 잔차를 학습하여 잔차를 줄이는 방식"
      ],
      "metadata": {
        "id": "K5r3SCkCHlbB"
      },
      "execution_count": null,
      "outputs": []
    },
    {
      "cell_type": "markdown",
      "source": [
        "\n",
        "\n",
        "---\n",
        "\n",
        "\n",
        "\n",
        "---\n",
        "\n"
      ],
      "metadata": {
        "id": "6fFkKfybpkFn"
      }
    },
    {
      "cell_type": "markdown",
      "source": [
        "## 비지도(Un-supervised)-학습: 답이 없는 데이터 구조나 패턴 탐색\n",
        "> 지도학습의 전처리에도 사용 가능"
      ],
      "metadata": {
        "id": "kmPY9KyppgHd"
      }
    },
    {
      "cell_type": "markdown",
      "source": [
        "### Clustering(클러스터링): 비슷한 성질의 데이터끼리 묶는 방법"
      ],
      "metadata": {
        "id": "3zvayxWd_glT"
      }
    },
    {
      "cell_type": "code",
      "source": [
        "# 중요 포인트 1. 그룹의 수"
      ],
      "metadata": {
        "id": "zw38eEpH_np9"
      },
      "execution_count": null,
      "outputs": []
    },
    {
      "cell_type": "code",
      "source": [
        "# 중요 포인트 2. 유사도의 정의"
      ],
      "metadata": {
        "id": "D1s_2WnJ_6gt"
      },
      "execution_count": null,
      "outputs": []
    },
    {
      "cell_type": "code",
      "source": [
        "# Elbow method : 최적의 클러스터 개수 찾기"
      ],
      "metadata": {
        "id": "XkdMpMJ8ACAP"
      },
      "execution_count": null,
      "outputs": []
    },
    {
      "cell_type": "markdown",
      "source": [
        "\n",
        "\n",
        "---\n",
        "\n",
        "\n",
        "\n",
        "---\n",
        "\n"
      ],
      "metadata": {
        "id": "bUxF_9JhplDG"
      }
    },
    {
      "cell_type": "markdown",
      "source": [
        "## 강화(Reinforcment)-학습: 보상/패널티로 많은 보상을 획득할 전략으로 예측"
      ],
      "metadata": {
        "id": "0umkmRhVpib2"
      }
    }
  ]
}